{
 "cells": [
  {
   "cell_type": "code",
   "execution_count": 1,
   "metadata": {},
   "outputs": [],
   "source": [
    "import numpy as np\n",
    "import pandas as pd"
   ]
  },
  {
   "cell_type": "markdown",
   "metadata": {},
   "source": [
    "### CSV 파일 읽기"
   ]
  },
  {
   "cell_type": "code",
   "execution_count": 2,
   "metadata": {},
   "outputs": [
    {
     "data": {
      "text/html": [
       "<div>\n",
       "<style scoped>\n",
       "    .dataframe tbody tr th:only-of-type {\n",
       "        vertical-align: middle;\n",
       "    }\n",
       "\n",
       "    .dataframe tbody tr th {\n",
       "        vertical-align: top;\n",
       "    }\n",
       "\n",
       "    .dataframe thead th {\n",
       "        text-align: right;\n",
       "    }\n",
       "</style>\n",
       "<table border=\"1\" class=\"dataframe\">\n",
       "  <thead>\n",
       "    <tr style=\"text-align: right;\">\n",
       "      <th></th>\n",
       "      <th>name</th>\n",
       "      <th>date</th>\n",
       "      <th>num1</th>\n",
       "      <th>num2</th>\n",
       "    </tr>\n",
       "  </thead>\n",
       "  <tbody>\n",
       "    <tr>\n",
       "      <th>0</th>\n",
       "      <td>String_0513</td>\n",
       "      <td>2019:09:26 09:26:43</td>\n",
       "      <td>66</td>\n",
       "      <td>1</td>\n",
       "    </tr>\n",
       "    <tr>\n",
       "      <th>1</th>\n",
       "      <td>String_0514</td>\n",
       "      <td>2019:09:26 09:26:51</td>\n",
       "      <td>36</td>\n",
       "      <td>78</td>\n",
       "    </tr>\n",
       "    <tr>\n",
       "      <th>2</th>\n",
       "      <td>String_0515</td>\n",
       "      <td>2019:09:26 09:27:04</td>\n",
       "      <td>68</td>\n",
       "      <td>79</td>\n",
       "    </tr>\n",
       "    <tr>\n",
       "      <th>3</th>\n",
       "      <td>String_0516</td>\n",
       "      <td>2019:09:26 09:27:11</td>\n",
       "      <td>35</td>\n",
       "      <td>7</td>\n",
       "    </tr>\n",
       "    <tr>\n",
       "      <th>4</th>\n",
       "      <td>String_0517</td>\n",
       "      <td>2019:09:26 09:27:19</td>\n",
       "      <td>81</td>\n",
       "      <td>38</td>\n",
       "    </tr>\n",
       "  </tbody>\n",
       "</table>\n",
       "</div>"
      ],
      "text/plain": [
       "          name                 date  num1  num2\n",
       "0  String_0513  2019:09:26 09:26:43    66     1\n",
       "1  String_0514  2019:09:26 09:26:51    36    78\n",
       "2  String_0515  2019:09:26 09:27:04    68    79\n",
       "3  String_0516  2019:09:26 09:27:11    35     7\n",
       "4  String_0517  2019:09:26 09:27:19    81    38"
      ]
     },
     "execution_count": 2,
     "metadata": {},
     "output_type": "execute_result"
    }
   ],
   "source": [
    "df = pd.read_csv('test.csv')\n",
    "df.head()"
   ]
  },
  {
   "cell_type": "markdown",
   "metadata": {},
   "source": [
    "### `str` 메서드 사용\n",
    "- 파이썬 string에 존재하는 메서드 대부분을 사용할 수 있다"
   ]
  },
  {
   "cell_type": "code",
   "execution_count": 3,
   "metadata": {},
   "outputs": [
    {
     "data": {
      "text/plain": [
       "0      11\n",
       "1      11\n",
       "2      11\n",
       "3      11\n",
       "4      11\n",
       "       ..\n",
       "138    11\n",
       "139    11\n",
       "140    11\n",
       "141    11\n",
       "142    11\n",
       "Name: name, Length: 143, dtype: int64"
      ]
     },
     "execution_count": 3,
     "metadata": {},
     "output_type": "execute_result"
    }
   ],
   "source": [
    "df['name'].str.len()"
   ]
  },
  {
   "cell_type": "code",
   "execution_count": 4,
   "metadata": {},
   "outputs": [
    {
     "data": {
      "text/plain": [
       "0      string_0513\n",
       "1      string_0514\n",
       "2      string_0515\n",
       "3      string_0516\n",
       "4      string_0517\n",
       "          ...     \n",
       "138    string_0651\n",
       "139    string_0652\n",
       "140    string_0653\n",
       "141    string_0654\n",
       "142    string_0655\n",
       "Name: name, Length: 143, dtype: object"
      ]
     },
     "execution_count": 4,
     "metadata": {},
     "output_type": "execute_result"
    }
   ],
   "source": [
    "df['name'].str.lower()"
   ]
  },
  {
   "cell_type": "code",
   "execution_count": 5,
   "metadata": {},
   "outputs": [
    {
     "data": {
      "text/plain": [
       "0      STRING_0513\n",
       "1      STRING_0514\n",
       "2      STRING_0515\n",
       "3      STRING_0516\n",
       "4      STRING_0517\n",
       "          ...     \n",
       "138    STRING_0651\n",
       "139    STRING_0652\n",
       "140    STRING_0653\n",
       "141    STRING_0654\n",
       "142    STRING_0655\n",
       "Name: name, Length: 143, dtype: object"
      ]
     },
     "execution_count": 5,
     "metadata": {},
     "output_type": "execute_result"
    }
   ],
   "source": [
    "df['name'].str.upper()"
   ]
  },
  {
   "cell_type": "code",
   "execution_count": 6,
   "metadata": {},
   "outputs": [
    {
     "data": {
      "text/plain": [
       "0      [String, 0513]\n",
       "1      [String, 0514]\n",
       "2      [String, 0515]\n",
       "3      [String, 0516]\n",
       "4      [String, 0517]\n",
       "            ...      \n",
       "138    [String, 0651]\n",
       "139    [String, 0652]\n",
       "140    [String, 0653]\n",
       "141    [String, 0654]\n",
       "142    [String, 0655]\n",
       "Name: name, Length: 143, dtype: object"
      ]
     },
     "execution_count": 6,
     "metadata": {},
     "output_type": "execute_result"
    }
   ],
   "source": [
    "df['name'].str.split('_')"
   ]
  },
  {
   "cell_type": "markdown",
   "metadata": {},
   "source": [
    "### 정규 표현식 사용\n",
    "str 속성을 통해 다양한 문자열 처리를 할 수 있다.\n",
    "- match() : 각각의 원소에 `re.match()`를 호출함"
   ]
  },
  {
   "cell_type": "code",
   "execution_count": 7,
   "metadata": {},
   "outputs": [
    {
     "data": {
      "text/plain": [
       "0       True\n",
       "1       True\n",
       "2       True\n",
       "3       True\n",
       "4       True\n",
       "       ...  \n",
       "138    False\n",
       "139    False\n",
       "140    False\n",
       "141    False\n",
       "142    False\n",
       "Name: name, Length: 143, dtype: bool"
      ]
     },
     "execution_count": 7,
     "metadata": {},
     "output_type": "execute_result"
    }
   ],
   "source": [
    "df['name'].str.match(r'.*_05\\d{2}')"
   ]
  },
  {
   "cell_type": "markdown",
   "metadata": {},
   "source": [
    "- extract() : 각각의 원소에 `re.match()`를 호출한다. 리턴값은 매칭된 그룹들"
   ]
  },
  {
   "cell_type": "code",
   "execution_count": 8,
   "metadata": {},
   "outputs": [
    {
     "data": {
      "text/html": [
       "<div>\n",
       "<style scoped>\n",
       "    .dataframe tbody tr th:only-of-type {\n",
       "        vertical-align: middle;\n",
       "    }\n",
       "\n",
       "    .dataframe tbody tr th {\n",
       "        vertical-align: top;\n",
       "    }\n",
       "\n",
       "    .dataframe thead th {\n",
       "        text-align: right;\n",
       "    }\n",
       "</style>\n",
       "<table border=\"1\" class=\"dataframe\">\n",
       "  <thead>\n",
       "    <tr style=\"text-align: right;\">\n",
       "      <th></th>\n",
       "      <th>0</th>\n",
       "      <th>1</th>\n",
       "    </tr>\n",
       "  </thead>\n",
       "  <tbody>\n",
       "    <tr>\n",
       "      <th>0</th>\n",
       "      <td>String</td>\n",
       "      <td>13</td>\n",
       "    </tr>\n",
       "    <tr>\n",
       "      <th>1</th>\n",
       "      <td>String</td>\n",
       "      <td>14</td>\n",
       "    </tr>\n",
       "    <tr>\n",
       "      <th>2</th>\n",
       "      <td>String</td>\n",
       "      <td>15</td>\n",
       "    </tr>\n",
       "    <tr>\n",
       "      <th>3</th>\n",
       "      <td>String</td>\n",
       "      <td>16</td>\n",
       "    </tr>\n",
       "    <tr>\n",
       "      <th>4</th>\n",
       "      <td>String</td>\n",
       "      <td>17</td>\n",
       "    </tr>\n",
       "    <tr>\n",
       "      <th>...</th>\n",
       "      <td>...</td>\n",
       "      <td>...</td>\n",
       "    </tr>\n",
       "    <tr>\n",
       "      <th>138</th>\n",
       "      <td>NaN</td>\n",
       "      <td>NaN</td>\n",
       "    </tr>\n",
       "    <tr>\n",
       "      <th>139</th>\n",
       "      <td>NaN</td>\n",
       "      <td>NaN</td>\n",
       "    </tr>\n",
       "    <tr>\n",
       "      <th>140</th>\n",
       "      <td>NaN</td>\n",
       "      <td>NaN</td>\n",
       "    </tr>\n",
       "    <tr>\n",
       "      <th>141</th>\n",
       "      <td>NaN</td>\n",
       "      <td>NaN</td>\n",
       "    </tr>\n",
       "    <tr>\n",
       "      <th>142</th>\n",
       "      <td>NaN</td>\n",
       "      <td>NaN</td>\n",
       "    </tr>\n",
       "  </tbody>\n",
       "</table>\n",
       "<p>143 rows × 2 columns</p>\n",
       "</div>"
      ],
      "text/plain": [
       "          0    1\n",
       "0    String   13\n",
       "1    String   14\n",
       "2    String   15\n",
       "3    String   16\n",
       "4    String   17\n",
       "..      ...  ...\n",
       "138     NaN  NaN\n",
       "139     NaN  NaN\n",
       "140     NaN  NaN\n",
       "141     NaN  NaN\n",
       "142     NaN  NaN\n",
       "\n",
       "[143 rows x 2 columns]"
      ]
     },
     "execution_count": 8,
     "metadata": {},
     "output_type": "execute_result"
    }
   ],
   "source": [
    "df['name'].str.extract(r'(.*)_05(\\d{2})')"
   ]
  },
  {
   "cell_type": "markdown",
   "metadata": {},
   "source": [
    "- findall() : 각각의 원소에 `re.findall()`을 호출한다"
   ]
  },
  {
   "cell_type": "code",
   "execution_count": 9,
   "metadata": {},
   "outputs": [
    {
     "data": {
      "text/plain": [
       "0      [05, 13]\n",
       "1      [05, 14]\n",
       "2      [05, 15]\n",
       "3      [05, 16]\n",
       "4      [05, 17]\n",
       "         ...   \n",
       "138    [06, 51]\n",
       "139    [06, 52]\n",
       "140    [06, 53]\n",
       "141    [06, 54]\n",
       "142    [06, 55]\n",
       "Name: name, Length: 143, dtype: object"
      ]
     },
     "execution_count": 9,
     "metadata": {},
     "output_type": "execute_result"
    }
   ],
   "source": [
    "df['name'].str.findall('\\d{2}')"
   ]
  },
  {
   "cell_type": "markdown",
   "metadata": {},
   "source": [
    "- replace() : 매칭되는 패턴을 다른 문자열로 바꾼다"
   ]
  },
  {
   "cell_type": "code",
   "execution_count": 10,
   "metadata": {},
   "outputs": [
    {
     "data": {
      "text/plain": [
       "0      Revise_0513\n",
       "1      Revise_0514\n",
       "2      Revise_0515\n",
       "3      Revise_0516\n",
       "4      Revise_0517\n",
       "          ...     \n",
       "138    Revise_0651\n",
       "139    Revise_0652\n",
       "140    Revise_0653\n",
       "141    Revise_0654\n",
       "142    Revise_0655\n",
       "Name: name, Length: 143, dtype: object"
      ]
     },
     "execution_count": 10,
     "metadata": {},
     "output_type": "execute_result"
    }
   ],
   "source": [
    "df['name'].str.replace('String', 'Revise')"
   ]
  },
  {
   "cell_type": "markdown",
   "metadata": {},
   "source": [
    "### 날짜 데이터 처리하기\n",
    "- 날짜 타입 데이터로 변경하기"
   ]
  },
  {
   "cell_type": "code",
   "execution_count": 11,
   "metadata": {},
   "outputs": [
    {
     "data": {
      "text/plain": [
       "0     2019-09-26 09:26:43\n",
       "1     2019-09-26 09:26:51\n",
       "2     2019-09-26 09:27:04\n",
       "3     2019-09-26 09:27:11\n",
       "4     2019-09-26 09:27:19\n",
       "              ...        \n",
       "138   2019-09-26 11:27:07\n",
       "139   2019-09-26 11:28:00\n",
       "140   2019-09-26 11:28:09\n",
       "141   2019-09-26 11:28:17\n",
       "142   2019-09-26 11:28:23\n",
       "Name: date, Length: 143, dtype: datetime64[ns]"
      ]
     },
     "execution_count": 11,
     "metadata": {},
     "output_type": "execute_result"
    }
   ],
   "source": [
    "date_df = pd.to_datetime(df['date'], format='%Y:%m:%d %H:%M:%S')\n",
    "date_df"
   ]
  },
  {
   "cell_type": "markdown",
   "metadata": {},
   "source": [
    "- 날짜 데이터를 다른 문자열 포맷으로 변경하기"
   ]
  },
  {
   "cell_type": "code",
   "execution_count": 12,
   "metadata": {},
   "outputs": [
    {
     "data": {
      "text/plain": [
       "0      2019-09-26 09:26:43\n",
       "1      2019-09-26 09:26:51\n",
       "2      2019-09-26 09:27:04\n",
       "3      2019-09-26 09:27:11\n",
       "4      2019-09-26 09:27:19\n",
       "              ...         \n",
       "138    2019-09-26 11:27:07\n",
       "139    2019-09-26 11:28:00\n",
       "140    2019-09-26 11:28:09\n",
       "141    2019-09-26 11:28:17\n",
       "142    2019-09-26 11:28:23\n",
       "Name: date, Length: 143, dtype: object"
      ]
     },
     "execution_count": 12,
     "metadata": {},
     "output_type": "execute_result"
    }
   ],
   "source": [
    "date_df.dt.strftime('%Y-%m-%d %H:%M:%S')"
   ]
  },
  {
   "cell_type": "code",
   "execution_count": null,
   "metadata": {},
   "outputs": [],
   "source": []
  }
 ],
 "metadata": {
  "kernelspec": {
   "display_name": "Python 3",
   "language": "python",
   "name": "python3"
  },
  "language_info": {
   "codemirror_mode": {
    "name": "ipython",
    "version": 3
   },
   "file_extension": ".py",
   "mimetype": "text/x-python",
   "name": "python",
   "nbconvert_exporter": "python",
   "pygments_lexer": "ipython3",
   "version": "3.7.4"
  }
 },
 "nbformat": 4,
 "nbformat_minor": 2
}
