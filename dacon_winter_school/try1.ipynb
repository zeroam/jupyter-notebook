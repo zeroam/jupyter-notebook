{
 "cells": [
  {
   "cell_type": "code",
   "execution_count": 1,
   "metadata": {
    "colab": {
     "base_uri": "https://localhost:8080/",
     "height": 52
    },
    "colab_type": "code",
    "executionInfo": {
     "elapsed": 9921,
     "status": "ok",
     "timestamp": 1576988963052,
     "user": {
      "displayName": "무욕깨",
      "photoUrl": "",
      "userId": "02246969783298719147"
     },
     "user_tz": -540
    },
    "id": "96qo4ksyYzzn",
    "outputId": "9176e9b2-409a-4ebd-f7cf-5ee144c29bd8"
   },
   "outputs": [
    {
     "name": "stdout",
     "output_type": "stream",
     "text": [
      "2.0.0\n"
     ]
    }
   ],
   "source": [
    "# %tensorflow_version 2.x\n",
    "\n",
    "import pathlib\n",
    "\n",
    "import matplotlib.pyplot as plt\n",
    "import pandas as pd\n",
    "import seaborn as sns; sns.set()\n",
    "\n",
    "import tensorflow as tf\n",
    "from tensorflow import keras\n",
    "from tensorflow.keras import layers\n",
    "import os\n",
    "\n",
    "print(tf.__version__)"
   ]
  },
  {
   "cell_type": "code",
   "execution_count": 2,
   "metadata": {
    "colab": {},
    "colab_type": "code",
    "id": "fLKwmRaSYzzx"
   },
   "outputs": [],
   "source": [
    "train_data_path = \"train.csv\"\n",
    "test_data_path = \"test.csv\""
   ]
  },
  {
   "cell_type": "code",
   "execution_count": 3,
   "metadata": {
    "colab": {},
    "colab_type": "code",
    "id": "mvfzn8CEYzz8"
   },
   "outputs": [],
   "source": [
    "column_names = ['date','station_code' ,'in_out', 'latitude', 'longitude',\n",
    "                '6~7_ride', '7~8_ride', '8~9_ride',\n",
    "                '9~10_ride', '10~11_ride', '11~12_ride',\n",
    "                '6~7_takeoff', '7~8_takeoff', '8~9_takeoff',\n",
    "                '9~10_takeoff', '10~11_takeoff','11~12_takeoff', '18~20_ride']\n",
    "\n",
    "raw_dataset = pd.read_csv(train_data_path, usecols=column_names,\n",
    "                          na_values='?', skipinitialspace=True)\n",
    "\n",
    "train = raw_dataset.copy()"
   ]
  },
  {
   "cell_type": "code",
   "execution_count": 4,
   "metadata": {
    "colab": {},
    "colab_type": "code",
    "id": "baU4Jb4rYz0C"
   },
   "outputs": [],
   "source": [
    "train['date'] = pd.to_datetime(train['date'])\n",
    "train['date_feature'] = train['date'].dt.weekday\n",
    "train.loc[train['date_feature'] < 5, 'date_feature'] = 0 # 0 => 평일\n",
    "train.loc[train['date_feature'] >= 5, 'date_feature'] = 1 # 1 => 주말\n",
    "train.loc[train['date'] =='2019-09-12 00:00:00', 'date_feature'] = 2\n",
    "train.loc[train['date'] =='2019-09-13 00:00:00', 'date_feature'] = 2\n",
    "train.loc[train['date'] =='2019-09-14 00:00:00', 'date_feature'] = 2\n",
    "\n",
    "test = pd.read_csv(test_data_path)\n",
    "test['date'] = pd.to_datetime(test['date'])\n",
    "test['date_feature'] = test['date'].dt.weekday\n",
    "test.loc[test['date_feature'] < 5, 'date_feature'] = 0 # 0 => 평일\n",
    "test.loc[test['date_feature'] >= 5, 'date_feature'] = 1 # 1 => 주말\n",
    "test.loc[test['date'] =='2019-10-03 00:00:00', 'date_feature'] = 2 # 휴일\n",
    "test.loc[test['date'] =='2019-10-09 00:00:00', 'date_feature'] = 2"
   ]
  },
  {
   "cell_type": "code",
   "execution_count": 5,
   "metadata": {
    "colab": {
     "base_uri": "https://localhost:8080/",
     "height": 299
    },
    "colab_type": "code",
    "executionInfo": {
     "elapsed": 11570,
     "status": "ok",
     "timestamp": 1576988965339,
     "user": {
      "displayName": "무욕깨",
      "photoUrl": "",
      "userId": "02246969783298719147"
     },
     "user_tz": -540
    },
    "id": "-5Yc3do-Yz0F",
    "outputId": "97d0a4f2-3ddb-4044-9f4a-521c7603ea4b"
   },
   "outputs": [
    {
     "data": {
      "text/html": [
       "<div>\n",
       "<style scoped>\n",
       "    .dataframe tbody tr th:only-of-type {\n",
       "        vertical-align: middle;\n",
       "    }\n",
       "\n",
       "    .dataframe tbody tr th {\n",
       "        vertical-align: top;\n",
       "    }\n",
       "\n",
       "    .dataframe thead th {\n",
       "        text-align: right;\n",
       "    }\n",
       "</style>\n",
       "<table border=\"1\" class=\"dataframe\">\n",
       "  <thead>\n",
       "    <tr style=\"text-align: right;\">\n",
       "      <th></th>\n",
       "      <th>date</th>\n",
       "      <th>in_out</th>\n",
       "      <th>station_code</th>\n",
       "      <th>latitude</th>\n",
       "      <th>longitude</th>\n",
       "      <th>6~7_ride</th>\n",
       "      <th>7~8_ride</th>\n",
       "      <th>8~9_ride</th>\n",
       "      <th>9~10_ride</th>\n",
       "      <th>10~11_ride</th>\n",
       "      <th>11~12_ride</th>\n",
       "      <th>6~7_takeoff</th>\n",
       "      <th>7~8_takeoff</th>\n",
       "      <th>8~9_takeoff</th>\n",
       "      <th>9~10_takeoff</th>\n",
       "      <th>10~11_takeoff</th>\n",
       "      <th>11~12_takeoff</th>\n",
       "      <th>18~20_ride</th>\n",
       "      <th>date_feature</th>\n",
       "    </tr>\n",
       "  </thead>\n",
       "  <tbody>\n",
       "    <tr>\n",
       "      <td>0</td>\n",
       "      <td>2019-09-01</td>\n",
       "      <td>시외</td>\n",
       "      <td>344</td>\n",
       "      <td>33.48990</td>\n",
       "      <td>126.49373</td>\n",
       "      <td>0.0</td>\n",
       "      <td>1.0</td>\n",
       "      <td>2.0</td>\n",
       "      <td>5.0</td>\n",
       "      <td>2.0</td>\n",
       "      <td>6.0</td>\n",
       "      <td>0.0</td>\n",
       "      <td>0.0</td>\n",
       "      <td>0.0</td>\n",
       "      <td>0.0</td>\n",
       "      <td>0.0</td>\n",
       "      <td>0.0</td>\n",
       "      <td>0.0</td>\n",
       "      <td>1</td>\n",
       "    </tr>\n",
       "    <tr>\n",
       "      <td>1</td>\n",
       "      <td>2019-09-01</td>\n",
       "      <td>시외</td>\n",
       "      <td>357</td>\n",
       "      <td>33.48944</td>\n",
       "      <td>126.48508</td>\n",
       "      <td>1.0</td>\n",
       "      <td>4.0</td>\n",
       "      <td>4.0</td>\n",
       "      <td>2.0</td>\n",
       "      <td>5.0</td>\n",
       "      <td>6.0</td>\n",
       "      <td>0.0</td>\n",
       "      <td>0.0</td>\n",
       "      <td>0.0</td>\n",
       "      <td>0.0</td>\n",
       "      <td>0.0</td>\n",
       "      <td>0.0</td>\n",
       "      <td>5.0</td>\n",
       "      <td>1</td>\n",
       "    </tr>\n",
       "    <tr>\n",
       "      <td>2</td>\n",
       "      <td>2019-09-01</td>\n",
       "      <td>시외</td>\n",
       "      <td>432</td>\n",
       "      <td>33.48181</td>\n",
       "      <td>126.47352</td>\n",
       "      <td>1.0</td>\n",
       "      <td>1.0</td>\n",
       "      <td>0.0</td>\n",
       "      <td>2.0</td>\n",
       "      <td>0.0</td>\n",
       "      <td>0.0</td>\n",
       "      <td>0.0</td>\n",
       "      <td>0.0</td>\n",
       "      <td>0.0</td>\n",
       "      <td>0.0</td>\n",
       "      <td>0.0</td>\n",
       "      <td>0.0</td>\n",
       "      <td>2.0</td>\n",
       "      <td>1</td>\n",
       "    </tr>\n",
       "    <tr>\n",
       "      <td>3</td>\n",
       "      <td>2019-09-01</td>\n",
       "      <td>시내</td>\n",
       "      <td>1579</td>\n",
       "      <td>33.50577</td>\n",
       "      <td>126.49252</td>\n",
       "      <td>0.0</td>\n",
       "      <td>17.0</td>\n",
       "      <td>6.0</td>\n",
       "      <td>26.0</td>\n",
       "      <td>14.0</td>\n",
       "      <td>16.0</td>\n",
       "      <td>0.0</td>\n",
       "      <td>0.0</td>\n",
       "      <td>0.0</td>\n",
       "      <td>0.0</td>\n",
       "      <td>0.0</td>\n",
       "      <td>0.0</td>\n",
       "      <td>53.0</td>\n",
       "      <td>1</td>\n",
       "    </tr>\n",
       "    <tr>\n",
       "      <td>4</td>\n",
       "      <td>2019-09-01</td>\n",
       "      <td>시내</td>\n",
       "      <td>1646</td>\n",
       "      <td>33.25579</td>\n",
       "      <td>126.41260</td>\n",
       "      <td>0.0</td>\n",
       "      <td>0.0</td>\n",
       "      <td>0.0</td>\n",
       "      <td>0.0</td>\n",
       "      <td>0.0</td>\n",
       "      <td>0.0</td>\n",
       "      <td>0.0</td>\n",
       "      <td>0.0</td>\n",
       "      <td>0.0</td>\n",
       "      <td>1.0</td>\n",
       "      <td>0.0</td>\n",
       "      <td>0.0</td>\n",
       "      <td>0.0</td>\n",
       "      <td>1</td>\n",
       "    </tr>\n",
       "  </tbody>\n",
       "</table>\n",
       "</div>"
      ],
      "text/plain": [
       "        date in_out  station_code  latitude  longitude  6~7_ride  7~8_ride  \\\n",
       "0 2019-09-01     시외           344  33.48990  126.49373       0.0       1.0   \n",
       "1 2019-09-01     시외           357  33.48944  126.48508       1.0       4.0   \n",
       "2 2019-09-01     시외           432  33.48181  126.47352       1.0       1.0   \n",
       "3 2019-09-01     시내          1579  33.50577  126.49252       0.0      17.0   \n",
       "4 2019-09-01     시내          1646  33.25579  126.41260       0.0       0.0   \n",
       "\n",
       "   8~9_ride  9~10_ride  10~11_ride  11~12_ride  6~7_takeoff  7~8_takeoff  \\\n",
       "0       2.0        5.0         2.0         6.0          0.0          0.0   \n",
       "1       4.0        2.0         5.0         6.0          0.0          0.0   \n",
       "2       0.0        2.0         0.0         0.0          0.0          0.0   \n",
       "3       6.0       26.0        14.0        16.0          0.0          0.0   \n",
       "4       0.0        0.0         0.0         0.0          0.0          0.0   \n",
       "\n",
       "   8~9_takeoff  9~10_takeoff  10~11_takeoff  11~12_takeoff  18~20_ride  \\\n",
       "0          0.0           0.0            0.0            0.0         0.0   \n",
       "1          0.0           0.0            0.0            0.0         5.0   \n",
       "2          0.0           0.0            0.0            0.0         2.0   \n",
       "3          0.0           0.0            0.0            0.0        53.0   \n",
       "4          0.0           1.0            0.0            0.0         0.0   \n",
       "\n",
       "   date_feature  \n",
       "0             1  \n",
       "1             1  \n",
       "2             1  \n",
       "3             1  \n",
       "4             1  "
      ]
     },
     "execution_count": 5,
     "metadata": {},
     "output_type": "execute_result"
    }
   ],
   "source": [
    "train.head()"
   ]
  },
  {
   "cell_type": "code",
   "execution_count": 6,
   "metadata": {
    "colab": {},
    "colab_type": "code",
    "id": "QhYJV6tlYz0M"
   },
   "outputs": [],
   "source": [
    "train['in_out'] = train['in_out'].map({'시내' : 0, '시외' : 1})\n",
    "test['in_out'] = test['in_out'].map({'시내' : 0 , '시외' : 1})"
   ]
  },
  {
   "cell_type": "code",
   "execution_count": 7,
   "metadata": {
    "colab": {
     "base_uri": "https://localhost:8080/",
     "height": 158
    },
    "colab_type": "code",
    "executionInfo": {
     "elapsed": 17252,
     "status": "ok",
     "timestamp": 1576988971310,
     "user": {
      "displayName": "무욕깨",
      "photoUrl": "",
      "userId": "02246969783298719147"
     },
     "user_tz": -540
    },
    "id": "VJzo56keYz0R",
    "outputId": "e3be858d-05db-4e0d-e375-9410badbfdfb"
   },
   "outputs": [
    {
     "name": "stdout",
     "output_type": "stream",
     "text": [
      "Requirement already satisfied: pyresample in c:\\users\\imdff\\anaconda3\\lib\\site-packages (1.13.2)\n",
      "Requirement already satisfied: configobj in c:\\users\\imdff\\anaconda3\\lib\\site-packages (from pyresample) (5.0.6)\n",
      "Requirement already satisfied: pykdtree>=1.3.1 in c:\\users\\imdff\\anaconda3\\lib\\site-packages (from pyresample) (1.3.1)\n",
      "Requirement already satisfied: six in c:\\users\\imdff\\appdata\\roaming\\python\\python37\\site-packages (from pyresample) (1.12.0)\n",
      "Requirement already satisfied: numpy>=1.10.0 in c:\\users\\imdff\\anaconda3\\lib\\site-packages (from pyresample) (1.16.5)\n",
      "Requirement already satisfied: setuptools>=3.2 in c:\\users\\imdff\\appdata\\roaming\\python\\python37\\site-packages (from pyresample) (41.2.0)\n",
      "Requirement already satisfied: pyyaml in c:\\users\\imdff\\anaconda3\\lib\\site-packages (from pyresample) (5.1.2)\n",
      "Requirement already satisfied: pyproj>=1.9.5.1 in c:\\users\\imdff\\anaconda3\\lib\\site-packages (from pyresample) (1.9.6)\n"
     ]
    }
   ],
   "source": [
    "!pip install pyresample\n",
    "import pyresample\n",
    "import numpy as np"
   ]
  },
  {
   "cell_type": "code",
   "execution_count": 8,
   "metadata": {
    "colab": {},
    "colab_type": "code",
    "id": "GZOOsY3sYz0W"
   },
   "outputs": [],
   "source": [
    "#!pip install pyresample"
   ]
  },
  {
   "cell_type": "code",
   "execution_count": 9,
   "metadata": {
    "colab": {},
    "colab_type": "code",
    "id": "sPiCXsyRYz0a"
   },
   "outputs": [],
   "source": [
    "lon = np.linspace(train['longitude'].min(), train['longitude'].max(), 50)\n",
    "lat = np.linspace(train['latitude'].min(), train['latitude'].max(), 50)\n",
    "\n",
    "# 제일 거리가 가까운 grid 인덱스 찾기\n",
    "def geo_idx(dd, dd_array):\n",
    "    geo_idx = (np.abs(dd_array - dd)).argmin()\n",
    "    return geo_idx"
   ]
  },
  {
   "cell_type": "code",
   "execution_count": 10,
   "metadata": {
    "colab": {
     "base_uri": "https://localhost:8080/",
     "height": 299
    },
    "colab_type": "code",
    "executionInfo": {
     "elapsed": 18475,
     "status": "ok",
     "timestamp": 1576988973264,
     "user": {
      "displayName": "무욕깨",
      "photoUrl": "",
      "userId": "02246969783298719147"
     },
     "user_tz": -540
    },
    "id": "mOxTQmNgYz0e",
    "outputId": "d9748247-b09b-4add-e204-9dd1d99a6206"
   },
   "outputs": [
    {
     "data": {
      "text/html": [
       "<div>\n",
       "<style scoped>\n",
       "    .dataframe tbody tr th:only-of-type {\n",
       "        vertical-align: middle;\n",
       "    }\n",
       "\n",
       "    .dataframe tbody tr th {\n",
       "        vertical-align: top;\n",
       "    }\n",
       "\n",
       "    .dataframe thead th {\n",
       "        text-align: right;\n",
       "    }\n",
       "</style>\n",
       "<table border=\"1\" class=\"dataframe\">\n",
       "  <thead>\n",
       "    <tr style=\"text-align: right;\">\n",
       "      <th></th>\n",
       "      <th>date</th>\n",
       "      <th>in_out</th>\n",
       "      <th>station_code</th>\n",
       "      <th>latitude</th>\n",
       "      <th>longitude</th>\n",
       "      <th>6~7_ride</th>\n",
       "      <th>7~8_ride</th>\n",
       "      <th>8~9_ride</th>\n",
       "      <th>9~10_ride</th>\n",
       "      <th>10~11_ride</th>\n",
       "      <th>...</th>\n",
       "      <th>6~7_takeoff</th>\n",
       "      <th>7~8_takeoff</th>\n",
       "      <th>8~9_takeoff</th>\n",
       "      <th>9~10_takeoff</th>\n",
       "      <th>10~11_takeoff</th>\n",
       "      <th>11~12_takeoff</th>\n",
       "      <th>18~20_ride</th>\n",
       "      <th>date_feature</th>\n",
       "      <th>grid_lon</th>\n",
       "      <th>grid_lat</th>\n",
       "    </tr>\n",
       "  </thead>\n",
       "  <tbody>\n",
       "    <tr>\n",
       "      <td>415418</td>\n",
       "      <td>2019-09-30</td>\n",
       "      <td>0</td>\n",
       "      <td>1129</td>\n",
       "      <td>33.41437</td>\n",
       "      <td>126.26336</td>\n",
       "      <td>4.0</td>\n",
       "      <td>0.0</td>\n",
       "      <td>0.0</td>\n",
       "      <td>0.0</td>\n",
       "      <td>0.0</td>\n",
       "      <td>...</td>\n",
       "      <td>0.0</td>\n",
       "      <td>0.0</td>\n",
       "      <td>0.0</td>\n",
       "      <td>0.0</td>\n",
       "      <td>0.0</td>\n",
       "      <td>0.0</td>\n",
       "      <td>0.0</td>\n",
       "      <td>0</td>\n",
       "      <td>6</td>\n",
       "      <td>13</td>\n",
       "    </tr>\n",
       "    <tr>\n",
       "      <td>415419</td>\n",
       "      <td>2019-09-30</td>\n",
       "      <td>0</td>\n",
       "      <td>1564</td>\n",
       "      <td>33.49946</td>\n",
       "      <td>126.51479</td>\n",
       "      <td>4.0</td>\n",
       "      <td>0.0</td>\n",
       "      <td>0.0</td>\n",
       "      <td>0.0</td>\n",
       "      <td>0.0</td>\n",
       "      <td>...</td>\n",
       "      <td>0.0</td>\n",
       "      <td>0.0</td>\n",
       "      <td>0.0</td>\n",
       "      <td>0.0</td>\n",
       "      <td>0.0</td>\n",
       "      <td>0.0</td>\n",
       "      <td>0.0</td>\n",
       "      <td>0</td>\n",
       "      <td>21</td>\n",
       "      <td>19</td>\n",
       "    </tr>\n",
       "    <tr>\n",
       "      <td>415420</td>\n",
       "      <td>2019-09-30</td>\n",
       "      <td>0</td>\n",
       "      <td>2322</td>\n",
       "      <td>33.23100</td>\n",
       "      <td>126.26273</td>\n",
       "      <td>0.0</td>\n",
       "      <td>0.0</td>\n",
       "      <td>0.0</td>\n",
       "      <td>0.0</td>\n",
       "      <td>0.0</td>\n",
       "      <td>...</td>\n",
       "      <td>0.0</td>\n",
       "      <td>1.0</td>\n",
       "      <td>0.0</td>\n",
       "      <td>0.0</td>\n",
       "      <td>0.0</td>\n",
       "      <td>0.0</td>\n",
       "      <td>0.0</td>\n",
       "      <td>0</td>\n",
       "      <td>6</td>\n",
       "      <td>1</td>\n",
       "    </tr>\n",
       "    <tr>\n",
       "      <td>415421</td>\n",
       "      <td>2019-09-30</td>\n",
       "      <td>0</td>\n",
       "      <td>3291</td>\n",
       "      <td>33.46483</td>\n",
       "      <td>126.31870</td>\n",
       "      <td>1.0</td>\n",
       "      <td>0.0</td>\n",
       "      <td>0.0</td>\n",
       "      <td>0.0</td>\n",
       "      <td>0.0</td>\n",
       "      <td>...</td>\n",
       "      <td>0.0</td>\n",
       "      <td>0.0</td>\n",
       "      <td>0.0</td>\n",
       "      <td>0.0</td>\n",
       "      <td>0.0</td>\n",
       "      <td>0.0</td>\n",
       "      <td>0.0</td>\n",
       "      <td>0</td>\n",
       "      <td>9</td>\n",
       "      <td>17</td>\n",
       "    </tr>\n",
       "    <tr>\n",
       "      <td>415422</td>\n",
       "      <td>2019-09-30</td>\n",
       "      <td>0</td>\n",
       "      <td>6115100</td>\n",
       "      <td>33.24873</td>\n",
       "      <td>126.50799</td>\n",
       "      <td>0.0</td>\n",
       "      <td>0.0</td>\n",
       "      <td>0.0</td>\n",
       "      <td>0.0</td>\n",
       "      <td>0.0</td>\n",
       "      <td>...</td>\n",
       "      <td>0.0</td>\n",
       "      <td>0.0</td>\n",
       "      <td>4.0</td>\n",
       "      <td>0.0</td>\n",
       "      <td>0.0</td>\n",
       "      <td>0.0</td>\n",
       "      <td>0.0</td>\n",
       "      <td>0</td>\n",
       "      <td>21</td>\n",
       "      <td>3</td>\n",
       "    </tr>\n",
       "  </tbody>\n",
       "</table>\n",
       "<p>5 rows × 21 columns</p>\n",
       "</div>"
      ],
      "text/plain": [
       "             date  in_out  station_code  latitude  longitude  6~7_ride  \\\n",
       "415418 2019-09-30       0          1129  33.41437  126.26336       4.0   \n",
       "415419 2019-09-30       0          1564  33.49946  126.51479       4.0   \n",
       "415420 2019-09-30       0          2322  33.23100  126.26273       0.0   \n",
       "415421 2019-09-30       0          3291  33.46483  126.31870       1.0   \n",
       "415422 2019-09-30       0       6115100  33.24873  126.50799       0.0   \n",
       "\n",
       "        7~8_ride  8~9_ride  9~10_ride  10~11_ride  ...  6~7_takeoff  \\\n",
       "415418       0.0       0.0        0.0         0.0  ...          0.0   \n",
       "415419       0.0       0.0        0.0         0.0  ...          0.0   \n",
       "415420       0.0       0.0        0.0         0.0  ...          0.0   \n",
       "415421       0.0       0.0        0.0         0.0  ...          0.0   \n",
       "415422       0.0       0.0        0.0         0.0  ...          0.0   \n",
       "\n",
       "        7~8_takeoff  8~9_takeoff  9~10_takeoff  10~11_takeoff  11~12_takeoff  \\\n",
       "415418          0.0          0.0           0.0            0.0            0.0   \n",
       "415419          0.0          0.0           0.0            0.0            0.0   \n",
       "415420          1.0          0.0           0.0            0.0            0.0   \n",
       "415421          0.0          0.0           0.0            0.0            0.0   \n",
       "415422          0.0          4.0           0.0            0.0            0.0   \n",
       "\n",
       "        18~20_ride  date_feature  grid_lon  grid_lat  \n",
       "415418         0.0             0         6        13  \n",
       "415419         0.0             0        21        19  \n",
       "415420         0.0             0         6         1  \n",
       "415421         0.0             0         9        17  \n",
       "415422         0.0             0        21         3  \n",
       "\n",
       "[5 rows x 21 columns]"
      ]
     },
     "execution_count": 10,
     "metadata": {},
     "output_type": "execute_result"
    }
   ],
   "source": [
    "train['grid_lon'] = train['longitude'].map(lambda x: geo_idx(x, lon))\n",
    "train['grid_lat'] = train['latitude'].map(lambda x: geo_idx(x, lat))\n",
    "train.tail()"
   ]
  },
  {
   "cell_type": "code",
   "execution_count": 11,
   "metadata": {
    "colab": {},
    "colab_type": "code",
    "id": "7YjcSJV3Yz0i"
   },
   "outputs": [],
   "source": [
    "test['grid_lon'] = test['longitude'].map(lambda x: geo_idx(x, lon))\n",
    "test['grid_lat'] = test['latitude'].map(lambda x: geo_idx(x, lat))"
   ]
  },
  {
   "cell_type": "code",
   "execution_count": 12,
   "metadata": {
    "colab": {},
    "colab_type": "code",
    "id": "F0Hl5b3gYz0l"
   },
   "outputs": [],
   "source": [
    "train2 = train.copy()\n",
    "train2 = pd.get_dummies(train2, columns=['grid_lon', 'grid_lat'])\n",
    "test = pd.get_dummies(test, columns=['grid_lon', 'grid_lat'])"
   ]
  },
  {
   "cell_type": "code",
   "execution_count": 13,
   "metadata": {
    "colab": {},
    "colab_type": "code",
    "id": "xaQ_cT_QYz0p"
   },
   "outputs": [],
   "source": [
    "train2.drop(['latitude', 'longitude'], 1, inplace=True)\n",
    "test.drop(['latitude', 'longitude'], 1, inplace=True)"
   ]
  },
  {
   "cell_type": "code",
   "execution_count": 14,
   "metadata": {
    "colab": {},
    "colab_type": "code",
    "id": "9ItvXvVLYz0r"
   },
   "outputs": [],
   "source": [
    "train2.drop('date', axis=1, inplace=True)"
   ]
  },
  {
   "cell_type": "code",
   "execution_count": 15,
   "metadata": {
    "colab": {},
    "colab_type": "code",
    "id": "hxHVPizbYz0w"
   },
   "outputs": [],
   "source": [
    "train2['68a']=train2['6~7_ride']+train2['7~8_ride'] # 6 ~ 8시 승차인원\n",
    "train2['810a']=train2['8~9_ride']+train2['9~10_ride']\n",
    "train2['1012a']=train2['10~11_ride']+train2['11~12_ride']\n",
    "\n",
    "train2['68b']=train2['6~7_takeoff']+train2['7~8_takeoff'] # 6 ~ 8시 하차인원\n",
    "train2['810b']=train2['8~9_takeoff']+train2['9~10_takeoff']\n",
    "train2['1012b']=train2['10~11_takeoff']+train2['11~12_takeoff']"
   ]
  },
  {
   "cell_type": "code",
   "execution_count": 16,
   "metadata": {
    "colab": {},
    "colab_type": "code",
    "id": "S8SLrpKhYz0z"
   },
   "outputs": [],
   "source": [
    "test['68a']=test['6~7_ride']+test['7~8_ride']\n",
    "test['810a']=test['8~9_ride']+test['9~10_ride']\n",
    "test['1012a']=test['10~11_ride']+test['11~12_ride']\n",
    "\n",
    "test['68b']=test['6~7_takeoff']+test['7~8_takeoff']\n",
    "test['810b']=test['8~9_takeoff']+test['9~10_takeoff']\n",
    "test['1012b']=test['10~11_takeoff']+test['11~12_takeoff']"
   ]
  },
  {
   "cell_type": "code",
   "execution_count": 17,
   "metadata": {
    "colab": {},
    "colab_type": "code",
    "id": "MF5dxwKAYz02"
   },
   "outputs": [],
   "source": [
    "train2.drop(['6~7_ride', '7~8_ride', '8~9_ride',\n",
    "                '9~10_ride', '10~11_ride', '11~12_ride',\n",
    "                '6~7_takeoff', '7~8_takeoff', '8~9_takeoff',\n",
    "                '9~10_takeoff', '10~11_takeoff','11~12_takeoff'], axis=1, inplace=True)\n",
    "test.drop(['6~7_ride', '7~8_ride', '8~9_ride',\n",
    "                '9~10_ride', '10~11_ride', '11~12_ride',\n",
    "                '6~7_takeoff', '7~8_takeoff', '8~9_takeoff',\n",
    "                '9~10_takeoff', '10~11_takeoff','11~12_takeoff'], axis=1, inplace=True)"
   ]
  },
  {
   "cell_type": "code",
   "execution_count": 18,
   "metadata": {
    "colab": {},
    "colab_type": "code",
    "id": "G17tWBdrw_QH"
   },
   "outputs": [],
   "source": [
    "def seperate_(x):\n",
    "  if x <=5:\n",
    "    return 0\n",
    "  elif x> 5 and x<=10:\n",
    "    return 1\n",
    "  else :\n",
    "    return 2\n",
    "\n",
    "train2['station_level'] = train2['18~20_ride'].map(seperate_)"
   ]
  },
  {
   "cell_type": "code",
   "execution_count": 19,
   "metadata": {
    "colab": {},
    "colab_type": "code",
    "id": "1rqBe9tdw_7d"
   },
   "outputs": [],
   "source": [
    "sub0 = train2[['station_code','station_level']]\n",
    "sub1 = test[['station_code']]"
   ]
  },
  {
   "cell_type": "code",
   "execution_count": 20,
   "metadata": {
    "colab": {},
    "colab_type": "code",
    "id": "ADTdkjZfyoJh"
   },
   "outputs": [],
   "source": [
    "sub3 = pd.merge(sub1, sub0, how='left', on='station_code')"
   ]
  },
  {
   "cell_type": "code",
   "execution_count": 21,
   "metadata": {
    "colab": {},
    "colab_type": "code",
    "id": "FU0Ds_0Zyonk"
   },
   "outputs": [],
   "source": [
    "sub3.drop('station_code', axis=1, inplace=True)"
   ]
  },
  {
   "cell_type": "code",
   "execution_count": 22,
   "metadata": {
    "colab": {},
    "colab_type": "code",
    "id": "x7rgKuKI3FW-"
   },
   "outputs": [],
   "source": [
    "test['station_level'] = sub3"
   ]
  },
  {
   "cell_type": "code",
   "execution_count": 23,
   "metadata": {
    "colab": {},
    "colab_type": "code",
    "id": "sjV5VH4K3FsA"
   },
   "outputs": [],
   "source": [
    "train2.drop('station_code', axis=1, inplace=True)\n",
    "test.drop('station_code', axis=1, inplace=True)"
   ]
  },
  {
   "cell_type": "code",
   "execution_count": 24,
   "metadata": {
    "colab": {},
    "colab_type": "code",
    "id": "qq5z1LYv3F9X"
   },
   "outputs": [],
   "source": [
    "test['station_level'] = test['station_level'].fillna(0)"
   ]
  },
  {
   "cell_type": "code",
   "execution_count": 25,
   "metadata": {
    "colab": {},
    "colab_type": "code",
    "id": "EEALT0DLYz05"
   },
   "outputs": [],
   "source": [
    "train_dataset = train2.sample(frac=0.8)\n",
    "val_dataset = train2.drop(train_dataset.index)\n",
    "\n",
    "train_labels = train_dataset.pop('18~20_ride')\n",
    "val_labels = val_dataset.pop('18~20_ride')"
   ]
  },
  {
   "cell_type": "code",
   "execution_count": 26,
   "metadata": {
    "colab": {
     "base_uri": "https://localhost:8080/",
     "height": 369
    },
    "colab_type": "code",
    "executionInfo": {
     "elapsed": 1458,
     "status": "ok",
     "timestamp": 1576989186728,
     "user": {
      "displayName": "무욕깨",
      "photoUrl": "",
      "userId": "02246969783298719147"
     },
     "user_tz": -540
    },
    "id": "zAVwUoLVYz08",
    "outputId": "7b4f9fe3-af78-44c5-c614-14ab8f9562a9"
   },
   "outputs": [
    {
     "data": {
      "text/plain": [
       "Index(['date_feature', 'grid_lat_0', 'grid_lat_1', 'grid_lat_10',\n",
       "       'grid_lat_11', 'grid_lat_12', 'grid_lat_13', 'grid_lat_14',\n",
       "       'grid_lat_15', 'grid_lat_16', 'grid_lat_17', 'grid_lat_18',\n",
       "       'grid_lat_19', 'grid_lat_2', 'grid_lat_20', 'grid_lat_21',\n",
       "       'grid_lat_22', 'grid_lat_23', 'grid_lat_3', 'grid_lat_4', 'grid_lat_47',\n",
       "       'grid_lat_48', 'grid_lat_49', 'grid_lat_5', 'grid_lat_6', 'grid_lat_7',\n",
       "       'grid_lat_8', 'grid_lat_9', 'grid_lon_0', 'grid_lon_1', 'grid_lon_10',\n",
       "       'grid_lon_11', 'grid_lon_12', 'grid_lon_13', 'grid_lon_14',\n",
       "       'grid_lon_15', 'grid_lon_16', 'grid_lon_17', 'grid_lon_18',\n",
       "       'grid_lon_19', 'grid_lon_2', 'grid_lon_20', 'grid_lon_21',\n",
       "       'grid_lon_22', 'grid_lon_23', 'grid_lon_24', 'grid_lon_25',\n",
       "       'grid_lon_26', 'grid_lon_27', 'grid_lon_28', 'grid_lon_29',\n",
       "       'grid_lon_3', 'grid_lon_30', 'grid_lon_31', 'grid_lon_32',\n",
       "       'grid_lon_33', 'grid_lon_34', 'grid_lon_35', 'grid_lon_36',\n",
       "       'grid_lon_37', 'grid_lon_38', 'grid_lon_39', 'grid_lon_4',\n",
       "       'grid_lon_40', 'grid_lon_41', 'grid_lon_42', 'grid_lon_43',\n",
       "       'grid_lon_44', 'grid_lon_45', 'grid_lon_46', 'grid_lon_47',\n",
       "       'grid_lon_48', 'grid_lon_49', 'grid_lon_5', 'grid_lon_6', 'grid_lon_7',\n",
       "       'grid_lon_8', 'grid_lon_9', 'in_out', 'station_level'],\n",
       "      dtype='object')"
      ]
     },
     "execution_count": 26,
     "metadata": {},
     "output_type": "execute_result"
    }
   ],
   "source": [
    "numeric_columns = ['68a','810a','1012a','68b','810b','1012b']\n",
    "    \n",
    "\n",
    "categorical_columns = train_dataset.columns.difference(numeric_columns)\n",
    "categorical_columns"
   ]
  },
  {
   "cell_type": "code",
   "execution_count": 27,
   "metadata": {
    "colab": {
     "base_uri": "https://localhost:8080/",
     "height": 225
    },
    "colab_type": "code",
    "executionInfo": {
     "elapsed": 1898,
     "status": "ok",
     "timestamp": 1576989195830,
     "user": {
      "displayName": "무욕깨",
      "photoUrl": "",
      "userId": "02246969783298719147"
     },
     "user_tz": -540
    },
    "id": "wgkzd0YZYz1A",
    "outputId": "2fda2964-6634-42eb-ff19-0087af040d71"
   },
   "outputs": [
    {
     "data": {
      "text/html": [
       "<div>\n",
       "<style scoped>\n",
       "    .dataframe tbody tr th:only-of-type {\n",
       "        vertical-align: middle;\n",
       "    }\n",
       "\n",
       "    .dataframe tbody tr th {\n",
       "        vertical-align: top;\n",
       "    }\n",
       "\n",
       "    .dataframe thead th {\n",
       "        text-align: right;\n",
       "    }\n",
       "</style>\n",
       "<table border=\"1\" class=\"dataframe\">\n",
       "  <thead>\n",
       "    <tr style=\"text-align: right;\">\n",
       "      <th></th>\n",
       "      <th>count</th>\n",
       "      <th>mean</th>\n",
       "      <th>std</th>\n",
       "      <th>min</th>\n",
       "      <th>25%</th>\n",
       "      <th>50%</th>\n",
       "      <th>75%</th>\n",
       "      <th>max</th>\n",
       "    </tr>\n",
       "  </thead>\n",
       "  <tbody>\n",
       "    <tr>\n",
       "      <td>68a</td>\n",
       "      <td>332338.0</td>\n",
       "      <td>1.137818</td>\n",
       "      <td>2.873976</td>\n",
       "      <td>0.0</td>\n",
       "      <td>0.0</td>\n",
       "      <td>0.0</td>\n",
       "      <td>1.0</td>\n",
       "      <td>114.0</td>\n",
       "    </tr>\n",
       "    <tr>\n",
       "      <td>810a</td>\n",
       "      <td>332338.0</td>\n",
       "      <td>1.456228</td>\n",
       "      <td>3.705659</td>\n",
       "      <td>0.0</td>\n",
       "      <td>0.0</td>\n",
       "      <td>0.0</td>\n",
       "      <td>1.0</td>\n",
       "      <td>181.0</td>\n",
       "    </tr>\n",
       "    <tr>\n",
       "      <td>1012a</td>\n",
       "      <td>332338.0</td>\n",
       "      <td>1.178917</td>\n",
       "      <td>3.381330</td>\n",
       "      <td>0.0</td>\n",
       "      <td>0.0</td>\n",
       "      <td>0.0</td>\n",
       "      <td>1.0</td>\n",
       "      <td>174.0</td>\n",
       "    </tr>\n",
       "    <tr>\n",
       "      <td>68b</td>\n",
       "      <td>332338.0</td>\n",
       "      <td>0.457570</td>\n",
       "      <td>1.530467</td>\n",
       "      <td>0.0</td>\n",
       "      <td>0.0</td>\n",
       "      <td>0.0</td>\n",
       "      <td>0.0</td>\n",
       "      <td>85.0</td>\n",
       "    </tr>\n",
       "    <tr>\n",
       "      <td>810b</td>\n",
       "      <td>332338.0</td>\n",
       "      <td>0.946624</td>\n",
       "      <td>2.671463</td>\n",
       "      <td>0.0</td>\n",
       "      <td>0.0</td>\n",
       "      <td>0.0</td>\n",
       "      <td>1.0</td>\n",
       "      <td>86.0</td>\n",
       "    </tr>\n",
       "    <tr>\n",
       "      <td>1012b</td>\n",
       "      <td>332338.0</td>\n",
       "      <td>0.809715</td>\n",
       "      <td>2.501401</td>\n",
       "      <td>0.0</td>\n",
       "      <td>0.0</td>\n",
       "      <td>0.0</td>\n",
       "      <td>1.0</td>\n",
       "      <td>108.0</td>\n",
       "    </tr>\n",
       "  </tbody>\n",
       "</table>\n",
       "</div>"
      ],
      "text/plain": [
       "          count      mean       std  min  25%  50%  75%    max\n",
       "68a    332338.0  1.137818  2.873976  0.0  0.0  0.0  1.0  114.0\n",
       "810a   332338.0  1.456228  3.705659  0.0  0.0  0.0  1.0  181.0\n",
       "1012a  332338.0  1.178917  3.381330  0.0  0.0  0.0  1.0  174.0\n",
       "68b    332338.0  0.457570  1.530467  0.0  0.0  0.0  0.0   85.0\n",
       "810b   332338.0  0.946624  2.671463  0.0  0.0  0.0  1.0   86.0\n",
       "1012b  332338.0  0.809715  2.501401  0.0  0.0  0.0  1.0  108.0"
      ]
     },
     "execution_count": 27,
     "metadata": {},
     "output_type": "execute_result"
    }
   ],
   "source": [
    "train_stats = train_dataset.describe()\n",
    "train_stats.drop(categorical_columns, 1, inplace=True)\n",
    "train_stats = train_stats.T\n",
    "train_stats"
   ]
  },
  {
   "cell_type": "code",
   "execution_count": 28,
   "metadata": {
    "colab": {},
    "colab_type": "code",
    "id": "7sedwsm9Yz1G"
   },
   "outputs": [],
   "source": [
    "def norm(x):\n",
    "    return (x - train_stats['mean']) / train_stats['std']\n",
    "\n",
    "normed_train_data = norm(train_dataset[numeric_columns])\n",
    "normed_train_data[categorical_columns] = train_dataset[categorical_columns]\n",
    "normed_val_data = norm(val_dataset[numeric_columns])\n",
    "normed_val_data[categorical_columns] = val_dataset[categorical_columns]"
   ]
  },
  {
   "cell_type": "code",
   "execution_count": 29,
   "metadata": {
    "colab": {},
    "colab_type": "code",
    "id": "w_EbeGuBYz1L"
   },
   "outputs": [],
   "source": [
    "model = keras.Sequential([\n",
    "    layers.Dense(64, activation='relu', input_shape=[len(train_dataset.keys())]),\n",
    "    layers.Dense(64, activation='relu'),\n",
    "    layers.Dense(1)\n",
    "    \n",
    "])\n",
    "\n",
    "model.compile(\n",
    "    loss='mean_squared_error',\n",
    "    optimizer='adam',\n",
    "    metrics=['mae', 'mse']\n",
    ")"
   ]
  },
  {
   "cell_type": "code",
   "execution_count": 30,
   "metadata": {
    "colab": {
     "base_uri": "https://localhost:8080/",
     "height": 263
    },
    "colab_type": "code",
    "executionInfo": {
     "elapsed": 1492,
     "status": "ok",
     "timestamp": 1576989221383,
     "user": {
      "displayName": "무욕깨",
      "photoUrl": "",
      "userId": "02246969783298719147"
     },
     "user_tz": -540
    },
    "id": "QH17jgeIYz1Q",
    "outputId": "9eba1eba-8922-4fa8-85bd-aa2dc219f398"
   },
   "outputs": [
    {
     "name": "stdout",
     "output_type": "stream",
     "text": [
      "Model: \"sequential\"\n",
      "_________________________________________________________________\n",
      "Layer (type)                 Output Shape              Param #   \n",
      "=================================================================\n",
      "dense (Dense)                (None, 64)                5568      \n",
      "_________________________________________________________________\n",
      "dense_1 (Dense)              (None, 64)                4160      \n",
      "_________________________________________________________________\n",
      "dense_2 (Dense)              (None, 1)                 65        \n",
      "=================================================================\n",
      "Total params: 9,793\n",
      "Trainable params: 9,793\n",
      "Non-trainable params: 0\n",
      "_________________________________________________________________\n"
     ]
    }
   ],
   "source": [
    "model.summary()"
   ]
  },
  {
   "cell_type": "code",
   "execution_count": 31,
   "metadata": {
    "colab": {},
    "colab_type": "code",
    "id": "KzZmWD4VYz1U"
   },
   "outputs": [],
   "source": [
    "import matplotlib.pyplot as plt\n",
    "\n",
    "def plot_history(history):\n",
    "    hist = pd.DataFrame(history.history)\n",
    "    hist['epoch'] = history.epoch\n",
    "\n",
    "    plt.figure(figsize=(8,12))\n",
    "\n",
    "    plt.subplot(2,1,1)\n",
    "    plt.xlabel('Epoch')\n",
    "    plt.ylabel('Mean Abs Error [MPG]')\n",
    "    plt.plot(hist['epoch'], hist['mae'],\n",
    "           label='Train Error')\n",
    "    plt.plot(hist['epoch'], hist['val_mae'],\n",
    "           label = 'Val Error')\n",
    "    plt.ylim([0,5])\n",
    "    plt.legend()\n",
    "\n",
    "    plt.subplot(2,1,2)\n",
    "    plt.xlabel('Epoch')\n",
    "    plt.ylabel('Mean Square Error [$MPG^2$]')\n",
    "    plt.plot(hist['epoch'], hist['mse'],\n",
    "           label='Train Error')\n",
    "    plt.plot(hist['epoch'], hist['val_mse'],\n",
    "           label = 'Val Error')\n",
    "    plt.ylim([0,20])\n",
    "    plt.legend()\n",
    "    plt.show()\n"
   ]
  },
  {
   "cell_type": "code",
   "execution_count": 32,
   "metadata": {
    "colab": {},
    "colab_type": "code",
    "id": "SU54eo0KYz1X"
   },
   "outputs": [],
   "source": [
    "# 에포크가 끝날 때마다 점(.)을 출력해 훈련 진행 과정을 표시합니다\n",
    "class PrintDot(keras.callbacks.Callback):\n",
    "    def on_epoch_end(self, epoch, logs):\n",
    "        if epoch % 100 == 0: print('')\n",
    "        print('.', end='')"
   ]
  },
  {
   "cell_type": "code",
   "execution_count": 33,
   "metadata": {
    "colab": {
     "base_uri": "https://localhost:8080/",
     "height": 759
    },
    "colab_type": "code",
    "executionInfo": {
     "elapsed": 38736,
     "status": "ok",
     "timestamp": 1576989269264,
     "user": {
      "displayName": "무욕깨",
      "photoUrl": "",
      "userId": "02246969783298719147"
     },
     "user_tz": -540
    },
    "id": "MCXWkqq-Yz1b",
    "outputId": "9996c3ae-0015-4f71-d4fe-f81f6c2d5996"
   },
   "outputs": [
    {
     "name": "stdout",
     "output_type": "stream",
     "text": [
      "WARNING:tensorflow:Falling back from v2 loop because of error: Failed to find data adapter that can handle input: <class 'pandas.core.frame.DataFrame'>, <class 'NoneType'>\n",
      "\n",
      "........................................................."
     ]
    },
    {
     "data": {
      "image/png": "[encoded data removed]",
      "text/plain": [
       "<Figure size 576x864 with 2 Axes>"
      ]
     },
     "metadata": {
      "needs_background": "light"
     },
     "output_type": "display_data"
    }
   ],
   "source": [
    "early_stop = keras.callbacks.EarlyStopping(monitor='val_loss', patience=10)\n",
    "\n",
    "EPOCHS = 1000\n",
    "history = model.fit(normed_train_data, train_labels, epochs=EPOCHS, batch_size=1000,\n",
    "                    validation_split=0.2, verbose=0, callbacks=[early_stop, PrintDot()])\n",
    "\n",
    "plot_history(history)"
   ]
  },
  {
   "cell_type": "code",
   "execution_count": 34,
   "metadata": {
    "colab": {
     "base_uri": "https://localhost:8080/",
     "height": 70
    },
    "colab_type": "code",
    "executionInfo": {
     "elapsed": 39795,
     "status": "ok",
     "timestamp": 1576989273236,
     "user": {
      "displayName": "무욕깨",
      "photoUrl": "",
      "userId": "02246969783298719147"
     },
     "user_tz": -540
    },
    "id": "nqa59E69Yz1e",
    "outputId": "e18b939b-798b-426f-8d73-1339f360e539"
   },
   "outputs": [
    {
     "name": "stdout",
     "output_type": "stream",
     "text": [
      "WARNING:tensorflow:Falling back from v2 loop because of error: Failed to find data adapter that can handle input: <class 'pandas.core.frame.DataFrame'>, <class 'NoneType'>\n",
      "83085/83085 - 4s - loss: 6.1416 - mae: 0.7991 - mse: 6.1416\n",
      "테스트 세트의 평균 절대 오차:  0.80 MPG\n",
      "테스트 세트의 평균 제곱 오차:  6.14 MPG\n"
     ]
    }
   ],
   "source": [
    "loss, mae, mse = model.evaluate(normed_val_data, val_labels, verbose=2)\n",
    "\n",
    "print(\"테스트 세트의 평균 절대 오차: {:5.2f} MPG\".format(mae))\n",
    "print(\"테스트 세트의 평균 제곱 오차: {:5.2f} MPG\".format(mse))"
   ]
  },
  {
   "cell_type": "code",
   "execution_count": 35,
   "metadata": {
    "colab": {},
    "colab_type": "code",
    "id": "xPOCtvIXeZr0"
   },
   "outputs": [],
   "source": [
    "test['grid_lat_47'] = 0"
   ]
  },
  {
   "cell_type": "code",
   "execution_count": 36,
   "metadata": {
    "colab": {},
    "colab_type": "code",
    "id": "U8iSx79f6-JG"
   },
   "outputs": [],
   "source": [
    "train_labels = train2.pop('18~20_ride')"
   ]
  },
  {
   "cell_type": "code",
   "execution_count": 37,
   "metadata": {
    "colab": {},
    "colab_type": "code",
    "id": "a7dmsx4T6-jG"
   },
   "outputs": [],
   "source": [
    "normed_train_data2 = norm(train2[numeric_columns])\n",
    "normed_train_data2[categorical_columns] = train2[categorical_columns]\n",
    "normed_test_data = norm(test[numeric_columns])\n",
    "normed_test_data[categorical_columns] = test[categorical_columns]"
   ]
  },
  {
   "cell_type": "code",
   "execution_count": 38,
   "metadata": {
    "colab": {
     "base_uri": "https://localhost:8080/",
     "height": 759
    },
    "colab_type": "code",
    "executionInfo": {
     "elapsed": 15586,
     "status": "ok",
     "timestamp": 1576990077227,
     "user": {
      "displayName": "무욕깨",
      "photoUrl": "",
      "userId": "02246969783298719147"
     },
     "user_tz": -540
    },
    "id": "REUG3kQijrP1",
    "outputId": "73738e7e-a5aa-4a2c-db68-1f3d44e80987"
   },
   "outputs": [
    {
     "name": "stdout",
     "output_type": "stream",
     "text": [
      "WARNING:tensorflow:Falling back from v2 loop because of error: Failed to find data adapter that can handle input: <class 'pandas.core.frame.DataFrame'>, <class 'NoneType'>\n",
      "\n",
      "..................."
     ]
    },
    {
     "data": {
      "image/png": "[encoded data removed]",
      "text/plain": [
       "<Figure size 576x864 with 2 Axes>"
      ]
     },
     "metadata": {
      "needs_background": "light"
     },
     "output_type": "display_data"
    }
   ],
   "source": [
    "early_stop = keras.callbacks.EarlyStopping(monitor='val_loss', patience=10)\n",
    "\n",
    "EPOCHS = 1000\n",
    "history = model.fit(normed_train_data2, train_labels, epochs=EPOCHS, batch_size=1000,\n",
    "                    validation_split=0.2, verbose=0, callbacks=[early_stop, PrintDot()])\n",
    "\n",
    "plot_history(history)"
   ]
  },
  {
   "cell_type": "code",
   "execution_count": 39,
   "metadata": {
    "colab": {},
    "colab_type": "code",
    "id": "3xwbiRBN6YgD"
   },
   "outputs": [
    {
     "name": "stdout",
     "output_type": "stream",
     "text": [
      "WARNING:tensorflow:Falling back from v2 loop because of error: Failed to find data adapter that can handle input: <class 'pandas.core.frame.DataFrame'>, <class 'NoneType'>\n"
     ]
    }
   ],
   "source": [
    "predictions = model.predict(normed_test_data)"
   ]
  },
  {
   "cell_type": "code",
   "execution_count": 40,
   "metadata": {
    "colab": {
     "base_uri": "https://localhost:8080/",
     "height": 52
    },
    "colab_type": "code",
    "executionInfo": {
     "elapsed": 3392,
     "status": "ok",
     "timestamp": 1576990255145,
     "user": {
      "displayName": "무욕깨",
      "photoUrl": "",
      "userId": "02246969783298719147"
     },
     "user_tz": -540
    },
    "id": "_WIIA8dG8A4D",
    "outputId": "31b9416d-ed06-4f6a-fd5f-0c3ffdaac32e"
   },
   "outputs": [
    {
     "name": "stdout",
     "output_type": "stream",
     "text": [
      "Downloading data from https://drive.google.com/a/dacon.io/uc?authuser=0&id=1jti3rkMN-Tb_WLOIeGVVFDYd_rfE9TFe&export=download\n",
      "2285568/Unknown - 1s 0us/step"
     ]
    }
   ],
   "source": [
    "submission_path = \"submission_sample.csv\"\n",
    "\n",
    "submission = pd.read_csv(submission_path)\n",
    "submission['18~20_ride'] = predictions\n",
    "submission.to_csv(\"submission.csv\", index=False)"
   ]
  },
  {
   "cell_type": "code",
   "execution_count": 41,
   "metadata": {
    "colab": {
     "base_uri": "https://localhost:8080/",
     "height": 34
    },
    "colab_type": "code",
    "executionInfo": {
     "elapsed": 1137,
     "status": "ok",
     "timestamp": 1576990388138,
     "user": {
      "displayName": "무욕깨",
      "photoUrl": "",
      "userId": "02246969783298719147"
     },
     "user_tz": -540
    },
    "id": "Jacb6wgo8Klf",
    "outputId": "3bb5836a-1c9f-4380-98bc-ca7176a8bdd1"
   },
   "outputs": [
    {
     "data": {
      "text/plain": [
       "'C:\\\\Users\\\\imdff\\\\.keras\\\\datasets\\\\submission_sample.csv'"
      ]
     },
     "execution_count": 41,
     "metadata": {},
     "output_type": "execute_result"
    }
   ],
   "source": [
    "submission_path"
   ]
  },
  {
   "cell_type": "code",
   "execution_count": 42,
   "metadata": {
    "colab": {
     "base_uri": "https://localhost:8080/",
     "height": 34
    },
    "colab_type": "code",
    "executionInfo": {
     "elapsed": 1529,
     "status": "ok",
     "timestamp": 1576990445705,
     "user": {
      "displayName": "무욕깨",
      "photoUrl": "",
      "userId": "02246969783298719147"
     },
     "user_tz": -540
    },
    "id": "QuoXxvM-86pm",
    "outputId": "8020d739-86b5-4aec-e680-21c740b74172"
   },
   "outputs": [
    {
     "data": {
      "text/plain": [
       "'C:\\\\Users\\\\imdff\\\\Documents\\\\Python Scripts\\\\dacon_winter_school'"
      ]
     },
     "execution_count": 42,
     "metadata": {},
     "output_type": "execute_result"
    }
   ],
   "source": [
    "import os\n",
    "os.getcwd()"
   ]
  },
  {
   "cell_type": "code",
   "execution_count": null,
   "metadata": {
    "colab": {},
    "colab_type": "code",
    "id": "RMSOiTxN9Id7"
   },
   "outputs": [],
   "source": []
  }
 ],
 "metadata": {
  "accelerator": "GPU",
  "colab": {
   "collapsed_sections": [],
   "machine_shape": "hm",
   "name": "try1.ipynb",
   "provenance": []
  },
  "kernelspec": {
   "display_name": "Python 3",
   "language": "python",
   "name": "python3"
  },
  "language_info": {
   "codemirror_mode": {
    "name": "ipython",
    "version": 3
   },
   "file_extension": ".py",
   "mimetype": "text/x-python",
   "name": "python",
   "nbconvert_exporter": "python",
   "pygments_lexer": "ipython3",
   "version": "3.7.4"
  }
 },
 "nbformat": 4,
 "nbformat_minor": 1
}
