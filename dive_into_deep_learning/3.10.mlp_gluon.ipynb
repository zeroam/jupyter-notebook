{
  "nbformat": 4,
  "nbformat_minor": 0,
  "metadata": {
    "colab": {
      "name": "3.10.mlp_gluon.ipynb",
      "provenance": [],
      "include_colab_link": true
    },
    "kernelspec": {
      "name": "python3",
      "display_name": "Python 3"
    },
    "accelerator": "GPU"
  },
  "cells": [
    {
      "cell_type": "markdown",
      "metadata": {
        "id": "view-in-github",
        "colab_type": "text"
      },
      "source": [
        "<a href=\"https://colab.research.google.com/github/zeroam/jupyter-notebook/blob/master/dive_into_deep_learning/3.10.mlp_gluon.ipynb\" target=\"_parent\"><img src=\"https://colab.research.google.com/assets/colab-badge.svg\" alt=\"Open In Colab\"/></a>"
      ]
    },
    {
      "cell_type": "code",
      "metadata": {
        "id": "FvTYMbb4yC1Q",
        "colab_type": "code",
        "colab": {}
      },
      "source": [
        "!pip install mxnet==1.6.0b20190915\n",
        "!pip install d2l"
      ],
      "execution_count": 0,
      "outputs": []
    },
    {
      "cell_type": "code",
      "metadata": {
        "id": "UjYDWFaSyggr",
        "colab_type": "code",
        "colab": {}
      },
      "source": [
        "import d2l\n",
        "from mxnet import gluon, init, autograd\n",
        "from mxnet.gluon import loss as gloss, nn"
      ],
      "execution_count": 0,
      "outputs": []
    },
    {
      "cell_type": "code",
      "metadata": {
        "id": "TZu51XvGzOir",
        "colab_type": "code",
        "colab": {}
      },
      "source": [
        "net = nn.Sequential()\n",
        "net.add(nn.Dense(256, activation='relu'))\n",
        "net.add(nn.Dense(10))\n",
        "net.initialize(init.Normal(sigma=0.01))"
      ],
      "execution_count": 0,
      "outputs": []
    },
    {
      "cell_type": "code",
      "metadata": {
        "id": "QFuPySdJzRzU",
        "colab_type": "code",
        "colab": {}
      },
      "source": [
        "def evaluate_accuracy(data_iter, net):\n",
        "    acc_sum, n = 0.0, 0\n",
        "    for X, y in data_iter:\n",
        "        y = y.astype('float32')\n",
        "        acc_sum += (net(X).argmax(axis=1) == y).sum().asscalar()\n",
        "        n += y.size\n",
        "    return acc_sum / n\n",
        "\n",
        "def train_ch3(net, train_iter, test_iter, loss, num_epochs, batch_size,\n",
        "              params=None, lr=None, trainer=None):\n",
        "    for epoch in range(num_epochs):\n",
        "        train_l_sum, train_acc_sum, n = 0.0, 0.0, 0\n",
        "        for X, y in train_iter:\n",
        "            with autograd.record():\n",
        "                y_hat = net(X)\n",
        "                l = loss(y_hat, y).sum()\n",
        "            l.backward()\n",
        "            if trainer is None:\n",
        "                d2l.sgd(params, lr, batch_size)\n",
        "            else:\n",
        "                # This will be illustrated in the next section\n",
        "                trainer.step(batch_size)\n",
        "            y = y.astype('float32')\n",
        "            train_l_sum += l.asscalar()\n",
        "            train_acc_sum += (y_hat.argmax(axis=1) == y).sum().asscalar()\n",
        "            n += y.size\n",
        "        test_acc = evaluate_accuracy(test_iter, net)\n",
        "        print('epoch %d, loss %.4f, train acc %.3f, test acc %.3f'\n",
        "              % (epoch + 1, train_l_sum / n, train_acc_sum / n, test_acc))"
      ],
      "execution_count": 0,
      "outputs": []
    },
    {
      "cell_type": "code",
      "metadata": {
        "id": "cMTgY_hSy5b4",
        "colab_type": "code",
        "colab": {
          "base_uri": "https://localhost:8080/",
          "height": 185
        },
        "outputId": "17527a9f-db9c-43ad-8bf4-013b8fce8a67"
      },
      "source": [
        "batch_size = 256\n",
        "train_iter, test_iter = d2l.load_data_fashion_mnist(batch_size)\n",
        "\n",
        "loss = gloss.SoftmaxCrossEntropyLoss()\n",
        "trainer = gluon.Trainer(net.collect_params(), 'sgd', {'learning_rate': 0.5})\n",
        "num_epochs = 10\n",
        "train_ch3(net, train_iter, test_iter, loss, num_epochs, batch_size, None,\n",
        "          None, trainer)"
      ],
      "execution_count": 7,
      "outputs": [
        {
          "output_type": "stream",
          "text": [
            "epoch 1, loss 0.7985, train acc 0.704, test acc 0.818\n",
            "epoch 2, loss 0.4845, train acc 0.822, test acc 0.850\n",
            "epoch 3, loss 0.4284, train acc 0.843, test acc 0.861\n",
            "epoch 4, loss 0.3962, train acc 0.854, test acc 0.857\n",
            "epoch 5, loss 0.3695, train acc 0.865, test acc 0.870\n",
            "epoch 6, loss 0.3528, train acc 0.869, test acc 0.876\n",
            "epoch 7, loss 0.3366, train acc 0.875, test acc 0.877\n",
            "epoch 8, loss 0.3234, train acc 0.880, test acc 0.881\n",
            "epoch 9, loss 0.3132, train acc 0.884, test acc 0.883\n",
            "epoch 10, loss 0.3066, train acc 0.886, test acc 0.883\n"
          ],
          "name": "stdout"
        }
      ]
    }
  ]
}