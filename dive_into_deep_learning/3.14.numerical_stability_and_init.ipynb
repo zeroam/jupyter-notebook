{
  "nbformat": 4,
  "nbformat_minor": 0,
  "metadata": {
    "colab": {
      "name": "3.14.numerical_stability_and_init.ipynb",
      "provenance": [],
      "include_colab_link": true
    },
    "kernelspec": {
      "name": "python3",
      "display_name": "Python 3"
    },
    "accelerator": "GPU"
  },
  "cells": [
    {
      "cell_type": "markdown",
      "metadata": {
        "id": "view-in-github",
        "colab_type": "text"
      },
      "source": [
        "<a href=\"https://colab.research.google.com/github/zeroam/jupyter-notebook/blob/master/dive_into_deep_learning/3.14.numerical_stability_and_init.ipynb\" target=\"_parent\"><img src=\"https://colab.research.google.com/assets/colab-badge.svg\" alt=\"Open In Colab\"/></a>"
      ]
    },
    {
      "cell_type": "code",
      "metadata": {
        "id": "nFIah7UwbWU8",
        "colab_type": "code",
        "colab": {}
      },
      "source": [
        "!pip install mxnet==1.6.0b20190915\n",
        "!pip install d2l"
      ],
      "execution_count": 0,
      "outputs": []
    },
    {
      "cell_type": "code",
      "metadata": {
        "id": "FYXK8eydbyHC",
        "colab_type": "code",
        "outputId": "5a48ba5c-3f66-4ec4-dbfe-514a121ae43b",
        "colab": {
          "base_uri": "https://localhost:8080/",
          "height": 221
        }
      },
      "source": [
        "%matplotlib inline\n",
        "import mxnet as mx\n",
        "from mxnet import nd, autograd\n",
        "from matplotlib import pyplot as plt\n",
        "\n",
        "M = nd.random.normal(shape=(4, 4))\n",
        "print('A single matrix', M)\n",
        "for i in range(100):\n",
        "  M = nd.dot(M, nd.random.normal(shape=(4, 4)))\n",
        "\n",
        "print('After multiplying 100 matrices', M)"
      ],
      "execution_count": 0,
      "outputs": [
        {
          "output_type": "stream",
          "text": [
            "A single matrix \n",
            "[[ 0.57461417  1.4661262   0.6862904   0.35496104]\n",
            " [ 1.0731696   0.12017461 -0.9711102  -0.77569664]\n",
            " [-0.7882176   0.7417728  -1.4734439  -1.0730928 ]\n",
            " [-1.0424827  -1.3278849  -1.4749662  -0.52414197]]\n",
            "<NDArray 4x4 @cpu(0)>\n",
            "After multiplying 100 matrices \n",
            "[[-4.9732617e+19  1.0571412e+19 -1.1375701e+19  3.6837393e+19]\n",
            " [ 1.9690676e+21 -4.1856494e+20  4.5039019e+20 -1.4584796e+21]\n",
            " [ 1.1309429e+21 -2.4040616e+20  2.5868245e+20 -8.3768044e+20]\n",
            " [ 5.6130530e+20 -1.1931684e+20  1.2838883e+20 -4.1575610e+20]]\n",
            "<NDArray 4x4 @cpu(0)>\n"
          ],
          "name": "stdout"
        }
      ]
    },
    {
      "cell_type": "code",
      "metadata": {
        "id": "ssOZsnfbbgjP",
        "colab_type": "code",
        "outputId": "5d6bdb35-80eb-4975-b633-f82508b0f81f",
        "colab": {
          "base_uri": "https://localhost:8080/",
          "height": 265
        }
      },
      "source": [
        "x = nd.arange(-8.0, 8.0, 0.1)\n",
        "x.attach_grad()\n",
        "with autograd.record():\n",
        "  y = x.sigmoid()\n",
        "y.backward()\n",
        "\n",
        "plt.figure(figsize=(8, 4))\n",
        "plt.plot(x.asnumpy(), y.asnumpy())\n",
        "plt.plot(x.asnumpy(), x.grad.asnumpy())\n",
        "plt.legend(['sigmoid', 'gradient'])\n",
        "plt.show()"
      ],
      "execution_count": 0,
      "outputs": [
        {
          "output_type": "display_data",
          "data": {
            "image/png": "[encoded data removed]",
            "text/plain": [
              "<Figure size 576x288 with 1 Axes>"
            ]
          },
          "metadata": {
            "tags": []
          }
        }
      ]
    },
    {
      "cell_type": "code",
      "metadata": {
        "id": "KcIVTLSLcXQ4",
        "colab_type": "code",
        "colab": {}
      },
      "source": [
        ""
      ],
      "execution_count": 0,
      "outputs": []
    }
  ]
}