{
 "cells": [
  {
   "cell_type": "code",
   "execution_count": 1,
   "metadata": {},
   "outputs": [],
   "source": [
    "#!pip show plotnine"
   ]
  },
  {
   "cell_type": "code",
   "execution_count": 2,
   "metadata": {},
   "outputs": [],
   "source": [
    "#!pip show missingno"
   ]
  },
  {
   "cell_type": "code",
   "execution_count": 3,
   "metadata": {},
   "outputs": [],
   "source": [
    "# warning 메시지 출력 x\n",
    "import warnings\n",
    "warnings.filterwarnings('ignore')"
   ]
  },
  {
   "cell_type": "code",
   "execution_count": 4,
   "metadata": {},
   "outputs": [],
   "source": [
    "import pandas as pd\n",
    "import numpy as np\n",
    "import matplotlib.pyplot as plt\n",
    "import re\n",
    "from plotnine import *"
   ]
  },
  {
   "cell_type": "code",
   "execution_count": 5,
   "metadata": {},
   "outputs": [],
   "source": [
    "# 한글 폰트 적용\n",
    "plt.rcParams[\"font.family\"] = 'NanumBarunGothic'"
   ]
  },
  {
   "cell_type": "code",
   "execution_count": 6,
   "metadata": {},
   "outputs": [
    {
     "data": {
      "text/plain": [
       "'/d/GIT/jupyter-notebook/open_data_wrangling'"
      ]
     },
     "execution_count": 6,
     "metadata": {},
     "output_type": "execute_result"
    }
   ],
   "source": [
    "# 현재 위치정보 출력\n",
    "%pwd"
   ]
  },
  {
   "cell_type": "code",
   "execution_count": 7,
   "metadata": {},
   "outputs": [
    {
     "name": "stdout",
     "output_type": "stream",
     "text": [
      "\u001b[0m\u001b[01;32m'전국 평균 분양가격(2013년 9월부터 2015년 12월까지).csv'\u001b[0m*\r\n",
      "\u001b[01;32m'주택도시보증공사_전국 평균 분양가격(2019년 12월).csv'\u001b[0m*\r\n"
     ]
    }
   ],
   "source": [
    "# data 폴더 아래에 데이터 출력\n",
    "%ls data/apt_price/"
   ]
  },
  {
   "cell_type": "code",
   "execution_count": 8,
   "metadata": {},
   "outputs": [
    {
     "data": {
      "text/plain": [
       "(4335, 5)"
      ]
     },
     "execution_count": 8,
     "metadata": {},
     "output_type": "execute_result"
    }
   ],
   "source": [
    "pre_sale = pd.read_csv('data/apt_price/주택도시보증공사_전국 평균 분양가격(2019년 12월).csv', encoding='euc-kr')\n",
    "pre_sale.shape"
   ]
  },
  {
   "cell_type": "code",
   "execution_count": 9,
   "metadata": {},
   "outputs": [
    {
     "data": {
      "text/html": [
       "<div>\n",
       "<style scoped>\n",
       "    .dataframe tbody tr th:only-of-type {\n",
       "        vertical-align: middle;\n",
       "    }\n",
       "\n",
       "    .dataframe tbody tr th {\n",
       "        vertical-align: top;\n",
       "    }\n",
       "\n",
       "    .dataframe thead th {\n",
       "        text-align: right;\n",
       "    }\n",
       "</style>\n",
       "<table border=\"1\" class=\"dataframe\">\n",
       "  <thead>\n",
       "    <tr style=\"text-align: right;\">\n",
       "      <th></th>\n",
       "      <th>지역명</th>\n",
       "      <th>규모구분</th>\n",
       "      <th>연도</th>\n",
       "      <th>월</th>\n",
       "      <th>분양가격(㎡)</th>\n",
       "    </tr>\n",
       "  </thead>\n",
       "  <tbody>\n",
       "    <tr>\n",
       "      <td>0</td>\n",
       "      <td>서울</td>\n",
       "      <td>전체</td>\n",
       "      <td>2015</td>\n",
       "      <td>10</td>\n",
       "      <td>5841</td>\n",
       "    </tr>\n",
       "    <tr>\n",
       "      <td>1</td>\n",
       "      <td>서울</td>\n",
       "      <td>전용면적 60㎡이하</td>\n",
       "      <td>2015</td>\n",
       "      <td>10</td>\n",
       "      <td>5652</td>\n",
       "    </tr>\n",
       "    <tr>\n",
       "      <td>2</td>\n",
       "      <td>서울</td>\n",
       "      <td>전용면적 60㎡초과 85㎡이하</td>\n",
       "      <td>2015</td>\n",
       "      <td>10</td>\n",
       "      <td>5882</td>\n",
       "    </tr>\n",
       "    <tr>\n",
       "      <td>3</td>\n",
       "      <td>서울</td>\n",
       "      <td>전용면적 85㎡초과 102㎡이하</td>\n",
       "      <td>2015</td>\n",
       "      <td>10</td>\n",
       "      <td>5721</td>\n",
       "    </tr>\n",
       "    <tr>\n",
       "      <td>4</td>\n",
       "      <td>서울</td>\n",
       "      <td>전용면적 102㎡초과</td>\n",
       "      <td>2015</td>\n",
       "      <td>10</td>\n",
       "      <td>5879</td>\n",
       "    </tr>\n",
       "  </tbody>\n",
       "</table>\n",
       "</div>"
      ],
      "text/plain": [
       "  지역명               규모구분    연도   월 분양가격(㎡)\n",
       "0  서울                 전체  2015  10    5841\n",
       "1  서울         전용면적 60㎡이하  2015  10    5652\n",
       "2  서울   전용면적 60㎡초과 85㎡이하  2015  10    5882\n",
       "3  서울  전용면적 85㎡초과 102㎡이하  2015  10    5721\n",
       "4  서울        전용면적 102㎡초과  2015  10    5879"
      ]
     },
     "execution_count": 9,
     "metadata": {},
     "output_type": "execute_result"
    }
   ],
   "source": [
    "pre_sale.head()"
   ]
  },
  {
   "cell_type": "code",
   "execution_count": 10,
   "metadata": {},
   "outputs": [
    {
     "data": {
      "text/html": [
       "<div>\n",
       "<style scoped>\n",
       "    .dataframe tbody tr th:only-of-type {\n",
       "        vertical-align: middle;\n",
       "    }\n",
       "\n",
       "    .dataframe tbody tr th {\n",
       "        vertical-align: top;\n",
       "    }\n",
       "\n",
       "    .dataframe thead th {\n",
       "        text-align: right;\n",
       "    }\n",
       "</style>\n",
       "<table border=\"1\" class=\"dataframe\">\n",
       "  <thead>\n",
       "    <tr style=\"text-align: right;\">\n",
       "      <th></th>\n",
       "      <th>지역명</th>\n",
       "      <th>규모구분</th>\n",
       "      <th>연도</th>\n",
       "      <th>월</th>\n",
       "      <th>분양가격(㎡)</th>\n",
       "    </tr>\n",
       "  </thead>\n",
       "  <tbody>\n",
       "    <tr>\n",
       "      <td>4330</td>\n",
       "      <td>제주</td>\n",
       "      <td>전체</td>\n",
       "      <td>2019</td>\n",
       "      <td>12</td>\n",
       "      <td>3882</td>\n",
       "    </tr>\n",
       "    <tr>\n",
       "      <td>4331</td>\n",
       "      <td>제주</td>\n",
       "      <td>전용면적 60㎡이하</td>\n",
       "      <td>2019</td>\n",
       "      <td>12</td>\n",
       "      <td>NaN</td>\n",
       "    </tr>\n",
       "    <tr>\n",
       "      <td>4332</td>\n",
       "      <td>제주</td>\n",
       "      <td>전용면적 60㎡초과 85㎡이하</td>\n",
       "      <td>2019</td>\n",
       "      <td>12</td>\n",
       "      <td>3898</td>\n",
       "    </tr>\n",
       "    <tr>\n",
       "      <td>4333</td>\n",
       "      <td>제주</td>\n",
       "      <td>전용면적 85㎡초과 102㎡이하</td>\n",
       "      <td>2019</td>\n",
       "      <td>12</td>\n",
       "      <td>NaN</td>\n",
       "    </tr>\n",
       "    <tr>\n",
       "      <td>4334</td>\n",
       "      <td>제주</td>\n",
       "      <td>전용면적 102㎡초과</td>\n",
       "      <td>2019</td>\n",
       "      <td>12</td>\n",
       "      <td>3601</td>\n",
       "    </tr>\n",
       "  </tbody>\n",
       "</table>\n",
       "</div>"
      ],
      "text/plain": [
       "     지역명               규모구분    연도   월 분양가격(㎡)\n",
       "4330  제주                 전체  2019  12    3882\n",
       "4331  제주         전용면적 60㎡이하  2019  12     NaN\n",
       "4332  제주   전용면적 60㎡초과 85㎡이하  2019  12    3898\n",
       "4333  제주  전용면적 85㎡초과 102㎡이하  2019  12     NaN\n",
       "4334  제주        전용면적 102㎡초과  2019  12    3601"
      ]
     },
     "execution_count": 10,
     "metadata": {},
     "output_type": "execute_result"
    }
   ],
   "source": [
    "pre_sale.tail()"
   ]
  },
  {
   "cell_type": "code",
   "execution_count": 11,
   "metadata": {},
   "outputs": [
    {
     "name": "stdout",
     "output_type": "stream",
     "text": [
      "<class 'pandas.core.frame.DataFrame'>\n",
      "RangeIndex: 4335 entries, 0 to 4334\n",
      "Data columns (total 5 columns):\n",
      "지역명        4335 non-null object\n",
      "규모구분       4335 non-null object\n",
      "연도         4335 non-null int64\n",
      "월          4335 non-null int64\n",
      "분양가격(㎡)    4058 non-null object\n",
      "dtypes: int64(2), object(3)\n",
      "memory usage: 169.5+ KB\n"
     ]
    }
   ],
   "source": [
    "# 데이터 요약 정보 출력\n",
    "pre_sale.info()"
   ]
  },
  {
   "cell_type": "code",
   "execution_count": 12,
   "metadata": {},
   "outputs": [
    {
     "data": {
      "text/plain": [
       "지역명        object\n",
       "규모구분       object\n",
       "연도          int64\n",
       "월           int64\n",
       "분양가격(㎡)    object\n",
       "dtype: object"
      ]
     },
     "execution_count": 12,
     "metadata": {},
     "output_type": "execute_result"
    }
   ],
   "source": [
    "# 데이터 타입 정보 출력\n",
    "pre_sale.dtypes"
   ]
  },
  {
   "cell_type": "code",
   "execution_count": 13,
   "metadata": {},
   "outputs": [
    {
     "data": {
      "text/plain": [
       "지역명          0\n",
       "규모구분         0\n",
       "연도           0\n",
       "월            0\n",
       "분양가격(㎡)    277\n",
       "dtype: int64"
      ]
     },
     "execution_count": 13,
     "metadata": {},
     "output_type": "execute_result"
    }
   ],
   "source": [
    "# 결측치 확인\n",
    "pre_sale.isnull().sum()"
   ]
  },
  {
   "cell_type": "code",
   "execution_count": 14,
   "metadata": {},
   "outputs": [
    {
     "data": {
      "image/png": "[encoded data removed]",
      "text/plain": [
       "<Figure size 1296x432 with 2 Axes>"
      ]
     },
     "metadata": {
      "needs_background": "light"
     },
     "output_type": "display_data"
    }
   ],
   "source": [
    "# 결측치 보기\n",
    "import missingno as msno\n",
    "msno.matrix(pre_sale, figsize=(18, 6));"
   ]
  },
  {
   "cell_type": "code",
   "execution_count": 15,
   "metadata": {},
   "outputs": [],
   "source": [
    "# 연도와 월은 카테고리 형태의 데이터이기 때문에 스트링 형태로 변경\n",
    "pre_sale['연도'] = pre_sale['연도'].astype(str)\n",
    "pre_sale['월'] = pre_sale['월'].astype(str)"
   ]
  },
  {
   "cell_type": "code",
   "execution_count": 16,
   "metadata": {},
   "outputs": [],
   "source": [
    "pre_sale_price = pre_sale['분양가격(㎡)']"
   ]
  },
  {
   "cell_type": "code",
   "execution_count": 17,
   "metadata": {},
   "outputs": [],
   "source": [
    "# 분양가격의 타입을 숫자로 변경해 줍니다.\n",
    "pre_sale['분양가격'] = pd.to_numeric(pre_sale_price, errors='coerce')\n",
    "# 평당 분양 가격 구하기\n",
    "pre_sale['평당분양가격'] = pre_sale['분양가격'] * 3.3"
   ]
  },
  {
   "cell_type": "code",
   "execution_count": 18,
   "metadata": {},
   "outputs": [
    {
     "name": "stdout",
     "output_type": "stream",
     "text": [
      "<class 'pandas.core.frame.DataFrame'>\n",
      "RangeIndex: 4335 entries, 0 to 4334\n",
      "Data columns (total 7 columns):\n",
      "지역명        4335 non-null object\n",
      "규모구분       4335 non-null object\n",
      "연도         4335 non-null object\n",
      "월          4335 non-null object\n",
      "분양가격(㎡)    4058 non-null object\n",
      "분양가격       3957 non-null float64\n",
      "평당분양가격     3957 non-null float64\n",
      "dtypes: float64(2), object(5)\n",
      "memory usage: 237.2+ KB\n"
     ]
    }
   ],
   "source": [
    "pre_sale.info()"
   ]
  },
  {
   "cell_type": "code",
   "execution_count": 19,
   "metadata": {},
   "outputs": [
    {
     "data": {
      "text/plain": [
       "지역명         object\n",
       "규모구분        object\n",
       "연도          object\n",
       "월           object\n",
       "분양가격(㎡)     object\n",
       "분양가격       float64\n",
       "평당분양가격     float64\n",
       "dtype: object"
      ]
     },
     "execution_count": 19,
     "metadata": {},
     "output_type": "execute_result"
    }
   ],
   "source": [
    "pre_sale.dtypes"
   ]
  },
  {
   "cell_type": "code",
   "execution_count": 20,
   "metadata": {},
   "outputs": [
    {
     "data": {
      "text/plain": [
       "지역명          0\n",
       "규모구분         0\n",
       "연도           0\n",
       "월            0\n",
       "분양가격(㎡)    277\n",
       "분양가격       378\n",
       "평당분양가격     378\n",
       "dtype: int64"
      ]
     },
     "execution_count": 20,
     "metadata": {},
     "output_type": "execute_result"
    }
   ],
   "source": [
    "# 분양가격에 결측치 파악\n",
    "pre_sale.isnull().sum()"
   ]
  },
  {
   "cell_type": "code",
   "execution_count": 21,
   "metadata": {},
   "outputs": [
    {
     "data": {
      "text/html": [
       "<div>\n",
       "<style scoped>\n",
       "    .dataframe tbody tr th:only-of-type {\n",
       "        vertical-align: middle;\n",
       "    }\n",
       "\n",
       "    .dataframe tbody tr th {\n",
       "        vertical-align: top;\n",
       "    }\n",
       "\n",
       "    .dataframe thead th {\n",
       "        text-align: right;\n",
       "    }\n",
       "</style>\n",
       "<table border=\"1\" class=\"dataframe\">\n",
       "  <thead>\n",
       "    <tr style=\"text-align: right;\">\n",
       "      <th></th>\n",
       "      <th>분양가격</th>\n",
       "      <th>평당분양가격</th>\n",
       "    </tr>\n",
       "  </thead>\n",
       "  <tbody>\n",
       "    <tr>\n",
       "      <td>count</td>\n",
       "      <td>3957.000000</td>\n",
       "      <td>3957.000000</td>\n",
       "    </tr>\n",
       "    <tr>\n",
       "      <td>mean</td>\n",
       "      <td>3238.128633</td>\n",
       "      <td>10685.824488</td>\n",
       "    </tr>\n",
       "    <tr>\n",
       "      <td>std</td>\n",
       "      <td>1264.309933</td>\n",
       "      <td>4172.222780</td>\n",
       "    </tr>\n",
       "    <tr>\n",
       "      <td>min</td>\n",
       "      <td>1868.000000</td>\n",
       "      <td>6164.400000</td>\n",
       "    </tr>\n",
       "    <tr>\n",
       "      <td>25%</td>\n",
       "      <td>2441.000000</td>\n",
       "      <td>8055.300000</td>\n",
       "    </tr>\n",
       "    <tr>\n",
       "      <td>50%</td>\n",
       "      <td>2874.000000</td>\n",
       "      <td>9484.200000</td>\n",
       "    </tr>\n",
       "    <tr>\n",
       "      <td>75%</td>\n",
       "      <td>3561.000000</td>\n",
       "      <td>11751.300000</td>\n",
       "    </tr>\n",
       "    <tr>\n",
       "      <td>max</td>\n",
       "      <td>12728.000000</td>\n",
       "      <td>42002.400000</td>\n",
       "    </tr>\n",
       "  </tbody>\n",
       "</table>\n",
       "</div>"
      ],
      "text/plain": [
       "               분양가격        평당분양가격\n",
       "count   3957.000000   3957.000000\n",
       "mean    3238.128633  10685.824488\n",
       "std     1264.309933   4172.222780\n",
       "min     1868.000000   6164.400000\n",
       "25%     2441.000000   8055.300000\n",
       "50%     2874.000000   9484.200000\n",
       "75%     3561.000000  11751.300000\n",
       "max    12728.000000  42002.400000"
      ]
     },
     "execution_count": 21,
     "metadata": {},
     "output_type": "execute_result"
    }
   ],
   "source": [
    "pre_sale.describe()"
   ]
  },
  {
   "cell_type": "code",
   "execution_count": 22,
   "metadata": {},
   "outputs": [
    {
     "data": {
      "text/html": [
       "<div>\n",
       "<style scoped>\n",
       "    .dataframe tbody tr th:only-of-type {\n",
       "        vertical-align: middle;\n",
       "    }\n",
       "\n",
       "    .dataframe tbody tr th {\n",
       "        vertical-align: top;\n",
       "    }\n",
       "\n",
       "    .dataframe thead th {\n",
       "        text-align: right;\n",
       "    }\n",
       "</style>\n",
       "<table border=\"1\" class=\"dataframe\">\n",
       "  <thead>\n",
       "    <tr style=\"text-align: right;\">\n",
       "      <th></th>\n",
       "      <th>지역명</th>\n",
       "      <th>규모구분</th>\n",
       "      <th>연도</th>\n",
       "      <th>월</th>\n",
       "      <th>분양가격(㎡)</th>\n",
       "    </tr>\n",
       "  </thead>\n",
       "  <tbody>\n",
       "    <tr>\n",
       "      <td>count</td>\n",
       "      <td>4335</td>\n",
       "      <td>4335</td>\n",
       "      <td>4335</td>\n",
       "      <td>4335</td>\n",
       "      <td>4058</td>\n",
       "    </tr>\n",
       "    <tr>\n",
       "      <td>unique</td>\n",
       "      <td>17</td>\n",
       "      <td>5</td>\n",
       "      <td>5</td>\n",
       "      <td>12</td>\n",
       "      <td>1753</td>\n",
       "    </tr>\n",
       "    <tr>\n",
       "      <td>top</td>\n",
       "      <td>인천</td>\n",
       "      <td>전체</td>\n",
       "      <td>2019</td>\n",
       "      <td>12</td>\n",
       "      <td>2221</td>\n",
       "    </tr>\n",
       "    <tr>\n",
       "      <td>freq</td>\n",
       "      <td>255</td>\n",
       "      <td>867</td>\n",
       "      <td>1020</td>\n",
       "      <td>425</td>\n",
       "      <td>17</td>\n",
       "    </tr>\n",
       "  </tbody>\n",
       "</table>\n",
       "</div>"
      ],
      "text/plain": [
       "         지역명  규모구분    연도     월 분양가격(㎡)\n",
       "count   4335  4335  4335  4335    4058\n",
       "unique    17     5     5    12    1753\n",
       "top       인천    전체  2019    12    2221\n",
       "freq     255   867  1020   425      17"
      ]
     },
     "execution_count": 22,
     "metadata": {},
     "output_type": "execute_result"
    }
   ],
   "source": [
    "pre_sale.describe(include=[np.object])"
   ]
  },
  {
   "cell_type": "code",
   "execution_count": 23,
   "metadata": {},
   "outputs": [
    {
     "data": {
      "text/plain": [
       "(1020, 7)"
      ]
     },
     "execution_count": 23,
     "metadata": {},
     "output_type": "execute_result"
    }
   ],
   "source": [
    "# 2017년 데이터만 보기\n",
    "pre_sale_2017 = pre_sale.loc[pre_sale['연도'] == '2017']\n",
    "pre_sale_2017.shape"
   ]
  },
  {
   "cell_type": "code",
   "execution_count": 24,
   "metadata": {},
   "outputs": [
    {
     "data": {
      "text/plain": [
       "전체                   867\n",
       "전용면적 102㎡초과          867\n",
       "전용면적 85㎡초과 102㎡이하    867\n",
       "전용면적 60㎡이하           867\n",
       "전용면적 60㎡초과 85㎡이하     867\n",
       "Name: 규모구분, dtype: int64"
      ]
     },
     "execution_count": 24,
     "metadata": {},
     "output_type": "execute_result"
    }
   ],
   "source": [
    "# 같은 값을 갖고 있는 걸로 시도별로 동일하게 데이터가 들어있음\n",
    "pre_sale['규모구분'].value_counts()"
   ]
  },
  {
   "cell_type": "code",
   "execution_count": 25,
   "metadata": {},
   "outputs": [
    {
     "data": {
      "text/plain": [
       "인천    255\n",
       "부산    255\n",
       "경남    255\n",
       "광주    255\n",
       "충남    255\n",
       "대전    255\n",
       "경기    255\n",
       "대구    255\n",
       "충북    255\n",
       "서울    255\n",
       "경북    255\n",
       "전남    255\n",
       "세종    255\n",
       "강원    255\n",
       "제주    255\n",
       "울산    255\n",
       "전북    255\n",
       "Name: 지역명, dtype: int64"
      ]
     },
     "execution_count": 25,
     "metadata": {},
     "output_type": "execute_result"
    }
   ],
   "source": [
    "pre_sale['지역명'].value_counts()"
   ]
  },
  {
   "cell_type": "markdown",
   "metadata": {},
   "source": [
    "## 전국평균 분양가격\n",
    "- groupby와 pivot_table 사용하기"
   ]
  },
  {
   "cell_type": "code",
   "execution_count": 26,
   "metadata": {},
   "outputs": [
    {
     "data": {
      "text/html": [
       "<div>\n",
       "<style scoped>\n",
       "    .dataframe tbody tr th:only-of-type {\n",
       "        vertical-align: middle;\n",
       "    }\n",
       "\n",
       "    .dataframe tbody tr th {\n",
       "        vertical-align: top;\n",
       "    }\n",
       "\n",
       "    .dataframe thead th {\n",
       "        text-align: right;\n",
       "    }\n",
       "</style>\n",
       "<table border=\"1\" class=\"dataframe\">\n",
       "  <thead>\n",
       "    <tr style=\"text-align: right;\">\n",
       "      <th>연도</th>\n",
       "      <th>2015</th>\n",
       "      <th>2016</th>\n",
       "      <th>2017</th>\n",
       "      <th>2018</th>\n",
       "      <th>2019</th>\n",
       "    </tr>\n",
       "  </thead>\n",
       "  <tbody>\n",
       "    <tr>\n",
       "      <td>count</td>\n",
       "      <td>243</td>\n",
       "      <td>984</td>\n",
       "      <td>899</td>\n",
       "      <td>919</td>\n",
       "      <td>912</td>\n",
       "    </tr>\n",
       "    <tr>\n",
       "      <td>mean</td>\n",
       "      <td>9,203</td>\n",
       "      <td>9,683</td>\n",
       "      <td>10,360</td>\n",
       "      <td>10,979</td>\n",
       "      <td>12,188</td>\n",
       "    </tr>\n",
       "    <tr>\n",
       "      <td>std</td>\n",
       "      <td>3,224</td>\n",
       "      <td>3,536</td>\n",
       "      <td>3,655</td>\n",
       "      <td>3,914</td>\n",
       "      <td>5,159</td>\n",
       "    </tr>\n",
       "    <tr>\n",
       "      <td>min</td>\n",
       "      <td>6,164</td>\n",
       "      <td>6,270</td>\n",
       "      <td>6,521</td>\n",
       "      <td>6,851</td>\n",
       "      <td>7,009</td>\n",
       "    </tr>\n",
       "    <tr>\n",
       "      <td>25%</td>\n",
       "      <td>7,342</td>\n",
       "      <td>7,531</td>\n",
       "      <td>7,804</td>\n",
       "      <td>8,332</td>\n",
       "      <td>8,697</td>\n",
       "    </tr>\n",
       "    <tr>\n",
       "      <td>50%</td>\n",
       "      <td>8,303</td>\n",
       "      <td>8,818</td>\n",
       "      <td>9,402</td>\n",
       "      <td>9,742</td>\n",
       "      <td>11,204</td>\n",
       "    </tr>\n",
       "    <tr>\n",
       "      <td>75%</td>\n",
       "      <td>9,984</td>\n",
       "      <td>10,390</td>\n",
       "      <td>11,405</td>\n",
       "      <td>12,203</td>\n",
       "      <td>13,419</td>\n",
       "    </tr>\n",
       "    <tr>\n",
       "      <td>max</td>\n",
       "      <td>23,404</td>\n",
       "      <td>26,717</td>\n",
       "      <td>26,027</td>\n",
       "      <td>26,723</td>\n",
       "      <td>42,002</td>\n",
       "    </tr>\n",
       "  </tbody>\n",
       "</table>\n",
       "</div>"
      ],
      "text/plain": [
       "연도      2015   2016   2017   2018   2019\n",
       "count    243    984    899    919    912\n",
       "mean   9,203  9,683 10,360 10,979 12,188\n",
       "std    3,224  3,536  3,655  3,914  5,159\n",
       "min    6,164  6,270  6,521  6,851  7,009\n",
       "25%    7,342  7,531  7,804  8,332  8,697\n",
       "50%    8,303  8,818  9,402  9,742 11,204\n",
       "75%    9,984 10,390 11,405 12,203 13,419\n",
       "max   23,404 26,717 26,027 26,723 42,002"
      ]
     },
     "execution_count": 26,
     "metadata": {},
     "output_type": "execute_result"
    }
   ],
   "source": [
    "pd.options.display.float_format = '{:,.0f}'.format\n",
    "pre_sale.groupby(pre_sale.연도)['평당분양가격'].describe().T"
   ]
  },
  {
   "cell_type": "markdown",
   "metadata": {},
   "source": [
    "## 규모별 전국 평균 분양가격"
   ]
  },
  {
   "cell_type": "code",
   "execution_count": 27,
   "metadata": {},
   "outputs": [
    {
     "data": {
      "text/html": [
       "<div>\n",
       "<style scoped>\n",
       "    .dataframe tbody tr th:only-of-type {\n",
       "        vertical-align: middle;\n",
       "    }\n",
       "\n",
       "    .dataframe tbody tr th {\n",
       "        vertical-align: top;\n",
       "    }\n",
       "\n",
       "    .dataframe thead th {\n",
       "        text-align: right;\n",
       "    }\n",
       "</style>\n",
       "<table border=\"1\" class=\"dataframe\">\n",
       "  <thead>\n",
       "    <tr style=\"text-align: right;\">\n",
       "      <th>연도</th>\n",
       "      <th>2015</th>\n",
       "      <th>2016</th>\n",
       "      <th>2017</th>\n",
       "      <th>2018</th>\n",
       "      <th>2019</th>\n",
       "    </tr>\n",
       "    <tr>\n",
       "      <th>규모구분</th>\n",
       "      <th></th>\n",
       "      <th></th>\n",
       "      <th></th>\n",
       "      <th></th>\n",
       "      <th></th>\n",
       "    </tr>\n",
       "  </thead>\n",
       "  <tbody>\n",
       "    <tr>\n",
       "      <td>전용면적 102㎡초과</td>\n",
       "      <td>9,837</td>\n",
       "      <td>10,389</td>\n",
       "      <td>11,334</td>\n",
       "      <td>11,446</td>\n",
       "      <td>13,332</td>\n",
       "    </tr>\n",
       "    <tr>\n",
       "      <td>전용면적 60㎡이하</td>\n",
       "      <td>8,952</td>\n",
       "      <td>9,399</td>\n",
       "      <td>10,246</td>\n",
       "      <td>10,844</td>\n",
       "      <td>11,507</td>\n",
       "    </tr>\n",
       "    <tr>\n",
       "      <td>전용면적 60㎡초과 85㎡이하</td>\n",
       "      <td>8,892</td>\n",
       "      <td>9,296</td>\n",
       "      <td>9,825</td>\n",
       "      <td>10,651</td>\n",
       "      <td>11,677</td>\n",
       "    </tr>\n",
       "    <tr>\n",
       "      <td>전용면적 85㎡초과 102㎡이하</td>\n",
       "      <td>9,519</td>\n",
       "      <td>10,122</td>\n",
       "      <td>10,540</td>\n",
       "      <td>11,442</td>\n",
       "      <td>12,981</td>\n",
       "    </tr>\n",
       "    <tr>\n",
       "      <td>전체</td>\n",
       "      <td>8,893</td>\n",
       "      <td>9,293</td>\n",
       "      <td>9,901</td>\n",
       "      <td>10,676</td>\n",
       "      <td>11,603</td>\n",
       "    </tr>\n",
       "  </tbody>\n",
       "</table>\n",
       "</div>"
      ],
      "text/plain": [
       "연도                 2015   2016   2017   2018   2019\n",
       "규모구분                                               \n",
       "전용면적 102㎡초과       9,837 10,389 11,334 11,446 13,332\n",
       "전용면적 60㎡이하        8,952  9,399 10,246 10,844 11,507\n",
       "전용면적 60㎡초과 85㎡이하  8,892  9,296  9,825 10,651 11,677\n",
       "전용면적 85㎡초과 102㎡이하 9,519 10,122 10,540 11,442 12,981\n",
       "전체                8,893  9,293  9,901 10,676 11,603"
      ]
     },
     "execution_count": 27,
     "metadata": {},
     "output_type": "execute_result"
    }
   ],
   "source": [
    "pre_sale.pivot_table('평당분양가격', '규모구분', '연도')"
   ]
  },
  {
   "cell_type": "markdown",
   "metadata": {},
   "source": [
    "## 전국 분양가 변동금액\n",
    "규모구분이 전체로 되어있는 금액으로 연도별 변동금액을 살펴봄"
   ]
  },
  {
   "cell_type": "code",
   "execution_count": 28,
   "metadata": {},
   "outputs": [
    {
     "data": {
      "text/html": [
       "<div>\n",
       "<style scoped>\n",
       "    .dataframe tbody tr th:only-of-type {\n",
       "        vertical-align: middle;\n",
       "    }\n",
       "\n",
       "    .dataframe tbody tr th {\n",
       "        vertical-align: top;\n",
       "    }\n",
       "\n",
       "    .dataframe thead th {\n",
       "        text-align: right;\n",
       "    }\n",
       "</style>\n",
       "<table border=\"1\" class=\"dataframe\">\n",
       "  <thead>\n",
       "    <tr style=\"text-align: right;\">\n",
       "      <th>연도</th>\n",
       "      <th>지역명</th>\n",
       "      <th>2015</th>\n",
       "      <th>2016</th>\n",
       "      <th>2017</th>\n",
       "      <th>2018</th>\n",
       "      <th>2019</th>\n",
       "    </tr>\n",
       "  </thead>\n",
       "  <tbody>\n",
       "    <tr>\n",
       "      <td>0</td>\n",
       "      <td>강원</td>\n",
       "      <td>7,160</td>\n",
       "      <td>7,011</td>\n",
       "      <td>7,127</td>\n",
       "      <td>7,681</td>\n",
       "      <td>8,142</td>\n",
       "    </tr>\n",
       "    <tr>\n",
       "      <td>1</td>\n",
       "      <td>경기</td>\n",
       "      <td>10,377</td>\n",
       "      <td>11,220</td>\n",
       "      <td>11,850</td>\n",
       "      <td>13,186</td>\n",
       "      <td>14,469</td>\n",
       "    </tr>\n",
       "    <tr>\n",
       "      <td>2</td>\n",
       "      <td>경남</td>\n",
       "      <td>7,586</td>\n",
       "      <td>7,848</td>\n",
       "      <td>8,120</td>\n",
       "      <td>9,019</td>\n",
       "      <td>9,871</td>\n",
       "    </tr>\n",
       "    <tr>\n",
       "      <td>3</td>\n",
       "      <td>경북</td>\n",
       "      <td>7,171</td>\n",
       "      <td>7,361</td>\n",
       "      <td>7,795</td>\n",
       "      <td>8,505</td>\n",
       "      <td>8,857</td>\n",
       "    </tr>\n",
       "    <tr>\n",
       "      <td>4</td>\n",
       "      <td>광주</td>\n",
       "      <td>8,052</td>\n",
       "      <td>8,899</td>\n",
       "      <td>9,464</td>\n",
       "      <td>9,856</td>\n",
       "      <td>11,823</td>\n",
       "    </tr>\n",
       "    <tr>\n",
       "      <td>5</td>\n",
       "      <td>대구</td>\n",
       "      <td>9,232</td>\n",
       "      <td>10,310</td>\n",
       "      <td>11,456</td>\n",
       "      <td>12,076</td>\n",
       "      <td>13,852</td>\n",
       "    </tr>\n",
       "    <tr>\n",
       "      <td>6</td>\n",
       "      <td>대전</td>\n",
       "      <td>8,098</td>\n",
       "      <td>8,502</td>\n",
       "      <td>9,045</td>\n",
       "      <td>10,180</td>\n",
       "      <td>11,778</td>\n",
       "    </tr>\n",
       "    <tr>\n",
       "      <td>7</td>\n",
       "      <td>부산</td>\n",
       "      <td>10,307</td>\n",
       "      <td>10,430</td>\n",
       "      <td>11,578</td>\n",
       "      <td>12,998</td>\n",
       "      <td>13,116</td>\n",
       "    </tr>\n",
       "    <tr>\n",
       "      <td>8</td>\n",
       "      <td>서울</td>\n",
       "      <td>19,725</td>\n",
       "      <td>20,663</td>\n",
       "      <td>21,376</td>\n",
       "      <td>22,889</td>\n",
       "      <td>26,131</td>\n",
       "    </tr>\n",
       "    <tr>\n",
       "      <td>9</td>\n",
       "      <td>세종</td>\n",
       "      <td>8,750</td>\n",
       "      <td>8,860</td>\n",
       "      <td>9,135</td>\n",
       "      <td>10,355</td>\n",
       "      <td>11,079</td>\n",
       "    </tr>\n",
       "    <tr>\n",
       "      <td>10</td>\n",
       "      <td>울산</td>\n",
       "      <td>10,053</td>\n",
       "      <td>10,209</td>\n",
       "      <td>11,345</td>\n",
       "      <td>10,241</td>\n",
       "      <td>10,022</td>\n",
       "    </tr>\n",
       "    <tr>\n",
       "      <td>11</td>\n",
       "      <td>인천</td>\n",
       "      <td>10,484</td>\n",
       "      <td>10,532</td>\n",
       "      <td>10,737</td>\n",
       "      <td>11,274</td>\n",
       "      <td>12,635</td>\n",
       "    </tr>\n",
       "    <tr>\n",
       "      <td>12</td>\n",
       "      <td>전남</td>\n",
       "      <td>6,317</td>\n",
       "      <td>6,489</td>\n",
       "      <td>7,188</td>\n",
       "      <td>7,789</td>\n",
       "      <td>7,902</td>\n",
       "    </tr>\n",
       "    <tr>\n",
       "      <td>13</td>\n",
       "      <td>전북</td>\n",
       "      <td>6,703</td>\n",
       "      <td>6,418</td>\n",
       "      <td>7,058</td>\n",
       "      <td>7,626</td>\n",
       "      <td>8,197</td>\n",
       "    </tr>\n",
       "    <tr>\n",
       "      <td>14</td>\n",
       "      <td>제주</td>\n",
       "      <td>7,405</td>\n",
       "      <td>9,129</td>\n",
       "      <td>10,831</td>\n",
       "      <td>11,891</td>\n",
       "      <td>12,138</td>\n",
       "    </tr>\n",
       "    <tr>\n",
       "      <td>15</td>\n",
       "      <td>충남</td>\n",
       "      <td>7,115</td>\n",
       "      <td>7,331</td>\n",
       "      <td>7,456</td>\n",
       "      <td>8,013</td>\n",
       "      <td>8,607</td>\n",
       "    </tr>\n",
       "    <tr>\n",
       "      <td>16</td>\n",
       "      <td>충북</td>\n",
       "      <td>6,645</td>\n",
       "      <td>6,770</td>\n",
       "      <td>6,763</td>\n",
       "      <td>7,874</td>\n",
       "      <td>7,575</td>\n",
       "    </tr>\n",
       "  </tbody>\n",
       "</table>\n",
       "</div>"
      ],
      "text/plain": [
       "연도 지역명   2015   2016   2017   2018   2019\n",
       "0   강원  7,160  7,011  7,127  7,681  8,142\n",
       "1   경기 10,377 11,220 11,850 13,186 14,469\n",
       "2   경남  7,586  7,848  8,120  9,019  9,871\n",
       "3   경북  7,171  7,361  7,795  8,505  8,857\n",
       "4   광주  8,052  8,899  9,464  9,856 11,823\n",
       "5   대구  9,232 10,310 11,456 12,076 13,852\n",
       "6   대전  8,098  8,502  9,045 10,180 11,778\n",
       "7   부산 10,307 10,430 11,578 12,998 13,116\n",
       "8   서울 19,725 20,663 21,376 22,889 26,131\n",
       "9   세종  8,750  8,860  9,135 10,355 11,079\n",
       "10  울산 10,053 10,209 11,345 10,241 10,022\n",
       "11  인천 10,484 10,532 10,737 11,274 12,635\n",
       "12  전남  6,317  6,489  7,188  7,789  7,902\n",
       "13  전북  6,703  6,418  7,058  7,626  8,197\n",
       "14  제주  7,405  9,129 10,831 11,891 12,138\n",
       "15  충남  7,115  7,331  7,456  8,013  8,607\n",
       "16  충북  6,645  6,770  6,763  7,874  7,575"
      ]
     },
     "execution_count": 28,
     "metadata": {},
     "output_type": "execute_result"
    }
   ],
   "source": [
    "# 규모구분에서 전체로 되어있는 데이터만 가져옴\n",
    "region_year_all = pre_sale.loc[pre_sale['규모구분'] == '전체']\n",
    "region_year = region_year_all.pivot_table('평당분양가격', '지역명', '연도').reset_index()\n",
    "region_year"
   ]
  },
  {
   "cell_type": "code",
   "execution_count": 29,
   "metadata": {},
   "outputs": [
    {
     "name": "stdout",
     "output_type": "stream",
     "text": [
      "2015년부터 2019년까지 분양가는 계속 상승했으며, 상승액이 가장 큰 지역은 서울이며 상승액은 평당 6,405,000원이다\n",
      "상승액이 가장 작은 지역은 울산이며 평당 -30,000원이다\n",
      "하지만 나중에 살펴보겠지만 울산에는 결측치가 많다. 따라서 변동액이 가장 작다라고 판단하기 어렵다.\n",
      "전국 평균 변동액은 평당 2,647,235원이다.\n"
     ]
    },
    {
     "data": {
      "text/html": [
       "<div>\n",
       "<style scoped>\n",
       "    .dataframe tbody tr th:only-of-type {\n",
       "        vertical-align: middle;\n",
       "    }\n",
       "\n",
       "    .dataframe tbody tr th {\n",
       "        vertical-align: top;\n",
       "    }\n",
       "\n",
       "    .dataframe thead th {\n",
       "        text-align: right;\n",
       "    }\n",
       "</style>\n",
       "<table border=\"1\" class=\"dataframe\">\n",
       "  <thead>\n",
       "    <tr style=\"text-align: right;\">\n",
       "      <th>연도</th>\n",
       "      <th>지역명</th>\n",
       "      <th>2015</th>\n",
       "      <th>2016</th>\n",
       "      <th>2017</th>\n",
       "      <th>2018</th>\n",
       "      <th>2019</th>\n",
       "      <th>변동액</th>\n",
       "    </tr>\n",
       "  </thead>\n",
       "  <tbody>\n",
       "    <tr>\n",
       "      <td>0</td>\n",
       "      <td>강원</td>\n",
       "      <td>7,160</td>\n",
       "      <td>7,011</td>\n",
       "      <td>7,127</td>\n",
       "      <td>7,681</td>\n",
       "      <td>8,142</td>\n",
       "      <td>981</td>\n",
       "    </tr>\n",
       "    <tr>\n",
       "      <td>1</td>\n",
       "      <td>경기</td>\n",
       "      <td>10,377</td>\n",
       "      <td>11,220</td>\n",
       "      <td>11,850</td>\n",
       "      <td>13,186</td>\n",
       "      <td>14,469</td>\n",
       "      <td>4091</td>\n",
       "    </tr>\n",
       "    <tr>\n",
       "      <td>2</td>\n",
       "      <td>경남</td>\n",
       "      <td>7,586</td>\n",
       "      <td>7,848</td>\n",
       "      <td>8,120</td>\n",
       "      <td>9,019</td>\n",
       "      <td>9,871</td>\n",
       "      <td>2285</td>\n",
       "    </tr>\n",
       "    <tr>\n",
       "      <td>3</td>\n",
       "      <td>경북</td>\n",
       "      <td>7,171</td>\n",
       "      <td>7,361</td>\n",
       "      <td>7,795</td>\n",
       "      <td>8,505</td>\n",
       "      <td>8,857</td>\n",
       "      <td>1685</td>\n",
       "    </tr>\n",
       "    <tr>\n",
       "      <td>4</td>\n",
       "      <td>광주</td>\n",
       "      <td>8,052</td>\n",
       "      <td>8,899</td>\n",
       "      <td>9,464</td>\n",
       "      <td>9,856</td>\n",
       "      <td>11,823</td>\n",
       "      <td>3770</td>\n",
       "    </tr>\n",
       "    <tr>\n",
       "      <td>5</td>\n",
       "      <td>대구</td>\n",
       "      <td>9,232</td>\n",
       "      <td>10,310</td>\n",
       "      <td>11,456</td>\n",
       "      <td>12,076</td>\n",
       "      <td>13,852</td>\n",
       "      <td>4619</td>\n",
       "    </tr>\n",
       "    <tr>\n",
       "      <td>6</td>\n",
       "      <td>대전</td>\n",
       "      <td>8,098</td>\n",
       "      <td>8,502</td>\n",
       "      <td>9,045</td>\n",
       "      <td>10,180</td>\n",
       "      <td>11,778</td>\n",
       "      <td>3679</td>\n",
       "    </tr>\n",
       "    <tr>\n",
       "      <td>7</td>\n",
       "      <td>부산</td>\n",
       "      <td>10,307</td>\n",
       "      <td>10,430</td>\n",
       "      <td>11,578</td>\n",
       "      <td>12,998</td>\n",
       "      <td>13,116</td>\n",
       "      <td>2809</td>\n",
       "    </tr>\n",
       "    <tr>\n",
       "      <td>8</td>\n",
       "      <td>서울</td>\n",
       "      <td>19,725</td>\n",
       "      <td>20,663</td>\n",
       "      <td>21,376</td>\n",
       "      <td>22,889</td>\n",
       "      <td>26,131</td>\n",
       "      <td>6405</td>\n",
       "    </tr>\n",
       "    <tr>\n",
       "      <td>9</td>\n",
       "      <td>세종</td>\n",
       "      <td>8,750</td>\n",
       "      <td>8,860</td>\n",
       "      <td>9,135</td>\n",
       "      <td>10,355</td>\n",
       "      <td>11,079</td>\n",
       "      <td>2328</td>\n",
       "    </tr>\n",
       "    <tr>\n",
       "      <td>10</td>\n",
       "      <td>울산</td>\n",
       "      <td>10,053</td>\n",
       "      <td>10,209</td>\n",
       "      <td>11,345</td>\n",
       "      <td>10,241</td>\n",
       "      <td>10,022</td>\n",
       "      <td>-30</td>\n",
       "    </tr>\n",
       "    <tr>\n",
       "      <td>11</td>\n",
       "      <td>인천</td>\n",
       "      <td>10,484</td>\n",
       "      <td>10,532</td>\n",
       "      <td>10,737</td>\n",
       "      <td>11,274</td>\n",
       "      <td>12,635</td>\n",
       "      <td>2150</td>\n",
       "    </tr>\n",
       "    <tr>\n",
       "      <td>12</td>\n",
       "      <td>전남</td>\n",
       "      <td>6,317</td>\n",
       "      <td>6,489</td>\n",
       "      <td>7,188</td>\n",
       "      <td>7,789</td>\n",
       "      <td>7,902</td>\n",
       "      <td>1585</td>\n",
       "    </tr>\n",
       "    <tr>\n",
       "      <td>13</td>\n",
       "      <td>전북</td>\n",
       "      <td>6,703</td>\n",
       "      <td>6,418</td>\n",
       "      <td>7,058</td>\n",
       "      <td>7,626</td>\n",
       "      <td>8,197</td>\n",
       "      <td>1493</td>\n",
       "    </tr>\n",
       "    <tr>\n",
       "      <td>14</td>\n",
       "      <td>제주</td>\n",
       "      <td>7,405</td>\n",
       "      <td>9,129</td>\n",
       "      <td>10,831</td>\n",
       "      <td>11,891</td>\n",
       "      <td>12,138</td>\n",
       "      <td>4732</td>\n",
       "    </tr>\n",
       "    <tr>\n",
       "      <td>15</td>\n",
       "      <td>충남</td>\n",
       "      <td>7,115</td>\n",
       "      <td>7,331</td>\n",
       "      <td>7,456</td>\n",
       "      <td>8,013</td>\n",
       "      <td>8,607</td>\n",
       "      <td>1492</td>\n",
       "    </tr>\n",
       "    <tr>\n",
       "      <td>16</td>\n",
       "      <td>충북</td>\n",
       "      <td>6,645</td>\n",
       "      <td>6,770</td>\n",
       "      <td>6,763</td>\n",
       "      <td>7,874</td>\n",
       "      <td>7,575</td>\n",
       "      <td>929</td>\n",
       "    </tr>\n",
       "  </tbody>\n",
       "</table>\n",
       "</div>"
      ],
      "text/plain": [
       "연도 지역명   2015   2016   2017   2018   2019   변동액\n",
       "0   강원  7,160  7,011  7,127  7,681  8,142   981\n",
       "1   경기 10,377 11,220 11,850 13,186 14,469  4091\n",
       "2   경남  7,586  7,848  8,120  9,019  9,871  2285\n",
       "3   경북  7,171  7,361  7,795  8,505  8,857  1685\n",
       "4   광주  8,052  8,899  9,464  9,856 11,823  3770\n",
       "5   대구  9,232 10,310 11,456 12,076 13,852  4619\n",
       "6   대전  8,098  8,502  9,045 10,180 11,778  3679\n",
       "7   부산 10,307 10,430 11,578 12,998 13,116  2809\n",
       "8   서울 19,725 20,663 21,376 22,889 26,131  6405\n",
       "9   세종  8,750  8,860  9,135 10,355 11,079  2328\n",
       "10  울산 10,053 10,209 11,345 10,241 10,022   -30\n",
       "11  인천 10,484 10,532 10,737 11,274 12,635  2150\n",
       "12  전남  6,317  6,489  7,188  7,789  7,902  1585\n",
       "13  전북  6,703  6,418  7,058  7,626  8,197  1493\n",
       "14  제주  7,405  9,129 10,831 11,891 12,138  4732\n",
       "15  충남  7,115  7,331  7,456  8,013  8,607  1492\n",
       "16  충북  6,645  6,770  6,763  7,874  7,575   929"
      ]
     },
     "execution_count": 29,
     "metadata": {},
     "output_type": "execute_result"
    }
   ],
   "source": [
    "region_year['변동액'] = (region_year['2019'] - region_year['2015']).astype(int)\n",
    "max_delta_price = np.max(region_year['변동액']) * 1000\n",
    "min_delta_price = np.min(region_year['변동액']) * 1000\n",
    "mean_delta_price = np.mean(region_year['변동액']) * 1000\n",
    "\n",
    "print(f'2015년부터 2019년까지 분양가는 계속 상승했으며, 상승액이 가장 큰 지역은 서울이며 상승액은 평당 {max_delta_price:,.0f}원이다')\n",
    "print(f'상승액이 가장 작은 지역은 울산이며 평당 {min_delta_price:,.0f}원이다')\n",
    "print('하지만 나중에 살펴보겠지만 울산에는 결측치가 많다. 따라서 변동액이 가장 작다라고 판단하기 어렵다.')\n",
    "print(f'전국 평균 변동액은 평당 {mean_delta_price:,.0f}원이다.')\n",
    "\n",
    "region_year"
   ]
  },
  {
   "cell_type": "markdown",
   "metadata": {},
   "source": [
    "## 시각화"
   ]
  },
  {
   "cell_type": "markdown",
   "metadata": {},
   "source": [
    "### 이럴 때 이런 시각화\n",
    "- [분류:통계 차트와 다이어그램 - 위키백과, 우리 모두의 백과사전](https://ko.wikipedia.org/wiki/%EB%B6%84%EB%A5%98:%ED%86%B5%EA%B3%84_%EC%B0%A8%ED%8A%B8%EC%99%80_%EB%8B%A4%EC%9D%B4%EC%96%B4%EA%B7%B8%EB%9E%A8)\n",
    "\n",
    "### Pandas 로 시각화 하기\n",
    "- 공식 문서 : [Visualization](https://pandas.pydata.org/pandas-docs/stable/user_guide/visualization.html)\n",
    "\n",
    "### Seaborn으로 시각화 하기\n",
    "- 공식 문서 : [seaborn: statistical data visualization](https://seaborn.pydata.org/)"
   ]
  },
  {
   "cell_type": "markdown",
   "metadata": {},
   "source": [
    "## 연도별 변동 그래프\n",
    "- 공공데이터포털에서 제공하고 있는 평균 분양가격을 연도, 지역별로 그려봄\n",
    "- 폰트 설정을 위해 Matplotlib의 환경설정에서 한글폰트 설정이 필요함\n",
    "- 한글폰트를 지정해 주지 않는다면 글자가 두부모양으로 깨져보이게 됨"
   ]
  },
  {
   "cell_type": "code",
   "execution_count": 30,
   "metadata": {},
   "outputs": [],
   "source": [
    "import seaborn as sns\n",
    "# 아래의 코드로 스타일을 지정해 주면 폰트 설정이 초기화 됨\n",
    "# 따라서, 폰트설정은 스타일 지정 이후에 해주어야 함\n",
    "sns.set_style('whitegrid')"
   ]
  },
  {
   "cell_type": "code",
   "execution_count": 31,
   "metadata": {},
   "outputs": [],
   "source": [
    "import matplotlib.pyplot as plt\n",
    "plt.rc('font', family='NanumBarunGothic')"
   ]
  },
  {
   "cell_type": "markdown",
   "metadata": {},
   "source": [
    "### 막대그래프\n",
    "- 막대 그래프(-graph), 바 차트(bar chart), 바 그래프(bar graph)는 표현 값에 비례하여 높이와 길이를 지닌 직사각형 막대로 범주형 데이터를 표현하는 차트나 그래프를 말한다. 막대는 수직으로나 수평으로 그릴 수 있다. 수직 막대 그래프는 선 그래프 또는 라인 그래프(line graph)라고도 한다"
   ]
  },
  {
   "cell_type": "code",
   "execution_count": 32,
   "metadata": {},
   "outputs": [
    {
     "data": {
      "image/png": "[encoded data removed]",
      "text/plain": [
       "<Figure size 1440x576 with 1 Axes>"
      ]
     },
     "metadata": {},
     "output_type": "display_data"
    }
   ],
   "source": [
    "plt.figure(figsize=(20, 8))\n",
    "plt.title('2015-2019년 신규 민간 아파트 분양가격')\n",
    "sns.barplot(data=region_year_all, x='지역명', y='평당분양가격', hue='연도');"
   ]
  },
  {
   "cell_type": "code",
   "execution_count": 33,
   "metadata": {},
   "outputs": [
    {
     "data": {
      "text/html": [
       "<div>\n",
       "<style scoped>\n",
       "    .dataframe tbody tr th:only-of-type {\n",
       "        vertical-align: middle;\n",
       "    }\n",
       "\n",
       "    .dataframe tbody tr th {\n",
       "        vertical-align: top;\n",
       "    }\n",
       "\n",
       "    .dataframe thead th {\n",
       "        text-align: right;\n",
       "    }\n",
       "</style>\n",
       "<table border=\"1\" class=\"dataframe\">\n",
       "  <thead>\n",
       "    <tr style=\"text-align: right;\">\n",
       "      <th>연도</th>\n",
       "      <th>2015</th>\n",
       "      <th>2016</th>\n",
       "      <th>2017</th>\n",
       "      <th>2018</th>\n",
       "      <th>2019</th>\n",
       "    </tr>\n",
       "    <tr>\n",
       "      <th>지역명</th>\n",
       "      <th></th>\n",
       "      <th></th>\n",
       "      <th></th>\n",
       "      <th></th>\n",
       "      <th></th>\n",
       "    </tr>\n",
       "  </thead>\n",
       "  <tbody>\n",
       "    <tr>\n",
       "      <td>전북</td>\n",
       "      <td>6,703</td>\n",
       "      <td>6,418</td>\n",
       "      <td>7,058</td>\n",
       "      <td>7,626</td>\n",
       "      <td>8,197</td>\n",
       "    </tr>\n",
       "    <tr>\n",
       "      <td>충남</td>\n",
       "      <td>7,115</td>\n",
       "      <td>7,331</td>\n",
       "      <td>7,456</td>\n",
       "      <td>8,013</td>\n",
       "      <td>8,607</td>\n",
       "    </tr>\n",
       "    <tr>\n",
       "      <td>인천</td>\n",
       "      <td>10,484</td>\n",
       "      <td>10,532</td>\n",
       "      <td>10,737</td>\n",
       "      <td>11,274</td>\n",
       "      <td>12,635</td>\n",
       "    </tr>\n",
       "  </tbody>\n",
       "</table>\n",
       "</div>"
      ],
      "text/plain": [
       "연도    2015   2016   2017   2018   2019\n",
       "지역명                                   \n",
       "전북   6,703  6,418  7,058  7,626  8,197\n",
       "충남   7,115  7,331  7,456  8,013  8,607\n",
       "인천  10,484 10,532 10,737 11,274 12,635"
      ]
     },
     "execution_count": 33,
     "metadata": {},
     "output_type": "execute_result"
    }
   ],
   "source": [
    "df_year_region = pd.pivot_table(region_year_all,\n",
    "                                index='지역명', columns='연도', values='평당분양가격')\n",
    "df_year_region.sample(3)"
   ]
  },
  {
   "cell_type": "code",
   "execution_count": 34,
   "metadata": {},
   "outputs": [
    {
     "data": {
      "text/plain": [
       "Index(['2015', '2016', '2017', '2018', '2019'], dtype='object', name='연도')"
      ]
     },
     "execution_count": 34,
     "metadata": {},
     "output_type": "execute_result"
    }
   ],
   "source": [
    "df_year_region.columns"
   ]
  },
  {
   "cell_type": "code",
   "execution_count": 35,
   "metadata": {},
   "outputs": [
    {
     "data": {
      "image/png": "[encoded data removed]",
      "text/plain": [
       "<Figure size 1728x576 with 1 Axes>"
      ]
     },
     "metadata": {},
     "output_type": "display_data"
    }
   ],
   "source": [
    "df_year_region.plot.bar(figsize=(24, 8),\n",
    "                        grid=True, fontsize=20, rot=0,\n",
    "                        title='지역, 연도별 평당 평균 분양가');"
   ]
  },
  {
   "cell_type": "markdown",
   "metadata": {},
   "source": [
    "### 규모별\n",
    "- seaborn의 barplot은 기본값을 평균으로 구합니다.\n",
    "- 각각의 막대 그래프 상단에 있는 검은색 선은 신뢰구간을 의미합니다.\n",
    "- 통계학에서 신뢰 구간(confidence interval)은 모수가 어느 범위 안에 있는지를 확률적으로 보여주는 방법이다.\n",
    "- seaborn의 barplot 옵션 중 ci가 이 신뢰구간을 의미하며 기본값은 95입니다.\n",
    "- 표본의 95%의 데이터가 검은색 선 안에 위치하고 있음을 알 수 있습니다.\n",
    "- 나머지 5%의 데이터는 이 표본을 벗어나는 데이터로 너무 크거나 작은 데이터를 제외하고 볼 수 있습니다.\n",
    "- 따라서 이 검은색 선을 벗어나는 데이터는 이상치(outlier)로 볼 수 있습니다."
   ]
  },
  {
   "cell_type": "code",
   "execution_count": 37,
   "metadata": {},
   "outputs": [
    {
     "data": {
      "image/png": "[encoded data removed]",
      "text/plain": [
       "<Figure size 1440x576 with 1 Axes>"
      ]
     },
     "metadata": {},
     "output_type": "display_data"
    }
   ],
   "source": [
    "# seaborn으로 지역, 규모별 평당 분양 가격\n",
    "plt.figure(figsize=(20, 8))\n",
    "sns.barplot(data=pre_sale, x='지역명', y='평당분양가격', hue='규모구분');"
   ]
  },
  {
   "cell_type": "markdown",
   "metadata": {},
   "source": [
    "### 지역별 평당 분양가격 합계\n",
    "- 아래 데이터로 규모(제곱미터)에 따른 평당 분양가격을 봄"
   ]
  },
  {
   "cell_type": "code",
   "execution_count": 39,
   "metadata": {},
   "outputs": [
    {
     "data": {
      "text/html": [
       "<div>\n",
       "<style scoped>\n",
       "    .dataframe tbody tr th:only-of-type {\n",
       "        vertical-align: middle;\n",
       "    }\n",
       "\n",
       "    .dataframe tbody tr th {\n",
       "        vertical-align: top;\n",
       "    }\n",
       "\n",
       "    .dataframe thead th {\n",
       "        text-align: right;\n",
       "    }\n",
       "</style>\n",
       "<table border=\"1\" class=\"dataframe\">\n",
       "  <thead>\n",
       "    <tr style=\"text-align: right;\">\n",
       "      <th>규모구분</th>\n",
       "      <th>전용면적 102㎡초과</th>\n",
       "      <th>전용면적 60㎡이하</th>\n",
       "      <th>전용면적 60㎡초과 85㎡이하</th>\n",
       "      <th>전용면적 85㎡초과 102㎡이하</th>\n",
       "      <th>전체</th>\n",
       "    </tr>\n",
       "    <tr>\n",
       "      <th>지역명</th>\n",
       "      <th></th>\n",
       "      <th></th>\n",
       "      <th></th>\n",
       "      <th></th>\n",
       "      <th></th>\n",
       "    </tr>\n",
       "  </thead>\n",
       "  <tbody>\n",
       "    <tr>\n",
       "      <td>대구</td>\n",
       "      <td>13,087</td>\n",
       "      <td>11,992</td>\n",
       "      <td>11,779</td>\n",
       "      <td>11,141</td>\n",
       "      <td>11,771</td>\n",
       "    </tr>\n",
       "    <tr>\n",
       "      <td>인천</td>\n",
       "      <td>14,362</td>\n",
       "      <td>11,241</td>\n",
       "      <td>11,384</td>\n",
       "      <td>11,528</td>\n",
       "      <td>11,257</td>\n",
       "    </tr>\n",
       "    <tr>\n",
       "      <td>강원</td>\n",
       "      <td>8,311</td>\n",
       "      <td>7,567</td>\n",
       "      <td>7,486</td>\n",
       "      <td>8,750</td>\n",
       "      <td>7,478</td>\n",
       "    </tr>\n",
       "  </tbody>\n",
       "</table>\n",
       "</div>"
      ],
      "text/plain": [
       "규모구분  전용면적 102㎡초과  전용면적 60㎡이하  전용면적 60㎡초과 85㎡이하  전용면적 85㎡초과 102㎡이하     전체\n",
       "지역명                                                                      \n",
       "대구         13,087      11,992            11,779             11,141 11,771\n",
       "인천         14,362      11,241            11,384             11,528 11,257\n",
       "강원          8,311       7,567             7,486              8,750  7,478"
      ]
     },
     "execution_count": 39,
     "metadata": {},
     "output_type": "execute_result"
    }
   ],
   "source": [
    "pre_sale_size = pre_sale.pivot_table(values='평당분양가격', index='지역명', columns='규모구분')\n",
    "pre_sale_size.sample(3)"
   ]
  },
  {
   "cell_type": "code",
   "execution_count": 42,
   "metadata": {},
   "outputs": [
    {
     "data": {
      "image/png": "[encoded data removed]",
      "text/plain": [
       "<Figure size 1440x576 with 1 Axes>"
      ]
     },
     "metadata": {},
     "output_type": "display_data"
    }
   ],
   "source": [
    "pre_sale_size.plot.bar(title='지역, 규모구분 별 평당 평균 분양가',\n",
    "                       figsize=(20, 8), grid=True, fontsize=20, rot=0);"
   ]
  },
  {
   "cell_type": "code",
   "execution_count": 60,
   "metadata": {},
   "outputs": [
    {
     "name": "stdout",
     "output_type": "stream",
     "text": [
      "23 / 28 \n"
     ]
    }
   ],
   "source": [
    "# 대전 데이터 보기 -> 결측치가 많음\n",
    "pre_sale_temp = pre_sale[(pre_sale['지역명'] == '대전') & (pre_sale['규모구분'] == '전용면적 102㎡초과')]\n",
    "print(f\"{pre_sale_temp['평당분양가격'].isnull().sum()} / {pre_sale_temp['평당분양가격'].count()} \")"
   ]
  },
  {
   "cell_type": "code",
   "execution_count": 61,
   "metadata": {},
   "outputs": [
    {
     "data": {
      "text/html": [
       "<div>\n",
       "<style scoped>\n",
       "    .dataframe tbody tr th:only-of-type {\n",
       "        vertical-align: middle;\n",
       "    }\n",
       "\n",
       "    .dataframe tbody tr th {\n",
       "        vertical-align: top;\n",
       "    }\n",
       "\n",
       "    .dataframe thead th {\n",
       "        text-align: right;\n",
       "    }\n",
       "</style>\n",
       "<table border=\"1\" class=\"dataframe\">\n",
       "  <thead>\n",
       "    <tr style=\"text-align: right;\">\n",
       "      <th>지역명</th>\n",
       "      <th>강원</th>\n",
       "      <th>경기</th>\n",
       "      <th>경남</th>\n",
       "      <th>경북</th>\n",
       "      <th>광주</th>\n",
       "      <th>대구</th>\n",
       "      <th>대전</th>\n",
       "      <th>부산</th>\n",
       "      <th>서울</th>\n",
       "      <th>세종</th>\n",
       "      <th>울산</th>\n",
       "      <th>인천</th>\n",
       "      <th>전남</th>\n",
       "      <th>전북</th>\n",
       "      <th>제주</th>\n",
       "      <th>충남</th>\n",
       "      <th>충북</th>\n",
       "    </tr>\n",
       "    <tr>\n",
       "      <th>규모구분</th>\n",
       "      <th></th>\n",
       "      <th></th>\n",
       "      <th></th>\n",
       "      <th></th>\n",
       "      <th></th>\n",
       "      <th></th>\n",
       "      <th></th>\n",
       "      <th></th>\n",
       "      <th></th>\n",
       "      <th></th>\n",
       "      <th></th>\n",
       "      <th></th>\n",
       "      <th></th>\n",
       "      <th></th>\n",
       "      <th></th>\n",
       "      <th></th>\n",
       "      <th></th>\n",
       "    </tr>\n",
       "  </thead>\n",
       "  <tbody>\n",
       "    <tr>\n",
       "      <td>전용면적 102㎡초과</td>\n",
       "      <td>8,311</td>\n",
       "      <td>14,772</td>\n",
       "      <td>10,358</td>\n",
       "      <td>9,157</td>\n",
       "      <td>11,042</td>\n",
       "      <td>13,087</td>\n",
       "      <td>14,877</td>\n",
       "      <td>13,208</td>\n",
       "      <td>23,446</td>\n",
       "      <td>10,107</td>\n",
       "      <td>9,974</td>\n",
       "      <td>14,362</td>\n",
       "      <td>8,168</td>\n",
       "      <td>8,194</td>\n",
       "      <td>10,523</td>\n",
       "      <td>8,689</td>\n",
       "      <td>8,195</td>\n",
       "    </tr>\n",
       "    <tr>\n",
       "      <td>전용면적 60㎡이하</td>\n",
       "      <td>7,567</td>\n",
       "      <td>13,252</td>\n",
       "      <td>8,689</td>\n",
       "      <td>7,883</td>\n",
       "      <td>9,431</td>\n",
       "      <td>11,992</td>\n",
       "      <td>9,176</td>\n",
       "      <td>11,354</td>\n",
       "      <td>23,213</td>\n",
       "      <td>9,324</td>\n",
       "      <td>9,202</td>\n",
       "      <td>11,241</td>\n",
       "      <td>7,210</td>\n",
       "      <td>7,610</td>\n",
       "      <td>14,022</td>\n",
       "      <td>7,911</td>\n",
       "      <td>7,103</td>\n",
       "    </tr>\n",
       "    <tr>\n",
       "      <td>전용면적 60㎡초과 85㎡이하</td>\n",
       "      <td>7,486</td>\n",
       "      <td>12,524</td>\n",
       "      <td>8,619</td>\n",
       "      <td>8,061</td>\n",
       "      <td>9,911</td>\n",
       "      <td>11,779</td>\n",
       "      <td>9,711</td>\n",
       "      <td>11,865</td>\n",
       "      <td>22,787</td>\n",
       "      <td>9,775</td>\n",
       "      <td>10,503</td>\n",
       "      <td>11,384</td>\n",
       "      <td>7,269</td>\n",
       "      <td>7,271</td>\n",
       "      <td>10,621</td>\n",
       "      <td>7,819</td>\n",
       "      <td>7,264</td>\n",
       "    </tr>\n",
       "    <tr>\n",
       "      <td>전용면적 85㎡초과 102㎡이하</td>\n",
       "      <td>8,750</td>\n",
       "      <td>13,678</td>\n",
       "      <td>10,018</td>\n",
       "      <td>8,774</td>\n",
       "      <td>9,296</td>\n",
       "      <td>11,141</td>\n",
       "      <td>9,037</td>\n",
       "      <td>12,073</td>\n",
       "      <td>25,944</td>\n",
       "      <td>9,848</td>\n",
       "      <td>8,861</td>\n",
       "      <td>11,528</td>\n",
       "      <td>7,909</td>\n",
       "      <td>8,276</td>\n",
       "      <td>10,709</td>\n",
       "      <td>9,120</td>\n",
       "      <td>8,391</td>\n",
       "    </tr>\n",
       "    <tr>\n",
       "      <td>전체</td>\n",
       "      <td>7,478</td>\n",
       "      <td>12,560</td>\n",
       "      <td>8,659</td>\n",
       "      <td>8,079</td>\n",
       "      <td>9,904</td>\n",
       "      <td>11,771</td>\n",
       "      <td>9,786</td>\n",
       "      <td>11,936</td>\n",
       "      <td>22,610</td>\n",
       "      <td>9,805</td>\n",
       "      <td>10,493</td>\n",
       "      <td>11,257</td>\n",
       "      <td>7,284</td>\n",
       "      <td>7,293</td>\n",
       "      <td>10,785</td>\n",
       "      <td>7,815</td>\n",
       "      <td>7,219</td>\n",
       "    </tr>\n",
       "  </tbody>\n",
       "</table>\n",
       "</div>"
      ],
      "text/plain": [
       "지역명                  강원     경기     경남    경북     광주     대구     대전     부산  \\\n",
       "규모구분                                                                      \n",
       "전용면적 102㎡초과       8,311 14,772 10,358 9,157 11,042 13,087 14,877 13,208   \n",
       "전용면적 60㎡이하        7,567 13,252  8,689 7,883  9,431 11,992  9,176 11,354   \n",
       "전용면적 60㎡초과 85㎡이하  7,486 12,524  8,619 8,061  9,911 11,779  9,711 11,865   \n",
       "전용면적 85㎡초과 102㎡이하 8,750 13,678 10,018 8,774  9,296 11,141  9,037 12,073   \n",
       "전체                7,478 12,560  8,659 8,079  9,904 11,771  9,786 11,936   \n",
       "\n",
       "지역명                   서울     세종     울산     인천    전남    전북     제주    충남    충북  \n",
       "규모구분                                                                          \n",
       "전용면적 102㎡초과       23,446 10,107  9,974 14,362 8,168 8,194 10,523 8,689 8,195  \n",
       "전용면적 60㎡이하        23,213  9,324  9,202 11,241 7,210 7,610 14,022 7,911 7,103  \n",
       "전용면적 60㎡초과 85㎡이하  22,787  9,775 10,503 11,384 7,269 7,271 10,621 7,819 7,264  \n",
       "전용면적 85㎡초과 102㎡이하 25,944  9,848  8,861 11,528 7,909 8,276 10,709 9,120 8,391  \n",
       "전체                22,610  9,805 10,493 11,257 7,284 7,293 10,785 7,815 7,219  "
      ]
     },
     "execution_count": 61,
     "metadata": {},
     "output_type": "execute_result"
    }
   ],
   "source": [
    "pre_sale_size_t = pre_sale_size.T\n",
    "pre_sale_size_t"
   ]
  },
  {
   "cell_type": "markdown",
   "metadata": {},
   "source": [
    "### 전국 규모(면적)별 신규 민간 아파트 분양가격"
   ]
  },
  {
   "cell_type": "code",
   "execution_count": 62,
   "metadata": {},
   "outputs": [
    {
     "data": {
      "text/html": [
       "<div>\n",
       "<style scoped>\n",
       "    .dataframe tbody tr th:only-of-type {\n",
       "        vertical-align: middle;\n",
       "    }\n",
       "\n",
       "    .dataframe tbody tr th {\n",
       "        vertical-align: top;\n",
       "    }\n",
       "\n",
       "    .dataframe thead th {\n",
       "        text-align: right;\n",
       "    }\n",
       "</style>\n",
       "<table border=\"1\" class=\"dataframe\">\n",
       "  <thead>\n",
       "    <tr style=\"text-align: right;\">\n",
       "      <th></th>\n",
       "      <th>지역명</th>\n",
       "      <th>규모구분</th>\n",
       "      <th>연도</th>\n",
       "      <th>월</th>\n",
       "      <th>분양가격(㎡)</th>\n",
       "      <th>분양가격</th>\n",
       "      <th>평당분양가격</th>\n",
       "    </tr>\n",
       "  </thead>\n",
       "  <tbody>\n",
       "    <tr>\n",
       "      <td>3979</td>\n",
       "      <td>전남</td>\n",
       "      <td>전용면적 102㎡초과</td>\n",
       "      <td>2019</td>\n",
       "      <td>8</td>\n",
       "      <td>3003</td>\n",
       "      <td>3,003</td>\n",
       "      <td>9,910</td>\n",
       "    </tr>\n",
       "  </tbody>\n",
       "</table>\n",
       "</div>"
      ],
      "text/plain": [
       "     지역명         규모구분    연도  월 분양가격(㎡)  분양가격  평당분양가격\n",
       "3979  전남  전용면적 102㎡초과  2019  8    3003 3,003   9,910"
      ]
     },
     "execution_count": 62,
     "metadata": {},
     "output_type": "execute_result"
    }
   ],
   "source": [
    "pre_sale.sample()"
   ]
  },
  {
   "cell_type": "code",
   "execution_count": 63,
   "metadata": {},
   "outputs": [
    {
     "data": {
      "text/html": [
       "<div>\n",
       "<style scoped>\n",
       "    .dataframe tbody tr th:only-of-type {\n",
       "        vertical-align: middle;\n",
       "    }\n",
       "\n",
       "    .dataframe tbody tr th {\n",
       "        vertical-align: top;\n",
       "    }\n",
       "\n",
       "    .dataframe thead th {\n",
       "        text-align: right;\n",
       "    }\n",
       "</style>\n",
       "<table border=\"1\" class=\"dataframe\">\n",
       "  <thead>\n",
       "    <tr style=\"text-align: right;\">\n",
       "      <th></th>\n",
       "      <th>지역명</th>\n",
       "      <th>평당분양가격</th>\n",
       "      <th>규모구분</th>\n",
       "    </tr>\n",
       "  </thead>\n",
       "  <tbody>\n",
       "    <tr>\n",
       "      <td>1202</td>\n",
       "      <td>경기</td>\n",
       "      <td>11,576</td>\n",
       "      <td>전용면적 60㎡초과 85㎡이하</td>\n",
       "    </tr>\n",
       "    <tr>\n",
       "      <td>1153</td>\n",
       "      <td>강원</td>\n",
       "      <td>6,702</td>\n",
       "      <td>전용면적 85㎡초과 102㎡이하</td>\n",
       "    </tr>\n",
       "    <tr>\n",
       "      <td>593</td>\n",
       "      <td>제주</td>\n",
       "      <td>8,992</td>\n",
       "      <td>전용면적 85㎡초과 102㎡이하</td>\n",
       "    </tr>\n",
       "  </tbody>\n",
       "</table>\n",
       "</div>"
      ],
      "text/plain": [
       "     지역명  평당분양가격               규모구분\n",
       "1202  경기  11,576   전용면적 60㎡초과 85㎡이하\n",
       "1153  강원   6,702  전용면적 85㎡초과 102㎡이하\n",
       "593   제주   8,992  전용면적 85㎡초과 102㎡이하"
      ]
     },
     "execution_count": 63,
     "metadata": {},
     "output_type": "execute_result"
    }
   ],
   "source": [
    "pre_sale[['지역명', '평당분양가격', '규모구분']].sample(3)"
   ]
  },
  {
   "cell_type": "code",
   "execution_count": 68,
   "metadata": {},
   "outputs": [
    {
     "data": {
      "text/plain": [
       "(4335, 7)"
      ]
     },
     "execution_count": 68,
     "metadata": {},
     "output_type": "execute_result"
    }
   ],
   "source": [
    "pre_sale.shape"
   ]
  },
  {
   "cell_type": "code",
   "execution_count": 64,
   "metadata": {},
   "outputs": [
    {
     "data": {
      "text/plain": [
       "378"
      ]
     },
     "execution_count": 64,
     "metadata": {},
     "output_type": "execute_result"
    }
   ],
   "source": [
    "# 결측치 확인\n",
    "pre_sale['평당분양가격'].isnull().sum()"
   ]
  },
  {
   "cell_type": "code",
   "execution_count": 76,
   "metadata": {},
   "outputs": [],
   "source": [
    "# 결측치가 있으면 제대로 된 시각화를 할 수 없기 때문에 drop 합니다\n",
    "pre_sale.dropna(subset=['평당분양가격'], inplace=True, axis=0)"
   ]
  },
  {
   "cell_type": "code",
   "execution_count": 77,
   "metadata": {},
   "outputs": [
    {
     "data": {
      "text/plain": [
       "0"
      ]
     },
     "execution_count": 77,
     "metadata": {},
     "output_type": "execute_result"
    }
   ],
   "source": [
    "# 결측치 확인\n",
    "pre_sale['평당분양가격'].isnull().sum()"
   ]
  },
  {
   "cell_type": "code",
   "execution_count": 78,
   "metadata": {},
   "outputs": [
    {
     "data": {
      "text/plain": [
       "(3957, 7)"
      ]
     },
     "execution_count": 78,
     "metadata": {},
     "output_type": "execute_result"
    }
   ],
   "source": [
    "pre_sale.shape"
   ]
  },
  {
   "cell_type": "code",
   "execution_count": 79,
   "metadata": {},
   "outputs": [
    {
     "data": {
      "text/plain": [
       "지역명         object\n",
       "규모구분        object\n",
       "연도          object\n",
       "월           object\n",
       "분양가격(㎡)     object\n",
       "분양가격       float64\n",
       "평당분양가격     float64\n",
       "dtype: object"
      ]
     },
     "execution_count": 79,
     "metadata": {},
     "output_type": "execute_result"
    }
   ],
   "source": [
    "pre_sale.dtypes"
   ]
  },
  {
   "cell_type": "code",
   "execution_count": 80,
   "metadata": {},
   "outputs": [],
   "source": [
    "# 수치형 데이터로 변경\n",
    "pre_sale['평당분양가격'] = pre_sale['평당분양가격'].astype(int)"
   ]
  },
  {
   "cell_type": "code",
   "execution_count": 81,
   "metadata": {},
   "outputs": [
    {
     "data": {
      "text/html": [
       "<div>\n",
       "<style scoped>\n",
       "    .dataframe tbody tr th:only-of-type {\n",
       "        vertical-align: middle;\n",
       "    }\n",
       "\n",
       "    .dataframe tbody tr th {\n",
       "        vertical-align: top;\n",
       "    }\n",
       "\n",
       "    .dataframe thead th {\n",
       "        text-align: right;\n",
       "    }\n",
       "</style>\n",
       "<table border=\"1\" class=\"dataframe\">\n",
       "  <thead>\n",
       "    <tr style=\"text-align: right;\">\n",
       "      <th></th>\n",
       "      <th>지역명</th>\n",
       "      <th>규모구분</th>\n",
       "      <th>연도</th>\n",
       "      <th>월</th>\n",
       "      <th>분양가격(㎡)</th>\n",
       "      <th>분양가격</th>\n",
       "      <th>평당분양가격</th>\n",
       "    </tr>\n",
       "  </thead>\n",
       "  <tbody>\n",
       "  </tbody>\n",
       "</table>\n",
       "</div>"
      ],
      "text/plain": [
       "Empty DataFrame\n",
       "Columns: [지역명, 규모구분, 연도, 월, 분양가격(㎡), 분양가격, 평당분양가격]\n",
       "Index: []"
      ]
     },
     "execution_count": 81,
     "metadata": {},
     "output_type": "execute_result"
    }
   ],
   "source": [
    "# 0인 데이터가 있는지 확인\n",
    "pre_sale[pre_sale['평당분양가격'] == 0]"
   ]
  },
  {
   "cell_type": "code",
   "execution_count": 82,
   "metadata": {},
   "outputs": [
    {
     "data": {
      "text/plain": [
       "array(['전체', '전용면적 60㎡이하', '전용면적 60㎡초과 85㎡이하', '전용면적 85㎡초과 102㎡이하',\n",
       "       '전용면적 102㎡초과'], dtype=object)"
      ]
     },
     "execution_count": 82,
     "metadata": {},
     "output_type": "execute_result"
    }
   ],
   "source": [
    "pre_sale['규모구분'].unique()"
   ]
  },
  {
   "cell_type": "code",
   "execution_count": 83,
   "metadata": {},
   "outputs": [
    {
     "data": {
      "text/html": [
       "<div>\n",
       "<style scoped>\n",
       "    .dataframe tbody tr th:only-of-type {\n",
       "        vertical-align: middle;\n",
       "    }\n",
       "\n",
       "    .dataframe tbody tr th {\n",
       "        vertical-align: top;\n",
       "    }\n",
       "\n",
       "    .dataframe thead th {\n",
       "        text-align: right;\n",
       "    }\n",
       "</style>\n",
       "<table border=\"1\" class=\"dataframe\">\n",
       "  <thead>\n",
       "    <tr style=\"text-align: right;\">\n",
       "      <th>규모구분</th>\n",
       "      <th>전용면적 102㎡초과</th>\n",
       "      <th>전용면적 60㎡이하</th>\n",
       "      <th>전용면적 60㎡초과 85㎡이하</th>\n",
       "      <th>전용면적 85㎡초과 102㎡이하</th>\n",
       "      <th>전체</th>\n",
       "    </tr>\n",
       "    <tr>\n",
       "      <th>지역명</th>\n",
       "      <th></th>\n",
       "      <th></th>\n",
       "      <th></th>\n",
       "      <th></th>\n",
       "      <th></th>\n",
       "    </tr>\n",
       "  </thead>\n",
       "  <tbody>\n",
       "    <tr>\n",
       "      <td>충남</td>\n",
       "      <td>8,689</td>\n",
       "      <td>7,911</td>\n",
       "      <td>7,819</td>\n",
       "      <td>9,120</td>\n",
       "      <td>7,815</td>\n",
       "    </tr>\n",
       "    <tr>\n",
       "      <td>대전</td>\n",
       "      <td>14,877</td>\n",
       "      <td>9,176</td>\n",
       "      <td>9,711</td>\n",
       "      <td>9,037</td>\n",
       "      <td>9,786</td>\n",
       "    </tr>\n",
       "    <tr>\n",
       "      <td>대구</td>\n",
       "      <td>13,087</td>\n",
       "      <td>11,992</td>\n",
       "      <td>11,779</td>\n",
       "      <td>11,141</td>\n",
       "      <td>11,771</td>\n",
       "    </tr>\n",
       "  </tbody>\n",
       "</table>\n",
       "</div>"
      ],
      "text/plain": [
       "규모구분  전용면적 102㎡초과  전용면적 60㎡이하  전용면적 60㎡초과 85㎡이하  전용면적 85㎡초과 102㎡이하     전체\n",
       "지역명                                                                      \n",
       "충남          8,689       7,911             7,819              9,120  7,815\n",
       "대전         14,877       9,176             9,711              9,037  9,786\n",
       "대구         13,087      11,992            11,779             11,141 11,771"
      ]
     },
     "execution_count": 83,
     "metadata": {},
     "output_type": "execute_result"
    }
   ],
   "source": [
    "pre_sale_size.sample(3)"
   ]
  },
  {
   "cell_type": "markdown",
   "metadata": {},
   "source": [
    "### box-and-whisker plot | diagram\n",
    "- 가공하지 않은 자료 그대로를 이용하여 그린 것이 아니라, 자료로부터 얻어낸 통계량인 5가지 요약 수치로 그린다.\n",
    "- 5가지 요약 수치란 기술통계학에서 자료의 정보를 알려주는 아래의 다섯 가지 수치를 의미한다.\n",
    "\n",
    "1. 최솟값\n",
    "2. 제 1사분위수\n",
    "3. 제 2사분위수(), 즉 중앙값\n",
    "4. 제 3사분위수()\n",
    "5. 최댓값\n",
    "6. Box plot 이해하기: [Understanding Boxplots - Towards Data Science](https://towardsdatascience.com/understanding-boxplots-5e2df7bcbd51)"
   ]
  },
  {
   "cell_type": "code",
   "execution_count": 85,
   "metadata": {},
   "outputs": [
    {
     "data": {
      "image/png": "[encoded data removed]",
      "text/plain": [
       "<Figure size 1296x432 with 1 Axes>"
      ]
     },
     "metadata": {},
     "output_type": "display_data"
    }
   ],
   "source": [
    "# 지역별 평당 분양가격\n",
    "pre_sale[['지역명', '평당분양가격']].boxplot(by=['지역명'], figsize=(18, 6));"
   ]
  },
  {
   "cell_type": "code",
   "execution_count": 88,
   "metadata": {},
   "outputs": [
    {
     "data": {
      "text/plain": [
       "<matplotlib.axes._subplots.AxesSubplot at 0x7f5bc0d79510>"
      ]
     },
     "execution_count": 88,
     "metadata": {},
     "output_type": "execute_result"
    },
    {
     "data": {
      "image/png": "[encoded data removed]",
      "text/plain": [
       "<Figure size 1296x432 with 1 Axes>"
      ]
     },
     "metadata": {},
     "output_type": "display_data"
    }
   ],
   "source": [
    "# 년도별 평당 분양가격\n",
    "pre_sale[['연도', '평당분양가격']].boxplot(by=['연도'], figsize=(18, 6))"
   ]
  },
  {
   "cell_type": "code",
   "execution_count": 90,
   "metadata": {},
   "outputs": [
    {
     "data": {
      "image/png": "[encoded data removed]",
      "text/plain": [
       "<Figure size 1296x432 with 1 Axes>"
      ]
     },
     "metadata": {},
     "output_type": "display_data"
    }
   ],
   "source": [
    "# 연도와 지역별로 평당분양가격\n",
    "pre_sale[['연도', '지역명', '평당분양가격']].boxplot(\n",
    "    by=['지역명', '연도'],\n",
    "    figsize=(18, 6),\n",
    "    fontsize=12,\n",
    "    rot=60);"
   ]
  },
  {
   "cell_type": "code",
   "execution_count": 91,
   "metadata": {},
   "outputs": [],
   "source": [
    "# 서울 데이터\n",
    "pre_sale_seoul = pre_sale[pre_sale['지역명'] == '서울']"
   ]
  },
  {
   "cell_type": "code",
   "execution_count": 96,
   "metadata": {},
   "outputs": [
    {
     "data": {
      "image/png": "[encoded data removed]",
      "text/plain": [
       "<Figure size 1296x432 with 1 Axes>"
      ]
     },
     "metadata": {},
     "output_type": "display_data"
    }
   ],
   "source": [
    "pre_sale_seoul[['연도', '규모구분', '평당분양가격']].boxplot(\n",
    "    by=['연도', '규모구분'],\n",
    "    figsize=(18, 6), rot=60);"
   ]
  },
  {
   "cell_type": "code",
   "execution_count": 97,
   "metadata": {},
   "outputs": [],
   "source": [
    "pre_sale_jeju = pre_sale[pre_sale['지역명'] == '제주']"
   ]
  },
  {
   "cell_type": "code",
   "execution_count": 103,
   "metadata": {},
   "outputs": [
    {
     "data": {
      "image/png": "[encoded data removed]",
      "text/plain": [
       "<Figure size 1296x432 with 1 Axes>"
      ]
     },
     "metadata": {},
     "output_type": "display_data"
    }
   ],
   "source": [
    "pre_sale_jeju[['연도', '규모구분', '평당분양가격']].boxplot(\n",
    "    by=['연도', '규모구분'],\n",
    "    figsize=(18, 6), rot=60);"
   ]
  },
  {
   "cell_type": "code",
   "execution_count": 105,
   "metadata": {},
   "outputs": [
    {
     "data": {
      "image/png": "[encoded data removed]",
      "text/plain": [
       "<Figure size 1296x432 with 1 Axes>"
      ]
     },
     "metadata": {},
     "output_type": "display_data"
    }
   ],
   "source": [
    "pre_sale_ulsan = pre_sale[pre_sale['지역명'] == '울산']\n",
    "pre_sale_ulsan[['연도', '규모구분', '평당분양가격']].boxplot(\n",
    "    by=['연도', '규모구분'],\n",
    "    figsize=(18, 6), rot=60);"
   ]
  },
  {
   "cell_type": "markdown",
   "metadata": {},
   "source": [
    "### Tidy Data 만들기\n",
    "- [Tidy data - Wikipedia](https://en.wikipedia.org/wiki/Tidy_data)"
   ]
  },
  {
   "cell_type": "code",
   "execution_count": 135,
   "metadata": {},
   "outputs": [
    {
     "data": {
      "text/plain": [
       "(23, 27)"
      ]
     },
     "execution_count": 135,
     "metadata": {},
     "output_type": "execute_result"
    }
   ],
   "source": [
    "df = pd.read_csv('data/apt_price/지역별_3.3㎡당_평균_분양가격_천원__15.09월.csv',\n",
    "                 encoding='euc-kr', skiprows=1, header=0)\n",
    "df.shape"
   ]
  },
  {
   "cell_type": "code",
   "execution_count": 136,
   "metadata": {},
   "outputs": [],
   "source": [
    "year = df.iloc[0]\n",
    "month = df.iloc[1]"
   ]
  },
  {
   "cell_type": "code",
   "execution_count": 137,
   "metadata": {},
   "outputs": [
    {
     "name": "stdout",
     "output_type": "stream",
     "text": [
      "Unnamed: 0              구분\n",
      "Unnamed: 1             시군구\n",
      "Unnamed: 2       2013년 12월\n",
      "Unnamed: 3        2014년 1월\n",
      "Unnamed: 4        2014년 2월\n",
      "Unnamed: 5        2014년 3월\n",
      "Unnamed: 6        2014년 4월\n",
      "Unnamed: 7        2014년 5월\n",
      "Unnamed: 8        2014년 6월\n",
      "Unnamed: 9        2014년 7월\n",
      "Unnamed: 10       2014년 8월\n",
      "Unnamed: 11       2014년 9월\n",
      "Unnamed: 12      2014년 10월\n",
      "Unnamed: 13      2014년 11월\n",
      "Unnamed: 14      2014년 12월\n",
      "Unnamed: 15       2015년 1월\n",
      "Unnamed: 16       2015년 2월\n",
      "Unnamed: 17       2015년 3월\n",
      "Unnamed: 18       2015년 4월\n",
      "Unnamed: 19       2015년 5월\n",
      "Unnamed: 20       2015년 6월\n",
      "Unnamed: 21       2015년 7월\n",
      "Unnamed: 22       2015년 8월\n",
      "Unnamed: 23       2015년 9월\n",
      "Unnamed: 24      2015년 전월비\n",
      "Unnamed: 25     2015년 전년말비\n",
      "Unnamed: 26    2015년 전년동월비\n",
      "Name: 0, dtype: object\n"
     ]
    }
   ],
   "source": [
    "# 컬럼을 새로 만들어 주기 위해 0번째와 1번째 행을 합쳐준다\n",
    "for i, y in enumerate(year):\n",
    "    if 2 < i < 15:\n",
    "        year[i] = ' '.join(['2014년', month[i]])\n",
    "    elif i >= 15:\n",
    "        year[i] = ' '.join(['2015년', month[i]])\n",
    "    elif i == 2:\n",
    "        year[i] = ' '.join([year[i], month[i]])\n",
    "    elif i == 1:\n",
    "        year[i] = '시군구'\n",
    "        \n",
    "print(year)"
   ]
  },
  {
   "cell_type": "code",
   "execution_count": 138,
   "metadata": {},
   "outputs": [],
   "source": [
    "df.columns = year"
   ]
  },
  {
   "cell_type": "code",
   "execution_count": 139,
   "metadata": {},
   "outputs": [
    {
     "data": {
      "text/html": [
       "<div>\n",
       "<style scoped>\n",
       "    .dataframe tbody tr th:only-of-type {\n",
       "        vertical-align: middle;\n",
       "    }\n",
       "\n",
       "    .dataframe tbody tr th {\n",
       "        vertical-align: top;\n",
       "    }\n",
       "\n",
       "    .dataframe thead th {\n",
       "        text-align: right;\n",
       "    }\n",
       "</style>\n",
       "<table border=\"1\" class=\"dataframe\">\n",
       "  <thead>\n",
       "    <tr style=\"text-align: right;\">\n",
       "      <th></th>\n",
       "      <th>구분</th>\n",
       "      <th>시군구</th>\n",
       "      <th>2013년 12월</th>\n",
       "      <th>2014년 1월</th>\n",
       "      <th>2014년 2월</th>\n",
       "      <th>2014년 3월</th>\n",
       "      <th>2014년 4월</th>\n",
       "      <th>2014년 5월</th>\n",
       "      <th>2014년 6월</th>\n",
       "      <th>2014년 7월</th>\n",
       "      <th>...</th>\n",
       "      <th>2015년 3월</th>\n",
       "      <th>2015년 4월</th>\n",
       "      <th>2015년 5월</th>\n",
       "      <th>2015년 6월</th>\n",
       "      <th>2015년 7월</th>\n",
       "      <th>2015년 8월</th>\n",
       "      <th>2015년 9월</th>\n",
       "      <th>2015년 전월비</th>\n",
       "      <th>2015년 전년말비</th>\n",
       "      <th>2015년 전년동월비</th>\n",
       "    </tr>\n",
       "  </thead>\n",
       "  <tbody>\n",
       "    <tr>\n",
       "      <td>2</td>\n",
       "      <td>전국</td>\n",
       "      <td>NaN</td>\n",
       "      <td>8,059</td>\n",
       "      <td>8,130</td>\n",
       "      <td>8,195</td>\n",
       "      <td>8,204</td>\n",
       "      <td>8,289</td>\n",
       "      <td>8,358</td>\n",
       "      <td>8,344</td>\n",
       "      <td>8,333</td>\n",
       "      <td>...</td>\n",
       "      <td>8,563</td>\n",
       "      <td>8,613</td>\n",
       "      <td>8,624</td>\n",
       "      <td>8,627</td>\n",
       "      <td>8,643</td>\n",
       "      <td>8,678</td>\n",
       "      <td>8,665</td>\n",
       "      <td>-13</td>\n",
       "      <td>82</td>\n",
       "      <td>207</td>\n",
       "    </tr>\n",
       "    <tr>\n",
       "      <td>3</td>\n",
       "      <td>서울</td>\n",
       "      <td>NaN</td>\n",
       "      <td>18,189</td>\n",
       "      <td>17,925</td>\n",
       "      <td>17,925</td>\n",
       "      <td>18,016</td>\n",
       "      <td>18,098</td>\n",
       "      <td>19,446</td>\n",
       "      <td>18,867</td>\n",
       "      <td>18,742</td>\n",
       "      <td>...</td>\n",
       "      <td>19,415</td>\n",
       "      <td>18,842</td>\n",
       "      <td>18,367</td>\n",
       "      <td>18,374</td>\n",
       "      <td>18,152</td>\n",
       "      <td>18,443</td>\n",
       "      <td>17,969</td>\n",
       "      <td>-474</td>\n",
       "      <td>-2,300</td>\n",
       "      <td>-1,434</td>\n",
       "    </tr>\n",
       "    <tr>\n",
       "      <td>4</td>\n",
       "      <td>6대광역시</td>\n",
       "      <td>부산</td>\n",
       "      <td>8,111</td>\n",
       "      <td>8,111</td>\n",
       "      <td>9,078</td>\n",
       "      <td>8,965</td>\n",
       "      <td>9,402</td>\n",
       "      <td>9,501</td>\n",
       "      <td>9,453</td>\n",
       "      <td>9,457</td>\n",
       "      <td>...</td>\n",
       "      <td>9,279</td>\n",
       "      <td>9,327</td>\n",
       "      <td>9,345</td>\n",
       "      <td>9,515</td>\n",
       "      <td>9,559</td>\n",
       "      <td>9,581</td>\n",
       "      <td>9,608</td>\n",
       "      <td>1</td>\n",
       "      <td>430</td>\n",
       "      <td>477</td>\n",
       "    </tr>\n",
       "    <tr>\n",
       "      <td>5</td>\n",
       "      <td>NaN</td>\n",
       "      <td>대구</td>\n",
       "      <td>8,080</td>\n",
       "      <td>8,080</td>\n",
       "      <td>8,077</td>\n",
       "      <td>8,101</td>\n",
       "      <td>8,267</td>\n",
       "      <td>8,274</td>\n",
       "      <td>8,360</td>\n",
       "      <td>8,360</td>\n",
       "      <td>...</td>\n",
       "      <td>8,441</td>\n",
       "      <td>8,446</td>\n",
       "      <td>8,568</td>\n",
       "      <td>8,542</td>\n",
       "      <td>8,542</td>\n",
       "      <td>8,795</td>\n",
       "      <td>8,863</td>\n",
       "      <td>27</td>\n",
       "      <td>400</td>\n",
       "      <td>350</td>\n",
       "    </tr>\n",
       "    <tr>\n",
       "      <td>6</td>\n",
       "      <td>NaN</td>\n",
       "      <td>인천</td>\n",
       "      <td>10,204</td>\n",
       "      <td>10,204</td>\n",
       "      <td>10,408</td>\n",
       "      <td>10,408</td>\n",
       "      <td>10,000</td>\n",
       "      <td>9,844</td>\n",
       "      <td>10,058</td>\n",
       "      <td>9,974</td>\n",
       "      <td>...</td>\n",
       "      <td>9,876</td>\n",
       "      <td>9,938</td>\n",
       "      <td>10,551</td>\n",
       "      <td>10,443</td>\n",
       "      <td>10,443</td>\n",
       "      <td>10,449</td>\n",
       "      <td>10,450</td>\n",
       "      <td>-162</td>\n",
       "      <td>-150</td>\n",
       "      <td>-131</td>\n",
       "    </tr>\n",
       "    <tr>\n",
       "      <td>7</td>\n",
       "      <td>NaN</td>\n",
       "      <td>광주</td>\n",
       "      <td>6,098</td>\n",
       "      <td>7,326</td>\n",
       "      <td>7,611</td>\n",
       "      <td>7,346</td>\n",
       "      <td>7,346</td>\n",
       "      <td>7,523</td>\n",
       "      <td>7,659</td>\n",
       "      <td>7,612</td>\n",
       "      <td>...</td>\n",
       "      <td>7,861</td>\n",
       "      <td>7,914</td>\n",
       "      <td>7,877</td>\n",
       "      <td>7,881</td>\n",
       "      <td>8,089</td>\n",
       "      <td>8,231</td>\n",
       "      <td>8,083</td>\n",
       "      <td>-148</td>\n",
       "      <td>334</td>\n",
       "      <td>281</td>\n",
       "    </tr>\n",
       "    <tr>\n",
       "      <td>8</td>\n",
       "      <td>NaN</td>\n",
       "      <td>대전</td>\n",
       "      <td>8,321</td>\n",
       "      <td>8,321</td>\n",
       "      <td>8,321</td>\n",
       "      <td>8,341</td>\n",
       "      <td>8,341</td>\n",
       "      <td>8,341</td>\n",
       "      <td>8,333</td>\n",
       "      <td>8,333</td>\n",
       "      <td>...</td>\n",
       "      <td>8,067</td>\n",
       "      <td>8,145</td>\n",
       "      <td>8,272</td>\n",
       "      <td>8,079</td>\n",
       "      <td>8,079</td>\n",
       "      <td>8,079</td>\n",
       "      <td>7,917</td>\n",
       "      <td>68</td>\n",
       "      <td>610</td>\n",
       "      <td>414</td>\n",
       "    </tr>\n",
       "    <tr>\n",
       "      <td>9</td>\n",
       "      <td>NaN</td>\n",
       "      <td>울산</td>\n",
       "      <td>8,090</td>\n",
       "      <td>8,090</td>\n",
       "      <td>8,090</td>\n",
       "      <td>8,153</td>\n",
       "      <td>8,153</td>\n",
       "      <td>8,153</td>\n",
       "      <td>8,153</td>\n",
       "      <td>8,153</td>\n",
       "      <td>...</td>\n",
       "      <td>8,629</td>\n",
       "      <td>9,380</td>\n",
       "      <td>9,192</td>\n",
       "      <td>9,190</td>\n",
       "      <td>9,190</td>\n",
       "      <td>9,215</td>\n",
       "      <td>9,215</td>\n",
       "      <td>0</td>\n",
       "      <td>324</td>\n",
       "      <td>722</td>\n",
       "    </tr>\n",
       "    <tr>\n",
       "      <td>10</td>\n",
       "      <td>NaN</td>\n",
       "      <td>NaN</td>\n",
       "      <td>8,151</td>\n",
       "      <td>8,355</td>\n",
       "      <td>8,597</td>\n",
       "      <td>8,552</td>\n",
       "      <td>8,585</td>\n",
       "      <td>8,606</td>\n",
       "      <td>8,669</td>\n",
       "      <td>8,648</td>\n",
       "      <td>...</td>\n",
       "      <td>8,692</td>\n",
       "      <td>8,858</td>\n",
       "      <td>8,967</td>\n",
       "      <td>8,942</td>\n",
       "      <td>8,984</td>\n",
       "      <td>9,058</td>\n",
       "      <td>9,023</td>\n",
       "      <td>-36</td>\n",
       "      <td>325</td>\n",
       "      <td>352</td>\n",
       "    </tr>\n",
       "    <tr>\n",
       "      <td>11</td>\n",
       "      <td>경기</td>\n",
       "      <td>NaN</td>\n",
       "      <td>10,855</td>\n",
       "      <td>10,855</td>\n",
       "      <td>10,791</td>\n",
       "      <td>10,784</td>\n",
       "      <td>10,876</td>\n",
       "      <td>10,646</td>\n",
       "      <td>10,266</td>\n",
       "      <td>10,124</td>\n",
       "      <td>...</td>\n",
       "      <td>10,469</td>\n",
       "      <td>10,684</td>\n",
       "      <td>10,685</td>\n",
       "      <td>10,573</td>\n",
       "      <td>10,518</td>\n",
       "      <td>10,573</td>\n",
       "      <td>10,341</td>\n",
       "      <td>-232</td>\n",
       "      <td>-38</td>\n",
       "      <td>-160</td>\n",
       "    </tr>\n",
       "    <tr>\n",
       "      <td>12</td>\n",
       "      <td>수도권</td>\n",
       "      <td>NaN</td>\n",
       "      <td>13,083</td>\n",
       "      <td>12,995</td>\n",
       "      <td>13,041</td>\n",
       "      <td>13,069</td>\n",
       "      <td>12,991</td>\n",
       "      <td>13,312</td>\n",
       "      <td>13,064</td>\n",
       "      <td>12,947</td>\n",
       "      <td>...</td>\n",
       "      <td>13,253</td>\n",
       "      <td>13,155</td>\n",
       "      <td>13,201</td>\n",
       "      <td>13,130</td>\n",
       "      <td>13,038</td>\n",
       "      <td>13,155</td>\n",
       "      <td>12,920</td>\n",
       "      <td>-235</td>\n",
       "      <td>-636</td>\n",
       "      <td>-373</td>\n",
       "    </tr>\n",
       "    <tr>\n",
       "      <td>13</td>\n",
       "      <td>세종</td>\n",
       "      <td>NaN</td>\n",
       "      <td>7,601</td>\n",
       "      <td>7,600</td>\n",
       "      <td>7,532</td>\n",
       "      <td>7,814</td>\n",
       "      <td>7,908</td>\n",
       "      <td>7,934</td>\n",
       "      <td>8,067</td>\n",
       "      <td>8,067</td>\n",
       "      <td>...</td>\n",
       "      <td>8,555</td>\n",
       "      <td>8,546</td>\n",
       "      <td>8,546</td>\n",
       "      <td>8,671</td>\n",
       "      <td>8,669</td>\n",
       "      <td>8,695</td>\n",
       "      <td>8,715</td>\n",
       "      <td>20</td>\n",
       "      <td>155</td>\n",
       "      <td>434</td>\n",
       "    </tr>\n",
       "    <tr>\n",
       "      <td>14</td>\n",
       "      <td>지방</td>\n",
       "      <td>강원</td>\n",
       "      <td>6,230</td>\n",
       "      <td>6,230</td>\n",
       "      <td>6,230</td>\n",
       "      <td>6,141</td>\n",
       "      <td>6,373</td>\n",
       "      <td>6,350</td>\n",
       "      <td>6,350</td>\n",
       "      <td>6,268</td>\n",
       "      <td>...</td>\n",
       "      <td>6,182</td>\n",
       "      <td>6,924</td>\n",
       "      <td>6,846</td>\n",
       "      <td>6,986</td>\n",
       "      <td>7,019</td>\n",
       "      <td>7,008</td>\n",
       "      <td>7,121</td>\n",
       "      <td>113</td>\n",
       "      <td>756</td>\n",
       "      <td>702</td>\n",
       "    </tr>\n",
       "    <tr>\n",
       "      <td>15</td>\n",
       "      <td>NaN</td>\n",
       "      <td>충북</td>\n",
       "      <td>6,589</td>\n",
       "      <td>6,589</td>\n",
       "      <td>6,611</td>\n",
       "      <td>6,625</td>\n",
       "      <td>6,678</td>\n",
       "      <td>6,598</td>\n",
       "      <td>6,587</td>\n",
       "      <td>6,586</td>\n",
       "      <td>...</td>\n",
       "      <td>6,783</td>\n",
       "      <td>6,790</td>\n",
       "      <td>6,805</td>\n",
       "      <td>6,682</td>\n",
       "      <td>6,601</td>\n",
       "      <td>6,603</td>\n",
       "      <td>6,606</td>\n",
       "      <td>3</td>\n",
       "      <td>-137</td>\n",
       "      <td>22</td>\n",
       "    </tr>\n",
       "    <tr>\n",
       "      <td>16</td>\n",
       "      <td>NaN</td>\n",
       "      <td>충남</td>\n",
       "      <td>6,365</td>\n",
       "      <td>6,365</td>\n",
       "      <td>6,379</td>\n",
       "      <td>6,287</td>\n",
       "      <td>6,552</td>\n",
       "      <td>6,591</td>\n",
       "      <td>6,644</td>\n",
       "      <td>6,805</td>\n",
       "      <td>...</td>\n",
       "      <td>7,161</td>\n",
       "      <td>7,017</td>\n",
       "      <td>6,975</td>\n",
       "      <td>6,939</td>\n",
       "      <td>6,935</td>\n",
       "      <td>6,942</td>\n",
       "      <td>6,939</td>\n",
       "      <td>-3</td>\n",
       "      <td>-50</td>\n",
       "      <td>57</td>\n",
       "    </tr>\n",
       "    <tr>\n",
       "      <td>17</td>\n",
       "      <td>NaN</td>\n",
       "      <td>전북</td>\n",
       "      <td>6,282</td>\n",
       "      <td>6,281</td>\n",
       "      <td>5,946</td>\n",
       "      <td>5,966</td>\n",
       "      <td>6,277</td>\n",
       "      <td>6,306</td>\n",
       "      <td>6,351</td>\n",
       "      <td>6,319</td>\n",
       "      <td>...</td>\n",
       "      <td>6,542</td>\n",
       "      <td>6,551</td>\n",
       "      <td>6,556</td>\n",
       "      <td>6,601</td>\n",
       "      <td>6,750</td>\n",
       "      <td>6,580</td>\n",
       "      <td>6,885</td>\n",
       "      <td>304</td>\n",
       "      <td>301</td>\n",
       "      <td>165</td>\n",
       "    </tr>\n",
       "    <tr>\n",
       "      <td>18</td>\n",
       "      <td>NaN</td>\n",
       "      <td>전남</td>\n",
       "      <td>5,678</td>\n",
       "      <td>5,678</td>\n",
       "      <td>5,678</td>\n",
       "      <td>5,696</td>\n",
       "      <td>5,736</td>\n",
       "      <td>5,656</td>\n",
       "      <td>5,609</td>\n",
       "      <td>5,780</td>\n",
       "      <td>...</td>\n",
       "      <td>5,825</td>\n",
       "      <td>5,940</td>\n",
       "      <td>6,050</td>\n",
       "      <td>6,243</td>\n",
       "      <td>6,286</td>\n",
       "      <td>6,289</td>\n",
       "      <td>6,245</td>\n",
       "      <td>-43</td>\n",
       "      <td>461</td>\n",
       "      <td>441</td>\n",
       "    </tr>\n",
       "    <tr>\n",
       "      <td>19</td>\n",
       "      <td>NaN</td>\n",
       "      <td>경북</td>\n",
       "      <td>6,168</td>\n",
       "      <td>6,168</td>\n",
       "      <td>6,234</td>\n",
       "      <td>6,317</td>\n",
       "      <td>6,412</td>\n",
       "      <td>6,409</td>\n",
       "      <td>6,554</td>\n",
       "      <td>6,556</td>\n",
       "      <td>...</td>\n",
       "      <td>6,997</td>\n",
       "      <td>7,006</td>\n",
       "      <td>6,966</td>\n",
       "      <td>6,887</td>\n",
       "      <td>7,035</td>\n",
       "      <td>7,037</td>\n",
       "      <td>7,029</td>\n",
       "      <td>-9</td>\n",
       "      <td>39</td>\n",
       "      <td>451</td>\n",
       "    </tr>\n",
       "    <tr>\n",
       "      <td>20</td>\n",
       "      <td>NaN</td>\n",
       "      <td>경남</td>\n",
       "      <td>6,473</td>\n",
       "      <td>6,485</td>\n",
       "      <td>6,502</td>\n",
       "      <td>6,610</td>\n",
       "      <td>6,599</td>\n",
       "      <td>6,610</td>\n",
       "      <td>6,615</td>\n",
       "      <td>6,613</td>\n",
       "      <td>...</td>\n",
       "      <td>7,668</td>\n",
       "      <td>7,683</td>\n",
       "      <td>7,717</td>\n",
       "      <td>7,715</td>\n",
       "      <td>7,723</td>\n",
       "      <td>7,665</td>\n",
       "      <td>7,947</td>\n",
       "      <td>282</td>\n",
       "      <td>615</td>\n",
       "      <td>1,179</td>\n",
       "    </tr>\n",
       "    <tr>\n",
       "      <td>21</td>\n",
       "      <td>NaN</td>\n",
       "      <td>제주</td>\n",
       "      <td>7,674</td>\n",
       "      <td>7,900</td>\n",
       "      <td>7,900</td>\n",
       "      <td>7,900</td>\n",
       "      <td>7,900</td>\n",
       "      <td>7,900</td>\n",
       "      <td>7,914</td>\n",
       "      <td>7,914</td>\n",
       "      <td>...</td>\n",
       "      <td>7,826</td>\n",
       "      <td>7,285</td>\n",
       "      <td>7,285</td>\n",
       "      <td>7,343</td>\n",
       "      <td>7,343</td>\n",
       "      <td>7,343</td>\n",
       "      <td>7,379</td>\n",
       "      <td>36</td>\n",
       "      <td>-360</td>\n",
       "      <td>-453</td>\n",
       "    </tr>\n",
       "    <tr>\n",
       "      <td>22</td>\n",
       "      <td>NaN</td>\n",
       "      <td>NaN</td>\n",
       "      <td>6,432</td>\n",
       "      <td>6,462</td>\n",
       "      <td>6,435</td>\n",
       "      <td>6,443</td>\n",
       "      <td>6,566</td>\n",
       "      <td>6,552</td>\n",
       "      <td>6,578</td>\n",
       "      <td>6,605</td>\n",
       "      <td>...</td>\n",
       "      <td>6,873</td>\n",
       "      <td>6,899</td>\n",
       "      <td>6,900</td>\n",
       "      <td>6,925</td>\n",
       "      <td>6,961</td>\n",
       "      <td>6,933</td>\n",
       "      <td>7,019</td>\n",
       "      <td>85</td>\n",
       "      <td>203</td>\n",
       "      <td>321</td>\n",
       "    </tr>\n",
       "  </tbody>\n",
       "</table>\n",
       "<p>21 rows × 27 columns</p>\n",
       "</div>"
      ],
      "text/plain": [
       "0      구분  시군구 2013년 12월 2014년 1월 2014년 2월 2014년 3월 2014년 4월 2014년 5월  \\\n",
       "2      전국  NaN     8,059    8,130    8,195    8,204    8,289    8,358   \n",
       "3      서울  NaN    18,189   17,925   17,925   18,016   18,098   19,446   \n",
       "4   6대광역시   부산     8,111    8,111    9,078    8,965    9,402    9,501   \n",
       "5     NaN   대구     8,080    8,080    8,077    8,101    8,267    8,274   \n",
       "6     NaN   인천    10,204   10,204   10,408   10,408   10,000    9,844   \n",
       "7     NaN   광주     6,098    7,326    7,611    7,346    7,346    7,523   \n",
       "8     NaN   대전     8,321    8,321    8,321    8,341    8,341    8,341   \n",
       "9     NaN   울산     8,090    8,090    8,090    8,153    8,153    8,153   \n",
       "10    NaN  NaN     8,151    8,355    8,597    8,552    8,585    8,606   \n",
       "11     경기  NaN    10,855   10,855   10,791   10,784   10,876   10,646   \n",
       "12    수도권  NaN    13,083   12,995   13,041   13,069   12,991   13,312   \n",
       "13     세종  NaN     7,601    7,600    7,532    7,814    7,908    7,934   \n",
       "14     지방   강원     6,230    6,230    6,230    6,141    6,373    6,350   \n",
       "15    NaN   충북     6,589    6,589    6,611    6,625    6,678    6,598   \n",
       "16    NaN   충남     6,365    6,365    6,379    6,287    6,552    6,591   \n",
       "17    NaN   전북     6,282    6,281    5,946    5,966    6,277    6,306   \n",
       "18    NaN   전남     5,678    5,678    5,678    5,696    5,736    5,656   \n",
       "19    NaN   경북     6,168    6,168    6,234    6,317    6,412    6,409   \n",
       "20    NaN   경남     6,473    6,485    6,502    6,610    6,599    6,610   \n",
       "21    NaN   제주     7,674    7,900    7,900    7,900    7,900    7,900   \n",
       "22    NaN  NaN     6,432    6,462    6,435    6,443    6,566    6,552   \n",
       "\n",
       "0  2014년 6월 2014년 7월  ... 2015년 3월 2015년 4월 2015년 5월 2015년 6월 2015년 7월  \\\n",
       "2     8,344    8,333  ...    8,563    8,613    8,624    8,627    8,643   \n",
       "3    18,867   18,742  ...   19,415   18,842   18,367   18,374   18,152   \n",
       "4     9,453    9,457  ...    9,279    9,327    9,345    9,515    9,559   \n",
       "5     8,360    8,360  ...    8,441    8,446    8,568    8,542    8,542   \n",
       "6    10,058    9,974  ...    9,876    9,938   10,551   10,443   10,443   \n",
       "7     7,659    7,612  ...    7,861    7,914    7,877    7,881    8,089   \n",
       "8     8,333    8,333  ...    8,067    8,145    8,272    8,079    8,079   \n",
       "9     8,153    8,153  ...    8,629    9,380    9,192    9,190    9,190   \n",
       "10    8,669    8,648  ...    8,692    8,858    8,967    8,942    8,984   \n",
       "11   10,266   10,124  ...   10,469   10,684   10,685   10,573   10,518   \n",
       "12   13,064   12,947  ...   13,253   13,155   13,201   13,130   13,038   \n",
       "13    8,067    8,067  ...    8,555    8,546    8,546    8,671    8,669   \n",
       "14    6,350    6,268  ...    6,182    6,924    6,846    6,986    7,019   \n",
       "15    6,587    6,586  ...    6,783    6,790    6,805    6,682    6,601   \n",
       "16    6,644    6,805  ...    7,161    7,017    6,975    6,939    6,935   \n",
       "17    6,351    6,319  ...    6,542    6,551    6,556    6,601    6,750   \n",
       "18    5,609    5,780  ...    5,825    5,940    6,050    6,243    6,286   \n",
       "19    6,554    6,556  ...    6,997    7,006    6,966    6,887    7,035   \n",
       "20    6,615    6,613  ...    7,668    7,683    7,717    7,715    7,723   \n",
       "21    7,914    7,914  ...    7,826    7,285    7,285    7,343    7,343   \n",
       "22    6,578    6,605  ...    6,873    6,899    6,900    6,925    6,961   \n",
       "\n",
       "0  2015년 8월 2015년 9월 2015년 전월비 2015년 전년말비 2015년 전년동월비  \n",
       "2     8,678    8,665      -13         82         207   \n",
       "3    18,443   17,969     -474     -2,300      -1,434   \n",
       "4     9,581    9,608        1        430         477   \n",
       "5     8,795    8,863       27        400         350   \n",
       "6    10,449   10,450     -162       -150        -131   \n",
       "7     8,231    8,083     -148        334         281   \n",
       "8     8,079    7,917       68        610         414   \n",
       "9     9,215    9,215        0        324         722   \n",
       "10    9,058    9,023      -36        325         352   \n",
       "11   10,573   10,341     -232        -38        -160   \n",
       "12   13,155   12,920     -235       -636        -373   \n",
       "13    8,695    8,715       20        155         434   \n",
       "14    7,008    7,121      113        756         702   \n",
       "15    6,603    6,606        3       -137          22   \n",
       "16    6,942    6,939       -3        -50          57   \n",
       "17    6,580    6,885      304        301         165   \n",
       "18    6,289    6,245      -43        461         441   \n",
       "19    7,037    7,029       -9         39         451   \n",
       "20    7,665    7,947      282        615       1,179   \n",
       "21    7,343    7,379       36       -360        -453   \n",
       "22    6,933    7,019       85        203         321   \n",
       "\n",
       "[21 rows x 27 columns]"
      ]
     },
     "execution_count": 139,
     "metadata": {},
     "output_type": "execute_result"
    }
   ],
   "source": [
    "df = df.drop(df.index[[0, 1]])\n",
    "df"
   ]
  },
  {
   "cell_type": "code",
   "execution_count": 145,
   "metadata": {},
   "outputs": [
    {
     "data": {
      "text/plain": [
       "Index(['지역명', '규모구분', '연도', '월', '분양가격(㎡)', '분양가격', '평당분양가격'], dtype='object')"
      ]
     },
     "execution_count": 145,
     "metadata": {},
     "output_type": "execute_result"
    }
   ],
   "source": [
    "# 최근 데이터 컬럼명 보기\n",
    "pre_sale.columns"
   ]
  },
  {
   "cell_type": "code",
   "execution_count": 146,
   "metadata": {},
   "outputs": [],
   "source": [
    "# 결측치를 빈문자로 채움\n",
    "df['구분'] = df['구분'].fillna('')\n",
    "df['시군구'] = df['시군구'].fillna('')"
   ]
  },
  {
   "cell_type": "code",
   "execution_count": 147,
   "metadata": {},
   "outputs": [
    {
     "data": {
      "text/plain": [
       "2          전국\n",
       "3          서울\n",
       "4     6대광역시부산\n",
       "5          대구\n",
       "6          인천\n",
       "7          광주\n",
       "8          대전\n",
       "9          울산\n",
       "10           \n",
       "11         경기\n",
       "12        수도권\n",
       "13         세종\n",
       "14       지방강원\n",
       "15         충북\n",
       "16         충남\n",
       "17         전북\n",
       "18         전남\n",
       "19         경북\n",
       "20         경남\n",
       "21         제주\n",
       "22           \n",
       "Name: 지역, dtype: object"
      ]
     },
     "execution_count": 147,
     "metadata": {},
     "output_type": "execute_result"
    }
   ],
   "source": [
    "df['지역'] = df['구분'] + df['시군구']\n",
    "df['지역']"
   ]
  },
  {
   "cell_type": "code",
   "execution_count": 148,
   "metadata": {},
   "outputs": [
    {
     "data": {
      "text/plain": [
       "Index(['구분', '시군구', '2013년 12월', '2014년 1월', '2014년 2월', '2014년 3월',\n",
       "       '2014년 4월', '2014년 5월', '2014년 6월', '2014년 7월', '2014년 8월', '2014년 9월',\n",
       "       '2014년 10월', '2014년 11월', '2014년 12월', '2015년 1월', '2015년 2월',\n",
       "       '2015년 3월', '2015년 4월', '2015년 5월', '2015년 6월', '2015년 7월', '2015년 8월',\n",
       "       '2015년 9월', '2015년 전월비', '2015년 전년말비', '2015년 전년동월비', '지역'],\n",
       "      dtype='object', name=0)"
      ]
     },
     "execution_count": 148,
     "metadata": {},
     "output_type": "execute_result"
    }
   ],
   "source": [
    "melt_columns = df.columns.copy()\n",
    "melt_columns"
   ]
  },
  {
   "cell_type": "code",
   "execution_count": 150,
   "metadata": {},
   "outputs": [
    {
     "data": {
      "text/html": [
       "<div>\n",
       "<style scoped>\n",
       "    .dataframe tbody tr th:only-of-type {\n",
       "        vertical-align: middle;\n",
       "    }\n",
       "\n",
       "    .dataframe tbody tr th {\n",
       "        vertical-align: top;\n",
       "    }\n",
       "\n",
       "    .dataframe thead th {\n",
       "        text-align: right;\n",
       "    }\n",
       "</style>\n",
       "<table border=\"1\" class=\"dataframe\">\n",
       "  <thead>\n",
       "    <tr style=\"text-align: right;\">\n",
       "      <th></th>\n",
       "      <th>지역</th>\n",
       "      <th>0</th>\n",
       "      <th>value</th>\n",
       "    </tr>\n",
       "  </thead>\n",
       "  <tbody>\n",
       "    <tr>\n",
       "      <td>0</td>\n",
       "      <td>전국</td>\n",
       "      <td>2013년 12월</td>\n",
       "      <td>8,059</td>\n",
       "    </tr>\n",
       "    <tr>\n",
       "      <td>1</td>\n",
       "      <td>서울</td>\n",
       "      <td>2013년 12월</td>\n",
       "      <td>18,189</td>\n",
       "    </tr>\n",
       "    <tr>\n",
       "      <td>2</td>\n",
       "      <td>6대광역시부산</td>\n",
       "      <td>2013년 12월</td>\n",
       "      <td>8,111</td>\n",
       "    </tr>\n",
       "    <tr>\n",
       "      <td>3</td>\n",
       "      <td>대구</td>\n",
       "      <td>2013년 12월</td>\n",
       "      <td>8,080</td>\n",
       "    </tr>\n",
       "    <tr>\n",
       "      <td>4</td>\n",
       "      <td>인천</td>\n",
       "      <td>2013년 12월</td>\n",
       "      <td>10,204</td>\n",
       "    </tr>\n",
       "  </tbody>\n",
       "</table>\n",
       "</div>"
      ],
      "text/plain": [
       "        지역          0   value\n",
       "0       전국  2013년 12월   8,059\n",
       "1       서울  2013년 12월  18,189\n",
       "2  6대광역시부산  2013년 12월   8,111\n",
       "3       대구  2013년 12월   8,080\n",
       "4       인천  2013년 12월  10,204"
      ]
     },
     "execution_count": 150,
     "metadata": {},
     "output_type": "execute_result"
    }
   ],
   "source": [
    "df_2013_2015 = pd.melt(\n",
    "    df, id_vars=['지역'], value_vars=['2013년 12월', '2014년 1월', '2014년 2월', '2014년 3월', '2014년 4월', '2014년 5월',\n",
    "                                      '2014년 6월', '2014년 7월', '2014년 8월', '2014년 9월', '2014년 10월', '2014년 11월',\n",
    "                                      '2014년 12월', '2015년 1월', '2015년 2월', '2015년 3월', '2015년 4월', '2015년 5월',\n",
    "                                      '2015년 6월', '2015년 7월', '2015년 8월', '2015년 9월'])\n",
    "df_2013_2015.head()"
   ]
  },
  {
   "cell_type": "code",
   "execution_count": 151,
   "metadata": {},
   "outputs": [
    {
     "data": {
      "text/html": [
       "<div>\n",
       "<style scoped>\n",
       "    .dataframe tbody tr th:only-of-type {\n",
       "        vertical-align: middle;\n",
       "    }\n",
       "\n",
       "    .dataframe tbody tr th {\n",
       "        vertical-align: top;\n",
       "    }\n",
       "\n",
       "    .dataframe thead th {\n",
       "        text-align: right;\n",
       "    }\n",
       "</style>\n",
       "<table border=\"1\" class=\"dataframe\">\n",
       "  <thead>\n",
       "    <tr style=\"text-align: right;\">\n",
       "      <th></th>\n",
       "      <th>지역</th>\n",
       "      <th>기간</th>\n",
       "      <th>분양가</th>\n",
       "    </tr>\n",
       "  </thead>\n",
       "  <tbody>\n",
       "    <tr>\n",
       "      <td>0</td>\n",
       "      <td>전국</td>\n",
       "      <td>2013년 12월</td>\n",
       "      <td>8,059</td>\n",
       "    </tr>\n",
       "    <tr>\n",
       "      <td>1</td>\n",
       "      <td>서울</td>\n",
       "      <td>2013년 12월</td>\n",
       "      <td>18,189</td>\n",
       "    </tr>\n",
       "    <tr>\n",
       "      <td>2</td>\n",
       "      <td>6대광역시부산</td>\n",
       "      <td>2013년 12월</td>\n",
       "      <td>8,111</td>\n",
       "    </tr>\n",
       "    <tr>\n",
       "      <td>3</td>\n",
       "      <td>대구</td>\n",
       "      <td>2013년 12월</td>\n",
       "      <td>8,080</td>\n",
       "    </tr>\n",
       "    <tr>\n",
       "      <td>4</td>\n",
       "      <td>인천</td>\n",
       "      <td>2013년 12월</td>\n",
       "      <td>10,204</td>\n",
       "    </tr>\n",
       "  </tbody>\n",
       "</table>\n",
       "</div>"
      ],
      "text/plain": [
       "        지역         기간     분양가\n",
       "0       전국  2013년 12월   8,059\n",
       "1       서울  2013년 12월  18,189\n",
       "2  6대광역시부산  2013년 12월   8,111\n",
       "3       대구  2013년 12월   8,080\n",
       "4       인천  2013년 12월  10,204"
      ]
     },
     "execution_count": 151,
     "metadata": {},
     "output_type": "execute_result"
    }
   ],
   "source": [
    "df_2013_2015.columns = ['지역', '기간', '분양가']\n",
    "df_2013_2015.head()"
   ]
  },
  {
   "cell_type": "code",
   "execution_count": 153,
   "metadata": {},
   "outputs": [],
   "source": [
    "# lambda 함수를 사용한 칼럼 생성\n",
    "df_2013_2015['연도'] = df_2013_2015['기간'].apply(\n",
    "    lambda year_month: year_month.split('년')[0])\n",
    "df_2013_2015['월'] = df_2013_2015['기간'].apply(\n",
    "    lambda year_month: re.sub('월', '', year_month.split('년')[1]).strip())"
   ]
  },
  {
   "cell_type": "code",
   "execution_count": 155,
   "metadata": {},
   "outputs": [
    {
     "data": {
      "text/html": [
       "<div>\n",
       "<style scoped>\n",
       "    .dataframe tbody tr th:only-of-type {\n",
       "        vertical-align: middle;\n",
       "    }\n",
       "\n",
       "    .dataframe tbody tr th {\n",
       "        vertical-align: top;\n",
       "    }\n",
       "\n",
       "    .dataframe thead th {\n",
       "        text-align: right;\n",
       "    }\n",
       "</style>\n",
       "<table border=\"1\" class=\"dataframe\">\n",
       "  <thead>\n",
       "    <tr style=\"text-align: right;\">\n",
       "      <th></th>\n",
       "      <th>지역</th>\n",
       "      <th>기간</th>\n",
       "      <th>분양가</th>\n",
       "      <th>연도</th>\n",
       "      <th>월</th>\n",
       "    </tr>\n",
       "  </thead>\n",
       "  <tbody>\n",
       "    <tr>\n",
       "      <td>0</td>\n",
       "      <td>전국</td>\n",
       "      <td>2013년 12월</td>\n",
       "      <td>8,059</td>\n",
       "      <td>2013</td>\n",
       "      <td>12</td>\n",
       "    </tr>\n",
       "    <tr>\n",
       "      <td>1</td>\n",
       "      <td>서울</td>\n",
       "      <td>2013년 12월</td>\n",
       "      <td>18,189</td>\n",
       "      <td>2013</td>\n",
       "      <td>12</td>\n",
       "    </tr>\n",
       "    <tr>\n",
       "      <td>2</td>\n",
       "      <td>6대광역시부산</td>\n",
       "      <td>2013년 12월</td>\n",
       "      <td>8,111</td>\n",
       "      <td>2013</td>\n",
       "      <td>12</td>\n",
       "    </tr>\n",
       "    <tr>\n",
       "      <td>3</td>\n",
       "      <td>대구</td>\n",
       "      <td>2013년 12월</td>\n",
       "      <td>8,080</td>\n",
       "      <td>2013</td>\n",
       "      <td>12</td>\n",
       "    </tr>\n",
       "    <tr>\n",
       "      <td>4</td>\n",
       "      <td>인천</td>\n",
       "      <td>2013년 12월</td>\n",
       "      <td>10,204</td>\n",
       "      <td>2013</td>\n",
       "      <td>12</td>\n",
       "    </tr>\n",
       "  </tbody>\n",
       "</table>\n",
       "</div>"
      ],
      "text/plain": [
       "        지역         기간     분양가    연도   월\n",
       "0       전국  2013년 12월   8,059  2013  12\n",
       "1       서울  2013년 12월  18,189  2013  12\n",
       "2  6대광역시부산  2013년 12월   8,111  2013  12\n",
       "3       대구  2013년 12월   8,080  2013  12\n",
       "4       인천  2013년 12월  10,204  2013  12"
      ]
     },
     "execution_count": 155,
     "metadata": {},
     "output_type": "execute_result"
    }
   ],
   "source": [
    "df_2013_2015.head()"
   ]
  },
  {
   "cell_type": "markdown",
   "metadata": {},
   "source": [
    "### 지역명 강원과 부산 정리"
   ]
  },
  {
   "cell_type": "code",
   "execution_count": 160,
   "metadata": {},
   "outputs": [
    {
     "data": {
      "text/plain": [
       "           44\n",
       "충북         22\n",
       "전국         22\n",
       "제주         22\n",
       "경북         22\n",
       "전북         22\n",
       "대구         22\n",
       "전남         22\n",
       "서울         22\n",
       "수도권        22\n",
       "경기         22\n",
       "세종         22\n",
       "경남         22\n",
       "광주         22\n",
       "6대광역시부산    22\n",
       "충남         22\n",
       "대전         22\n",
       "지방강원       22\n",
       "인천         22\n",
       "울산         22\n",
       "Name: 지역, dtype: int64"
      ]
     },
     "execution_count": 160,
     "metadata": {},
     "output_type": "execute_result"
    }
   ],
   "source": [
    "df_2013_2015['지역'].value_counts()"
   ]
  },
  {
   "cell_type": "code",
   "execution_count": 162,
   "metadata": {},
   "outputs": [
    {
     "data": {
      "text/plain": [
       "       44\n",
       "충북     22\n",
       "전국     22\n",
       "제주     22\n",
       "경북     22\n",
       "전북     22\n",
       "대구     22\n",
       "강원     22\n",
       "전남     22\n",
       "서울     22\n",
       "경기     22\n",
       "울산     22\n",
       "세종     22\n",
       "부산     22\n",
       "경남     22\n",
       "광주     22\n",
       "충남     22\n",
       "대전     22\n",
       "인천     22\n",
       "수도권    22\n",
       "Name: 지역, dtype: int64"
      ]
     },
     "execution_count": 162,
     "metadata": {},
     "output_type": "execute_result"
    }
   ],
   "source": [
    "df_2013_2015['지역'] = df_2013_2015['지역'].replace('6대광역시부산', '부산')\n",
    "df_2013_2015['지역'] = df_2013_2015['지역'].replace('지방강원', '강원')\n",
    "\n",
    "# 그룹화하여 카운트 함\n",
    "df_2013_2015['지역'].value_counts()"
   ]
  },
  {
   "cell_type": "code",
   "execution_count": 163,
   "metadata": {},
   "outputs": [
    {
     "data": {
      "text/html": [
       "<div>\n",
       "<style scoped>\n",
       "    .dataframe tbody tr th:only-of-type {\n",
       "        vertical-align: middle;\n",
       "    }\n",
       "\n",
       "    .dataframe tbody tr th {\n",
       "        vertical-align: top;\n",
       "    }\n",
       "\n",
       "    .dataframe thead th {\n",
       "        text-align: right;\n",
       "    }\n",
       "</style>\n",
       "<table border=\"1\" class=\"dataframe\">\n",
       "  <thead>\n",
       "    <tr style=\"text-align: right;\">\n",
       "      <th></th>\n",
       "      <th>지역</th>\n",
       "      <th>기간</th>\n",
       "      <th>분양가</th>\n",
       "      <th>연도</th>\n",
       "      <th>월</th>\n",
       "    </tr>\n",
       "  </thead>\n",
       "  <tbody>\n",
       "    <tr>\n",
       "      <td>count</td>\n",
       "      <td>462</td>\n",
       "      <td>462</td>\n",
       "      <td>462</td>\n",
       "      <td>462</td>\n",
       "      <td>462</td>\n",
       "    </tr>\n",
       "    <tr>\n",
       "      <td>unique</td>\n",
       "      <td>20</td>\n",
       "      <td>22</td>\n",
       "      <td>371</td>\n",
       "      <td>3</td>\n",
       "      <td>12</td>\n",
       "    </tr>\n",
       "    <tr>\n",
       "      <td>top</td>\n",
       "      <td></td>\n",
       "      <td>2015년 2월</td>\n",
       "      <td>8,067</td>\n",
       "      <td>2014</td>\n",
       "      <td>5</td>\n",
       "    </tr>\n",
       "    <tr>\n",
       "      <td>freq</td>\n",
       "      <td>44</td>\n",
       "      <td>21</td>\n",
       "      <td>7</td>\n",
       "      <td>252</td>\n",
       "      <td>42</td>\n",
       "    </tr>\n",
       "  </tbody>\n",
       "</table>\n",
       "</div>"
      ],
      "text/plain": [
       "         지역        기간    분양가    연도    월\n",
       "count   462       462    462   462  462\n",
       "unique   20        22    371     3   12\n",
       "top          2015년 2월  8,067  2014    5\n",
       "freq     44        21      7   252   42"
      ]
     },
     "execution_count": 163,
     "metadata": {},
     "output_type": "execute_result"
    }
   ],
   "source": [
    "df_2013_2015.describe()"
   ]
  },
  {
   "cell_type": "code",
   "execution_count": 164,
   "metadata": {},
   "outputs": [
    {
     "name": "stdout",
     "output_type": "stream",
     "text": [
      "<class 'pandas.core.frame.DataFrame'>\n",
      "RangeIndex: 462 entries, 0 to 461\n",
      "Data columns (total 5 columns):\n",
      "지역     462 non-null object\n",
      "기간     462 non-null object\n",
      "분양가    462 non-null object\n",
      "연도     462 non-null object\n",
      "월      462 non-null object\n",
      "dtypes: object(5)\n",
      "memory usage: 18.2+ KB\n"
     ]
    }
   ],
   "source": [
    "df_2013_2015.info()"
   ]
  },
  {
   "cell_type": "code",
   "execution_count": 166,
   "metadata": {},
   "outputs": [],
   "source": [
    "# 분양가에 있는 ,를 제거함\n",
    "df_2013_2015['분양가격'] = df_2013_2015['분양가'].str.replace(',', '').astype(int)"
   ]
  },
  {
   "cell_type": "markdown",
   "metadata": {},
   "source": [
    "### 2013년 12월부터 2015년 9월까지의 데이터 시각화하기"
   ]
  },
  {
   "cell_type": "code",
   "execution_count": 168,
   "metadata": {},
   "outputs": [
    {
     "data": {
      "image/png": "[encoded data removed]",
      "text/plain": [
       "<Figure size 1296x432 with 1 Axes>"
      ]
     },
     "metadata": {},
     "output_type": "display_data"
    }
   ],
   "source": [
    "plt.figure(figsize=(18, 6))\n",
    "sns.boxplot(data=df_2013_2015, x='지역', y='분양가격', hue='연도');"
   ]
  },
  {
   "cell_type": "code",
   "execution_count": 170,
   "metadata": {},
   "outputs": [
    {
     "data": {
      "image/png": "[encoded data removed]",
      "text/plain": [
       "<Figure size 1296x432 with 1 Axes>"
      ]
     },
     "metadata": {},
     "output_type": "display_data"
    }
   ],
   "source": [
    "plt.figure(figsize=(18, 6))\n",
    "sns.barplot(data=df_2013_2015, x='지역', y='분양가격', hue='연도');"
   ]
  },
  {
   "cell_type": "code",
   "execution_count": 179,
   "metadata": {},
   "outputs": [
    {
     "data": {
      "text/plain": [
       "지역      0\n",
       "기간      0\n",
       "분양가     0\n",
       "연도      0\n",
       "월       0\n",
       "분양가격    0\n",
       "dtype: int64"
      ]
     },
     "execution_count": 179,
     "metadata": {},
     "output_type": "execute_result"
    }
   ],
   "source": [
    "df_2013_2015.isnull().sum()"
   ]
  },
  {
   "cell_type": "markdown",
   "metadata": {},
   "source": [
    "### 이제 2013년부터 2019년까지 데이터를 합칠 준비가 됨"
   ]
  },
  {
   "cell_type": "code",
   "execution_count": 180,
   "metadata": {},
   "outputs": [
    {
     "name": "stdout",
     "output_type": "stream",
     "text": [
      "(462, 6)\n"
     ]
    },
    {
     "data": {
      "text/html": [
       "<div>\n",
       "<style scoped>\n",
       "    .dataframe tbody tr th:only-of-type {\n",
       "        vertical-align: middle;\n",
       "    }\n",
       "\n",
       "    .dataframe tbody tr th {\n",
       "        vertical-align: top;\n",
       "    }\n",
       "\n",
       "    .dataframe thead th {\n",
       "        text-align: right;\n",
       "    }\n",
       "</style>\n",
       "<table border=\"1\" class=\"dataframe\">\n",
       "  <thead>\n",
       "    <tr style=\"text-align: right;\">\n",
       "      <th></th>\n",
       "      <th>지역명</th>\n",
       "      <th>규모구분</th>\n",
       "      <th>연도</th>\n",
       "      <th>월</th>\n",
       "      <th>분양가격(㎡)</th>\n",
       "      <th>분양가격</th>\n",
       "      <th>평당분양가격</th>\n",
       "    </tr>\n",
       "  </thead>\n",
       "  <tbody>\n",
       "    <tr>\n",
       "      <td>0</td>\n",
       "      <td>서울</td>\n",
       "      <td>전체</td>\n",
       "      <td>2015</td>\n",
       "      <td>10</td>\n",
       "      <td>5841</td>\n",
       "      <td>5,841</td>\n",
       "      <td>19275</td>\n",
       "    </tr>\n",
       "    <tr>\n",
       "      <td>5</td>\n",
       "      <td>인천</td>\n",
       "      <td>전체</td>\n",
       "      <td>2015</td>\n",
       "      <td>10</td>\n",
       "      <td>3163</td>\n",
       "      <td>3,163</td>\n",
       "      <td>10437</td>\n",
       "    </tr>\n",
       "    <tr>\n",
       "      <td>10</td>\n",
       "      <td>경기</td>\n",
       "      <td>전체</td>\n",
       "      <td>2015</td>\n",
       "      <td>10</td>\n",
       "      <td>3138</td>\n",
       "      <td>3,138</td>\n",
       "      <td>10355</td>\n",
       "    </tr>\n",
       "    <tr>\n",
       "      <td>15</td>\n",
       "      <td>부산</td>\n",
       "      <td>전체</td>\n",
       "      <td>2015</td>\n",
       "      <td>10</td>\n",
       "      <td>3112</td>\n",
       "      <td>3,112</td>\n",
       "      <td>10269</td>\n",
       "    </tr>\n",
       "    <tr>\n",
       "      <td>20</td>\n",
       "      <td>대구</td>\n",
       "      <td>전체</td>\n",
       "      <td>2015</td>\n",
       "      <td>10</td>\n",
       "      <td>2682</td>\n",
       "      <td>2,682</td>\n",
       "      <td>8850</td>\n",
       "    </tr>\n",
       "    <tr>\n",
       "      <td>...</td>\n",
       "      <td>...</td>\n",
       "      <td>...</td>\n",
       "      <td>...</td>\n",
       "      <td>...</td>\n",
       "      <td>...</td>\n",
       "      <td>...</td>\n",
       "      <td>...</td>\n",
       "    </tr>\n",
       "    <tr>\n",
       "      <td>4310</td>\n",
       "      <td>전북</td>\n",
       "      <td>전체</td>\n",
       "      <td>2019</td>\n",
       "      <td>12</td>\n",
       "      <td>2468</td>\n",
       "      <td>2,468</td>\n",
       "      <td>8144</td>\n",
       "    </tr>\n",
       "    <tr>\n",
       "      <td>4315</td>\n",
       "      <td>전남</td>\n",
       "      <td>전체</td>\n",
       "      <td>2019</td>\n",
       "      <td>12</td>\n",
       "      <td>2452</td>\n",
       "      <td>2,452</td>\n",
       "      <td>8091</td>\n",
       "    </tr>\n",
       "    <tr>\n",
       "      <td>4320</td>\n",
       "      <td>경북</td>\n",
       "      <td>전체</td>\n",
       "      <td>2019</td>\n",
       "      <td>12</td>\n",
       "      <td>2914</td>\n",
       "      <td>2,914</td>\n",
       "      <td>9616</td>\n",
       "    </tr>\n",
       "    <tr>\n",
       "      <td>4325</td>\n",
       "      <td>경남</td>\n",
       "      <td>전체</td>\n",
       "      <td>2019</td>\n",
       "      <td>12</td>\n",
       "      <td>3063</td>\n",
       "      <td>3,063</td>\n",
       "      <td>10107</td>\n",
       "    </tr>\n",
       "    <tr>\n",
       "      <td>4330</td>\n",
       "      <td>제주</td>\n",
       "      <td>전체</td>\n",
       "      <td>2019</td>\n",
       "      <td>12</td>\n",
       "      <td>3882</td>\n",
       "      <td>3,882</td>\n",
       "      <td>12810</td>\n",
       "    </tr>\n",
       "  </tbody>\n",
       "</table>\n",
       "<p>841 rows × 7 columns</p>\n",
       "</div>"
      ],
      "text/plain": [
       "     지역명 규모구분    연도   월 분양가격(㎡)  분양가격  평당분양가격\n",
       "0     서울   전체  2015  10    5841 5,841   19275\n",
       "5     인천   전체  2015  10    3163 3,163   10437\n",
       "10    경기   전체  2015  10    3138 3,138   10355\n",
       "15    부산   전체  2015  10    3112 3,112   10269\n",
       "20    대구   전체  2015  10    2682 2,682    8850\n",
       "...   ..  ...   ...  ..     ...   ...     ...\n",
       "4310  전북   전체  2019  12    2468 2,468    8144\n",
       "4315  전남   전체  2019  12    2452 2,452    8091\n",
       "4320  경북   전체  2019  12    2914 2,914    9616\n",
       "4325  경남   전체  2019  12    3063 3,063   10107\n",
       "4330  제주   전체  2019  12    3882 3,882   12810\n",
       "\n",
       "[841 rows x 7 columns]"
      ]
     },
     "execution_count": 180,
     "metadata": {},
     "output_type": "execute_result"
    }
   ],
   "source": [
    "df_2015_2019 = pre_sale[pre_sale['규모구분'] == '전체']\n",
    "print(df_2013_2015.shape)\n",
    "df_2015_2019"
   ]
  },
  {
   "cell_type": "code",
   "execution_count": 181,
   "metadata": {},
   "outputs": [
    {
     "data": {
      "text/plain": [
       "Index(['지역', '기간', '분양가', '연도', '월', '분양가격'], dtype='object')"
      ]
     },
     "execution_count": 181,
     "metadata": {},
     "output_type": "execute_result"
    }
   ],
   "source": [
    "df_2013_2015.columns"
   ]
  },
  {
   "cell_type": "code",
   "execution_count": 182,
   "metadata": {},
   "outputs": [
    {
     "data": {
      "text/html": [
       "<div>\n",
       "<style scoped>\n",
       "    .dataframe tbody tr th:only-of-type {\n",
       "        vertical-align: middle;\n",
       "    }\n",
       "\n",
       "    .dataframe tbody tr th {\n",
       "        vertical-align: top;\n",
       "    }\n",
       "\n",
       "    .dataframe thead th {\n",
       "        text-align: right;\n",
       "    }\n",
       "</style>\n",
       "<table border=\"1\" class=\"dataframe\">\n",
       "  <thead>\n",
       "    <tr style=\"text-align: right;\">\n",
       "      <th></th>\n",
       "      <th>지역</th>\n",
       "      <th>연도</th>\n",
       "      <th>월</th>\n",
       "      <th>분양가격</th>\n",
       "    </tr>\n",
       "  </thead>\n",
       "  <tbody>\n",
       "    <tr>\n",
       "      <td>0</td>\n",
       "      <td>전국</td>\n",
       "      <td>2013</td>\n",
       "      <td>12</td>\n",
       "      <td>8059</td>\n",
       "    </tr>\n",
       "    <tr>\n",
       "      <td>1</td>\n",
       "      <td>서울</td>\n",
       "      <td>2013</td>\n",
       "      <td>12</td>\n",
       "      <td>18189</td>\n",
       "    </tr>\n",
       "    <tr>\n",
       "      <td>2</td>\n",
       "      <td>부산</td>\n",
       "      <td>2013</td>\n",
       "      <td>12</td>\n",
       "      <td>8111</td>\n",
       "    </tr>\n",
       "    <tr>\n",
       "      <td>3</td>\n",
       "      <td>대구</td>\n",
       "      <td>2013</td>\n",
       "      <td>12</td>\n",
       "      <td>8080</td>\n",
       "    </tr>\n",
       "    <tr>\n",
       "      <td>4</td>\n",
       "      <td>인천</td>\n",
       "      <td>2013</td>\n",
       "      <td>12</td>\n",
       "      <td>10204</td>\n",
       "    </tr>\n",
       "  </tbody>\n",
       "</table>\n",
       "</div>"
      ],
      "text/plain": [
       "   지역    연도   월   분양가격\n",
       "0  전국  2013  12   8059\n",
       "1  서울  2013  12  18189\n",
       "2  부산  2013  12   8111\n",
       "3  대구  2013  12   8080\n",
       "4  인천  2013  12  10204"
      ]
     },
     "execution_count": 182,
     "metadata": {},
     "output_type": "execute_result"
    }
   ],
   "source": [
    "df_2013_2015_prepare = df_2013_2015[['지역', '연도', '월', '분양가격']]\n",
    "df_2013_2015_prepare.head()"
   ]
  },
  {
   "cell_type": "code",
   "execution_count": 183,
   "metadata": {},
   "outputs": [],
   "source": [
    "df_2013_2015_prepare.columns = ['지역명', '연도', '월', '평당분양가격']"
   ]
  },
  {
   "cell_type": "code",
   "execution_count": 184,
   "metadata": {},
   "outputs": [
    {
     "data": {
      "text/plain": [
       "Index(['지역명', '규모구분', '연도', '월', '분양가격(㎡)', '분양가격', '평당분양가격'], dtype='object')"
      ]
     },
     "execution_count": 184,
     "metadata": {},
     "output_type": "execute_result"
    }
   ],
   "source": [
    "df_2015_2019.columns"
   ]
  },
  {
   "cell_type": "code",
   "execution_count": 185,
   "metadata": {},
   "outputs": [
    {
     "data": {
      "text/html": [
       "<div>\n",
       "<style scoped>\n",
       "    .dataframe tbody tr th:only-of-type {\n",
       "        vertical-align: middle;\n",
       "    }\n",
       "\n",
       "    .dataframe tbody tr th {\n",
       "        vertical-align: top;\n",
       "    }\n",
       "\n",
       "    .dataframe thead th {\n",
       "        text-align: right;\n",
       "    }\n",
       "</style>\n",
       "<table border=\"1\" class=\"dataframe\">\n",
       "  <thead>\n",
       "    <tr style=\"text-align: right;\">\n",
       "      <th></th>\n",
       "      <th>지역명</th>\n",
       "      <th>연도</th>\n",
       "      <th>월</th>\n",
       "      <th>평당분양가격</th>\n",
       "    </tr>\n",
       "  </thead>\n",
       "  <tbody>\n",
       "    <tr>\n",
       "      <td>0</td>\n",
       "      <td>서울</td>\n",
       "      <td>2015</td>\n",
       "      <td>10</td>\n",
       "      <td>19275</td>\n",
       "    </tr>\n",
       "    <tr>\n",
       "      <td>5</td>\n",
       "      <td>인천</td>\n",
       "      <td>2015</td>\n",
       "      <td>10</td>\n",
       "      <td>10437</td>\n",
       "    </tr>\n",
       "    <tr>\n",
       "      <td>10</td>\n",
       "      <td>경기</td>\n",
       "      <td>2015</td>\n",
       "      <td>10</td>\n",
       "      <td>10355</td>\n",
       "    </tr>\n",
       "    <tr>\n",
       "      <td>15</td>\n",
       "      <td>부산</td>\n",
       "      <td>2015</td>\n",
       "      <td>10</td>\n",
       "      <td>10269</td>\n",
       "    </tr>\n",
       "    <tr>\n",
       "      <td>20</td>\n",
       "      <td>대구</td>\n",
       "      <td>2015</td>\n",
       "      <td>10</td>\n",
       "      <td>8850</td>\n",
       "    </tr>\n",
       "  </tbody>\n",
       "</table>\n",
       "</div>"
      ],
      "text/plain": [
       "   지역명    연도   월  평당분양가격\n",
       "0   서울  2015  10   19275\n",
       "5   인천  2015  10   10437\n",
       "10  경기  2015  10   10355\n",
       "15  부산  2015  10   10269\n",
       "20  대구  2015  10    8850"
      ]
     },
     "execution_count": 185,
     "metadata": {},
     "output_type": "execute_result"
    }
   ],
   "source": [
    "df_2015_2019_prepare = df_2015_2019[['지역명', '연도', '월', '평당분양가격']]\n",
    "df_2015_2019_prepare.head()"
   ]
  },
  {
   "cell_type": "code",
   "execution_count": 186,
   "metadata": {},
   "outputs": [
    {
     "data": {
      "text/html": [
       "<div>\n",
       "<style scoped>\n",
       "    .dataframe tbody tr th:only-of-type {\n",
       "        vertical-align: middle;\n",
       "    }\n",
       "\n",
       "    .dataframe tbody tr th {\n",
       "        vertical-align: top;\n",
       "    }\n",
       "\n",
       "    .dataframe thead th {\n",
       "        text-align: right;\n",
       "    }\n",
       "</style>\n",
       "<table border=\"1\" class=\"dataframe\">\n",
       "  <thead>\n",
       "    <tr style=\"text-align: right;\">\n",
       "      <th></th>\n",
       "      <th>평당분양가격</th>\n",
       "    </tr>\n",
       "  </thead>\n",
       "  <tbody>\n",
       "    <tr>\n",
       "      <td>count</td>\n",
       "      <td>841</td>\n",
       "    </tr>\n",
       "    <tr>\n",
       "      <td>mean</td>\n",
       "      <td>10,276</td>\n",
       "    </tr>\n",
       "    <tr>\n",
       "      <td>std</td>\n",
       "      <td>3,739</td>\n",
       "    </tr>\n",
       "    <tr>\n",
       "      <td>min</td>\n",
       "      <td>6,299</td>\n",
       "    </tr>\n",
       "    <tr>\n",
       "      <td>25%</td>\n",
       "      <td>7,788</td>\n",
       "    </tr>\n",
       "    <tr>\n",
       "      <td>50%</td>\n",
       "      <td>9,527</td>\n",
       "    </tr>\n",
       "    <tr>\n",
       "      <td>75%</td>\n",
       "      <td>11,411</td>\n",
       "    </tr>\n",
       "    <tr>\n",
       "      <td>max</td>\n",
       "      <td>26,730</td>\n",
       "    </tr>\n",
       "  </tbody>\n",
       "</table>\n",
       "</div>"
      ],
      "text/plain": [
       "       평당분양가격\n",
       "count     841\n",
       "mean   10,276\n",
       "std     3,739\n",
       "min     6,299\n",
       "25%     7,788\n",
       "50%     9,527\n",
       "75%    11,411\n",
       "max    26,730"
      ]
     },
     "execution_count": 186,
     "metadata": {},
     "output_type": "execute_result"
    }
   ],
   "source": [
    "df_2015_2019_prepare.describe()"
   ]
  },
  {
   "cell_type": "code",
   "execution_count": 187,
   "metadata": {},
   "outputs": [
    {
     "data": {
      "text/plain": [
       "(1303, 4)"
      ]
     },
     "execution_count": 187,
     "metadata": {},
     "output_type": "execute_result"
    }
   ],
   "source": [
    "df_2013_2019 = pd.concat([df_2013_2015_prepare, df_2015_2019_prepare])\n",
    "df_2013_2019.shape"
   ]
  },
  {
   "cell_type": "code",
   "execution_count": 188,
   "metadata": {},
   "outputs": [
    {
     "data": {
      "text/html": [
       "<div>\n",
       "<style scoped>\n",
       "    .dataframe tbody tr th:only-of-type {\n",
       "        vertical-align: middle;\n",
       "    }\n",
       "\n",
       "    .dataframe tbody tr th {\n",
       "        vertical-align: top;\n",
       "    }\n",
       "\n",
       "    .dataframe thead th {\n",
       "        text-align: right;\n",
       "    }\n",
       "</style>\n",
       "<table border=\"1\" class=\"dataframe\">\n",
       "  <thead>\n",
       "    <tr style=\"text-align: right;\">\n",
       "      <th></th>\n",
       "      <th>지역명</th>\n",
       "      <th>연도</th>\n",
       "      <th>월</th>\n",
       "      <th>평당분양가격</th>\n",
       "    </tr>\n",
       "  </thead>\n",
       "  <tbody>\n",
       "    <tr>\n",
       "      <td>0</td>\n",
       "      <td>전국</td>\n",
       "      <td>2013</td>\n",
       "      <td>12</td>\n",
       "      <td>8059</td>\n",
       "    </tr>\n",
       "    <tr>\n",
       "      <td>1</td>\n",
       "      <td>서울</td>\n",
       "      <td>2013</td>\n",
       "      <td>12</td>\n",
       "      <td>18189</td>\n",
       "    </tr>\n",
       "    <tr>\n",
       "      <td>2</td>\n",
       "      <td>부산</td>\n",
       "      <td>2013</td>\n",
       "      <td>12</td>\n",
       "      <td>8111</td>\n",
       "    </tr>\n",
       "    <tr>\n",
       "      <td>3</td>\n",
       "      <td>대구</td>\n",
       "      <td>2013</td>\n",
       "      <td>12</td>\n",
       "      <td>8080</td>\n",
       "    </tr>\n",
       "    <tr>\n",
       "      <td>4</td>\n",
       "      <td>인천</td>\n",
       "      <td>2013</td>\n",
       "      <td>12</td>\n",
       "      <td>10204</td>\n",
       "    </tr>\n",
       "  </tbody>\n",
       "</table>\n",
       "</div>"
      ],
      "text/plain": [
       "  지역명    연도   월  평당분양가격\n",
       "0  전국  2013  12    8059\n",
       "1  서울  2013  12   18189\n",
       "2  부산  2013  12    8111\n",
       "3  대구  2013  12    8080\n",
       "4  인천  2013  12   10204"
      ]
     },
     "execution_count": 188,
     "metadata": {},
     "output_type": "execute_result"
    }
   ],
   "source": [
    "df_2013_2019.head()"
   ]
  },
  {
   "cell_type": "code",
   "execution_count": 189,
   "metadata": {},
   "outputs": [
    {
     "data": {
      "text/html": [
       "<div>\n",
       "<style scoped>\n",
       "    .dataframe tbody tr th:only-of-type {\n",
       "        vertical-align: middle;\n",
       "    }\n",
       "\n",
       "    .dataframe tbody tr th {\n",
       "        vertical-align: top;\n",
       "    }\n",
       "\n",
       "    .dataframe thead th {\n",
       "        text-align: right;\n",
       "    }\n",
       "</style>\n",
       "<table border=\"1\" class=\"dataframe\">\n",
       "  <thead>\n",
       "    <tr style=\"text-align: right;\">\n",
       "      <th></th>\n",
       "      <th>지역명</th>\n",
       "      <th>연도</th>\n",
       "      <th>월</th>\n",
       "      <th>평당분양가격</th>\n",
       "    </tr>\n",
       "  </thead>\n",
       "  <tbody>\n",
       "    <tr>\n",
       "      <td>4310</td>\n",
       "      <td>전북</td>\n",
       "      <td>2019</td>\n",
       "      <td>12</td>\n",
       "      <td>8144</td>\n",
       "    </tr>\n",
       "    <tr>\n",
       "      <td>4315</td>\n",
       "      <td>전남</td>\n",
       "      <td>2019</td>\n",
       "      <td>12</td>\n",
       "      <td>8091</td>\n",
       "    </tr>\n",
       "    <tr>\n",
       "      <td>4320</td>\n",
       "      <td>경북</td>\n",
       "      <td>2019</td>\n",
       "      <td>12</td>\n",
       "      <td>9616</td>\n",
       "    </tr>\n",
       "    <tr>\n",
       "      <td>4325</td>\n",
       "      <td>경남</td>\n",
       "      <td>2019</td>\n",
       "      <td>12</td>\n",
       "      <td>10107</td>\n",
       "    </tr>\n",
       "    <tr>\n",
       "      <td>4330</td>\n",
       "      <td>제주</td>\n",
       "      <td>2019</td>\n",
       "      <td>12</td>\n",
       "      <td>12810</td>\n",
       "    </tr>\n",
       "  </tbody>\n",
       "</table>\n",
       "</div>"
      ],
      "text/plain": [
       "     지역명    연도   월  평당분양가격\n",
       "4310  전북  2019  12    8144\n",
       "4315  전남  2019  12    8091\n",
       "4320  경북  2019  12    9616\n",
       "4325  경남  2019  12   10107\n",
       "4330  제주  2019  12   12810"
      ]
     },
     "execution_count": 189,
     "metadata": {},
     "output_type": "execute_result"
    }
   ],
   "source": [
    "df_2013_2019.tail()"
   ]
  },
  {
   "cell_type": "code",
   "execution_count": 190,
   "metadata": {},
   "outputs": [
    {
     "data": {
      "text/plain": [
       "array(['전국', '서울', '부산', '대구', '인천', '광주', '대전', '울산', '', '경기', '수도권',\n",
       "       '세종', '강원', '충북', '충남', '전북', '전남', '경북', '경남', '제주'], dtype=object)"
      ]
     },
     "execution_count": 190,
     "metadata": {},
     "output_type": "execute_result"
    }
   ],
   "source": [
    "df_2013_2015_region = df_2013_2015_prepare['지역명'].unique()\n",
    "df_2013_2015_region"
   ]
  },
  {
   "cell_type": "code",
   "execution_count": 191,
   "metadata": {},
   "outputs": [
    {
     "data": {
      "text/plain": [
       "array(['서울', '인천', '경기', '부산', '대구', '광주', '대전', '울산', '세종', '강원', '충북',\n",
       "       '충남', '전북', '전남', '경북', '경남', '제주'], dtype=object)"
      ]
     },
     "execution_count": 191,
     "metadata": {},
     "output_type": "execute_result"
    }
   ],
   "source": [
    "df_2015_2019_region = df_2015_2019_prepare['지역명'].unique()\n",
    "df_2015_2019_region"
   ]
  },
  {
   "cell_type": "code",
   "execution_count": 193,
   "metadata": {},
   "outputs": [
    {
     "data": {
      "text/plain": [
       "['전국', '', '수도권']"
      ]
     },
     "execution_count": 193,
     "metadata": {},
     "output_type": "execute_result"
    }
   ],
   "source": [
    "exclude_region = [region for region in df_2013_2015_region if not region in df_2015_2019_region]\n",
    "exclude_region"
   ]
  },
  {
   "cell_type": "code",
   "execution_count": 194,
   "metadata": {},
   "outputs": [
    {
     "data": {
      "text/plain": [
       "(1303, 4)"
      ]
     },
     "execution_count": 194,
     "metadata": {},
     "output_type": "execute_result"
    }
   ],
   "source": [
    "df_2013_2019.shape"
   ]
  },
  {
   "cell_type": "code",
   "execution_count": 204,
   "metadata": {},
   "outputs": [
    {
     "data": {
      "text/html": [
       "<div>\n",
       "<style scoped>\n",
       "    .dataframe tbody tr th:only-of-type {\n",
       "        vertical-align: middle;\n",
       "    }\n",
       "\n",
       "    .dataframe tbody tr th {\n",
       "        vertical-align: top;\n",
       "    }\n",
       "\n",
       "    .dataframe thead th {\n",
       "        text-align: right;\n",
       "    }\n",
       "</style>\n",
       "<table border=\"1\" class=\"dataframe\">\n",
       "  <thead>\n",
       "    <tr style=\"text-align: right;\">\n",
       "      <th></th>\n",
       "      <th>지역명</th>\n",
       "      <th>연도</th>\n",
       "      <th>월</th>\n",
       "      <th>평당분양가격</th>\n",
       "    </tr>\n",
       "  </thead>\n",
       "  <tbody>\n",
       "    <tr>\n",
       "      <td>0</td>\n",
       "      <td>전국</td>\n",
       "      <td>2013</td>\n",
       "      <td>12</td>\n",
       "      <td>8059</td>\n",
       "    </tr>\n",
       "    <tr>\n",
       "      <td>10</td>\n",
       "      <td>수도권</td>\n",
       "      <td>2013</td>\n",
       "      <td>12</td>\n",
       "      <td>13083</td>\n",
       "    </tr>\n",
       "    <tr>\n",
       "      <td>21</td>\n",
       "      <td>전국</td>\n",
       "      <td>2014</td>\n",
       "      <td>1</td>\n",
       "      <td>8130</td>\n",
       "    </tr>\n",
       "    <tr>\n",
       "      <td>31</td>\n",
       "      <td>수도권</td>\n",
       "      <td>2014</td>\n",
       "      <td>1</td>\n",
       "      <td>12995</td>\n",
       "    </tr>\n",
       "    <tr>\n",
       "      <td>42</td>\n",
       "      <td>전국</td>\n",
       "      <td>2014</td>\n",
       "      <td>2</td>\n",
       "      <td>8195</td>\n",
       "    </tr>\n",
       "  </tbody>\n",
       "</table>\n",
       "</div>"
      ],
      "text/plain": [
       "    지역명    연도   월  평당분양가격\n",
       "0    전국  2013  12    8059\n",
       "10  수도권  2013  12   13083\n",
       "21   전국  2014   1    8130\n",
       "31  수도권  2014   1   12995\n",
       "42   전국  2014   2    8195"
      ]
     },
     "execution_count": 204,
     "metadata": {},
     "output_type": "execute_result"
    }
   ],
   "source": [
    "df_2013_2019.loc[df_2013_2019['지역명'].str.match('전국|수도권')].head()"
   ]
  },
  {
   "cell_type": "code",
   "execution_count": 205,
   "metadata": {},
   "outputs": [],
   "source": [
    "df_2013_2019.drop(\n",
    "    df_2013_2019.loc[df_2013_2019['지역명'].str.match('전국|수도권')].index,\n",
    "    axis=0,\n",
    "    inplace=True)\n",
    "df_2013_2019.drop(\n",
    "    df_2013_2019.loc[df_2013_2019['지역명'] == ''].index,\n",
    "    axis=0,\n",
    "    inplace=True)"
   ]
  },
  {
   "cell_type": "code",
   "execution_count": 206,
   "metadata": {},
   "outputs": [
    {
     "data": {
      "text/html": [
       "<div>\n",
       "<style scoped>\n",
       "    .dataframe tbody tr th:only-of-type {\n",
       "        vertical-align: middle;\n",
       "    }\n",
       "\n",
       "    .dataframe tbody tr th {\n",
       "        vertical-align: top;\n",
       "    }\n",
       "\n",
       "    .dataframe thead th {\n",
       "        text-align: right;\n",
       "    }\n",
       "</style>\n",
       "<table border=\"1\" class=\"dataframe\">\n",
       "  <thead>\n",
       "    <tr style=\"text-align: right;\">\n",
       "      <th></th>\n",
       "      <th>지역명</th>\n",
       "      <th>연도</th>\n",
       "      <th>월</th>\n",
       "      <th>평당분양가격</th>\n",
       "    </tr>\n",
       "  </thead>\n",
       "  <tbody>\n",
       "  </tbody>\n",
       "</table>\n",
       "</div>"
      ],
      "text/plain": [
       "Empty DataFrame\n",
       "Columns: [지역명, 연도, 월, 평당분양가격]\n",
       "Index: []"
      ]
     },
     "execution_count": 206,
     "metadata": {},
     "output_type": "execute_result"
    }
   ],
   "source": [
    "df_2013_2019.loc[df_2013_2019['지역명'].str.match('전국|수도권')].head()"
   ]
  },
  {
   "cell_type": "markdown",
   "metadata": {},
   "source": [
    "### 2013년 12월 ~ 2019년 전국 신규 민간 아파트 분양가격 동향 시각화"
   ]
  },
  {
   "cell_type": "code",
   "execution_count": 207,
   "metadata": {},
   "outputs": [
    {
     "data": {
      "text/plain": [
       "연도\n",
       "2013    8,059\n",
       "2014    8,362\n",
       "2015    8,667\n",
       "2016    9,321\n",
       "2017    9,901\n",
       "2018   10,675\n",
       "2019   11,602\n",
       "Name: 평당분양가격, dtype: float64"
      ]
     },
     "execution_count": 207,
     "metadata": {},
     "output_type": "execute_result"
    }
   ],
   "source": [
    "# 판다스로 시각화하기\n",
    "df_year_mean = df_2013_2019.groupby(['연도'])['평당분양가격'].mean()\n",
    "df_year_mean"
   ]
  },
  {
   "cell_type": "code",
   "execution_count": 209,
   "metadata": {},
   "outputs": [
    {
     "data": {
      "image/png": "[encoded data removed]",
      "text/plain": [
       "<Figure size 432x288 with 1 Axes>"
      ]
     },
     "metadata": {},
     "output_type": "display_data"
    }
   ],
   "source": [
    "df_year_mean.plot.bar(rot=0);"
   ]
  },
  {
   "cell_type": "code",
   "execution_count": 210,
   "metadata": {},
   "outputs": [
    {
     "data": {
      "image/png": "[encoded data removed]",
      "text/plain": [
       "<Figure size 432x288 with 1 Axes>"
      ]
     },
     "metadata": {},
     "output_type": "display_data"
    }
   ],
   "source": [
    "sns.barplot(data=df_2013_2019, x='연도', y='평당분양가격');"
   ]
  },
  {
   "cell_type": "code",
   "execution_count": 214,
   "metadata": {},
   "outputs": [
    {
     "data": {
      "image/png": "[encoded data removed]",
      "text/plain": [
       "<Figure size 864x432 with 1 Axes>"
      ]
     },
     "metadata": {},
     "output_type": "display_data"
    }
   ],
   "source": [
    "df_2013_2019[['연도', '평당분양가격']].boxplot(by=['연도'], figsize=(12, 6));"
   ]
  },
  {
   "cell_type": "code",
   "execution_count": 215,
   "metadata": {},
   "outputs": [
    {
     "data": {
      "image/png": "[encoded data removed]",
      "text/plain": [
       "<Figure size 864x432 with 1 Axes>"
      ]
     },
     "metadata": {},
     "output_type": "display_data"
    }
   ],
   "source": [
    "df_2013_2019[['지역명', '평당분양가격']].boxplot(by=['지역명'], figsize=(12, 6));"
   ]
  },
  {
   "cell_type": "code",
   "execution_count": 216,
   "metadata": {},
   "outputs": [
    {
     "data": {
      "image/png": "[encoded data removed]",
      "text/plain": [
       "<Figure size 864x432 with 1 Axes>"
      ]
     },
     "metadata": {},
     "output_type": "display_data"
    }
   ],
   "source": [
    "df_2013_2019_jeju = df_2013_2019[df_2013_2019['지역명'] == '제주']\n",
    "df_2013_2019_jeju[['연도', '평당분양가격']].boxplot(by=['연도'], figsize=(12, 6));"
   ]
  },
  {
   "cell_type": "code",
   "execution_count": 217,
   "metadata": {},
   "outputs": [
    {
     "data": {
      "text/plain": [
       "2019    12\n",
       "2015    12\n",
       "2014    12\n",
       "2018    12\n",
       "2017    11\n",
       "2016    10\n",
       "2013     1\n",
       "Name: 연도, dtype: int64"
      ]
     },
     "execution_count": 217,
     "metadata": {},
     "output_type": "execute_result"
    }
   ],
   "source": [
    "df_2013_2019_jeju['연도'].value_counts()"
   ]
  },
  {
   "cell_type": "code",
   "execution_count": null,
   "metadata": {},
   "outputs": [],
   "source": []
  }
 ],
 "metadata": {
  "kernelspec": {
   "display_name": "Python 3",
   "language": "python",
   "name": "python3"
  },
  "language_info": {
   "codemirror_mode": {
    "name": "ipython",
    "version": 3
   },
   "file_extension": ".py",
   "mimetype": "text/x-python",
   "name": "python",
   "nbconvert_exporter": "python",
   "pygments_lexer": "ipython3",
   "version": "3.7.4"
  }
 },
 "nbformat": 4,
 "nbformat_minor": 2
}
